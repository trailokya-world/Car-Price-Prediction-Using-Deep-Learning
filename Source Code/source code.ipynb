{
 "cells": [
  {
   "cell_type": "code",
   "execution_count": 256,
   "id": "b9deb4d4",
   "metadata": {},
   "outputs": [],
   "source": [
    "import pandas as pd\n",
    "import numpy as np\n",
    "import matplotlib.pyplot as plt\n",
    "import seaborn as sns\n",
    "import tensorflow as tf"
   ]
  },
  {
   "cell_type": "code",
   "execution_count": 257,
   "id": "151d9c6e",
   "metadata": {},
   "outputs": [
    {
     "data": {
      "text/html": [
       "<div>\n",
       "<style scoped>\n",
       "    .dataframe tbody tr th:only-of-type {\n",
       "        vertical-align: middle;\n",
       "    }\n",
       "\n",
       "    .dataframe tbody tr th {\n",
       "        vertical-align: top;\n",
       "    }\n",
       "\n",
       "    .dataframe thead th {\n",
       "        text-align: right;\n",
       "    }\n",
       "</style>\n",
       "<table border=\"1\" class=\"dataframe\">\n",
       "  <thead>\n",
       "    <tr style=\"text-align: right;\">\n",
       "      <th></th>\n",
       "      <th>v.id</th>\n",
       "      <th>on road old</th>\n",
       "      <th>on road now</th>\n",
       "      <th>years</th>\n",
       "      <th>km</th>\n",
       "      <th>rating</th>\n",
       "      <th>condition</th>\n",
       "      <th>economy</th>\n",
       "      <th>top speed</th>\n",
       "      <th>hp</th>\n",
       "      <th>torque</th>\n",
       "      <th>current price</th>\n",
       "    </tr>\n",
       "  </thead>\n",
       "  <tbody>\n",
       "    <tr>\n",
       "      <th>0</th>\n",
       "      <td>1</td>\n",
       "      <td>535651</td>\n",
       "      <td>798186</td>\n",
       "      <td>3</td>\n",
       "      <td>78945</td>\n",
       "      <td>1</td>\n",
       "      <td>2</td>\n",
       "      <td>14</td>\n",
       "      <td>177</td>\n",
       "      <td>73</td>\n",
       "      <td>123</td>\n",
       "      <td>351318.0</td>\n",
       "    </tr>\n",
       "    <tr>\n",
       "      <th>1</th>\n",
       "      <td>2</td>\n",
       "      <td>591911</td>\n",
       "      <td>861056</td>\n",
       "      <td>6</td>\n",
       "      <td>117220</td>\n",
       "      <td>5</td>\n",
       "      <td>9</td>\n",
       "      <td>9</td>\n",
       "      <td>148</td>\n",
       "      <td>74</td>\n",
       "      <td>95</td>\n",
       "      <td>285001.5</td>\n",
       "    </tr>\n",
       "    <tr>\n",
       "      <th>2</th>\n",
       "      <td>3</td>\n",
       "      <td>686990</td>\n",
       "      <td>770762</td>\n",
       "      <td>2</td>\n",
       "      <td>132538</td>\n",
       "      <td>2</td>\n",
       "      <td>8</td>\n",
       "      <td>15</td>\n",
       "      <td>181</td>\n",
       "      <td>53</td>\n",
       "      <td>97</td>\n",
       "      <td>215386.0</td>\n",
       "    </tr>\n",
       "    <tr>\n",
       "      <th>3</th>\n",
       "      <td>4</td>\n",
       "      <td>573999</td>\n",
       "      <td>722381</td>\n",
       "      <td>4</td>\n",
       "      <td>101065</td>\n",
       "      <td>4</td>\n",
       "      <td>3</td>\n",
       "      <td>11</td>\n",
       "      <td>197</td>\n",
       "      <td>54</td>\n",
       "      <td>116</td>\n",
       "      <td>244295.5</td>\n",
       "    </tr>\n",
       "    <tr>\n",
       "      <th>4</th>\n",
       "      <td>5</td>\n",
       "      <td>691388</td>\n",
       "      <td>811335</td>\n",
       "      <td>6</td>\n",
       "      <td>61559</td>\n",
       "      <td>3</td>\n",
       "      <td>9</td>\n",
       "      <td>12</td>\n",
       "      <td>160</td>\n",
       "      <td>53</td>\n",
       "      <td>105</td>\n",
       "      <td>531114.5</td>\n",
       "    </tr>\n",
       "  </tbody>\n",
       "</table>\n",
       "</div>"
      ],
      "text/plain": [
       "   v.id  on road old  on road now  years      km  rating  condition  economy  \\\n",
       "0     1       535651       798186      3   78945       1          2       14   \n",
       "1     2       591911       861056      6  117220       5          9        9   \n",
       "2     3       686990       770762      2  132538       2          8       15   \n",
       "3     4       573999       722381      4  101065       4          3       11   \n",
       "4     5       691388       811335      6   61559       3          9       12   \n",
       "\n",
       "   top speed  hp  torque  current price  \n",
       "0        177  73     123       351318.0  \n",
       "1        148  74      95       285001.5  \n",
       "2        181  53      97       215386.0  \n",
       "3        197  54     116       244295.5  \n",
       "4        160  53     105       531114.5  "
      ]
     },
     "execution_count": 257,
     "metadata": {},
     "output_type": "execute_result"
    }
   ],
   "source": [
    "data = pd.read_csv(\"C:\\\\Users\\\\PAWAN\\\\Downloads\\\\train.csv\")\n",
    "data.head()"
   ]
  },
  {
   "cell_type": "code",
   "execution_count": 258,
   "id": "095b4e5f",
   "metadata": {},
   "outputs": [
    {
     "data": {
      "text/plain": [
       "(1000, 12)"
      ]
     },
     "execution_count": 258,
     "metadata": {},
     "output_type": "execute_result"
    }
   ],
   "source": [
    "data.shape"
   ]
  },
  {
   "cell_type": "code",
   "execution_count": 259,
   "id": "18cbfcd9",
   "metadata": {},
   "outputs": [
    {
     "name": "stdout",
     "output_type": "stream",
     "text": [
      "<class 'pandas.core.frame.DataFrame'>\n",
      "RangeIndex: 1000 entries, 0 to 999\n",
      "Data columns (total 12 columns):\n",
      " #   Column         Non-Null Count  Dtype  \n",
      "---  ------         --------------  -----  \n",
      " 0   v.id           1000 non-null   int64  \n",
      " 1   on road old    1000 non-null   int64  \n",
      " 2   on road now    1000 non-null   int64  \n",
      " 3   years          1000 non-null   int64  \n",
      " 4   km             1000 non-null   int64  \n",
      " 5   rating         1000 non-null   int64  \n",
      " 6   condition      1000 non-null   int64  \n",
      " 7   economy        1000 non-null   int64  \n",
      " 8   top speed      1000 non-null   int64  \n",
      " 9   hp             1000 non-null   int64  \n",
      " 10  torque         1000 non-null   int64  \n",
      " 11  current price  1000 non-null   float64\n",
      "dtypes: float64(1), int64(11)\n",
      "memory usage: 93.9 KB\n"
     ]
    }
   ],
   "source": [
    "data.info()"
   ]
  },
  {
   "cell_type": "code",
   "execution_count": 260,
   "id": "a76fc11d",
   "metadata": {},
   "outputs": [
    {
     "data": {
      "text/plain": [
       "v.id             0\n",
       "on road old      0\n",
       "on road now      0\n",
       "years            0\n",
       "km               0\n",
       "rating           0\n",
       "condition        0\n",
       "economy          0\n",
       "top speed        0\n",
       "hp               0\n",
       "torque           0\n",
       "current price    0\n",
       "dtype: int64"
      ]
     },
     "execution_count": 260,
     "metadata": {},
     "output_type": "execute_result"
    }
   ],
   "source": [
    "data.isnull().sum()"
   ]
  },
  {
   "cell_type": "code",
   "execution_count": 261,
   "id": "a98cd5ed",
   "metadata": {},
   "outputs": [
    {
     "data": {
      "text/plain": [
       "Index(['v.id', 'on road old', 'on road now', 'years', 'km', 'rating',\n",
       "       'condition', 'economy', 'top speed', 'hp', 'torque', 'current price'],\n",
       "      dtype='object')"
      ]
     },
     "execution_count": 261,
     "metadata": {},
     "output_type": "execute_result"
    }
   ],
   "source": [
    "data.columns"
   ]
  },
  {
   "cell_type": "code",
   "execution_count": 262,
   "id": "ef945cd1",
   "metadata": {},
   "outputs": [],
   "source": [
    "pair_plot = data[['years', 'km', 'rating',\n",
    "       'condition', 'economy', 'top speed', 'hp', 'torque', 'current price']].corr()"
   ]
  },
  {
   "cell_type": "code",
   "execution_count": 263,
   "id": "c039ec1e",
   "metadata": {},
   "outputs": [
    {
     "data": {
      "image/png": "[encoded data removed]",
      "text/plain": [
       "<Figure size 640x480 with 2 Axes>"
      ]
     },
     "metadata": {},
     "output_type": "display_data"
    }
   ],
   "source": [
    "sns.heatmap(pair_plot)\n",
    "plt.show()"
   ]
  },
  {
   "cell_type": "code",
   "execution_count": 264,
   "id": "d4c8ffe8",
   "metadata": {},
   "outputs": [],
   "source": [
    "tensor_data = tf.constant(data, dtype= tf.dtypes.float32)\n",
    "tensor_data = tf.random.shuffle(tensor_data)"
   ]
  },
  {
   "cell_type": "code",
   "execution_count": 265,
   "id": "93193a6a",
   "metadata": {},
   "outputs": [
    {
     "name": "stdout",
     "output_type": "stream",
     "text": [
      "tf.Tensor(\n",
      "[[2.000000e+01 6.521720e+05 8.326720e+05 ... 7.300000e+01 8.600000e+01\n",
      "  1.968160e+05]\n",
      " [2.510000e+02 6.397840e+05 7.751970e+05 ... 1.150000e+02 1.220000e+02\n",
      "  4.577930e+05]\n",
      " [5.210000e+02 5.831130e+05 8.104350e+05 ... 5.100000e+01 7.500000e+01\n",
      "  4.304515e+05]\n",
      " ...\n",
      " [1.400000e+01 5.394060e+05 8.916270e+05 ... 1.180000e+02 1.070000e+02\n",
      "  3.735290e+05]\n",
      " [1.220000e+02 6.063270e+05 8.380770e+05 ... 1.100000e+02 7.200000e+01\n",
      "  4.823535e+05]\n",
      " [8.790000e+02 5.075490e+05 8.841780e+05 ... 5.300000e+01 9.700000e+01\n",
      "  4.455380e+05]], shape=(1000, 12), dtype=float32)\n"
     ]
    }
   ],
   "source": [
    "print(tensor_data)"
   ]
  },
  {
   "cell_type": "code",
   "execution_count": 266,
   "id": "12f9677b",
   "metadata": {},
   "outputs": [],
   "source": [
    "y=tensor_data[:,-1:]\n",
    "x=tensor_data[:,3:-1]\n"
   ]
  },
  {
   "cell_type": "code",
   "execution_count": 267,
   "id": "b33fa237",
   "metadata": {},
   "outputs": [
    {
     "data": {
      "text/plain": [
       "(800.0, 100.0, 100.0)"
      ]
     },
     "execution_count": 267,
     "metadata": {},
     "output_type": "execute_result"
    }
   ],
   "source": [
    "train_size = len(data) * 0.8\n",
    "test_size = len(data) * 0.1\n",
    "val_size = len(data) * 0.1\n",
    "\n",
    "train_size,test_size,val_size"
   ]
  },
  {
   "cell_type": "code",
   "execution_count": 268,
   "id": "810c8f66",
   "metadata": {},
   "outputs": [
    {
     "data": {
      "text/plain": [
       "(800, 100, 100)"
      ]
     },
     "execution_count": 268,
     "metadata": {},
     "output_type": "execute_result"
    }
   ],
   "source": [
    "x_train = tf.cast(x[:int(train_size)],tf.float32)\n",
    "x_test=tf.cast(x[int(train_size):int(train_size)+int(test_size)],tf.float32)\n",
    "x_val = tf.cast(x[int(train_size) + int(test_size):],tf.float32)\n",
    "\n",
    "\n",
    "len(x_train), len(x_test), len(x_val)"
   ]
  },
  {
   "cell_type": "code",
   "execution_count": 269,
   "id": "ebf9f5ba",
   "metadata": {},
   "outputs": [
    {
     "data": {
      "text/plain": [
       "(800, 100, 100)"
      ]
     },
     "execution_count": 269,
     "metadata": {},
     "output_type": "execute_result"
    }
   ],
   "source": [
    "y_train = tf.cast(y[:int(train_size)],tf.float32)\n",
    "y_test=tf.cast(y[int(train_size):int(train_size)+int(test_size)],tf.float32)\n",
    "y_val = tf.cast(y[int(train_size) + int(test_size):],tf.float32)\n",
    "\n",
    "\n",
    "len(y_train), len(y_test), len(y_val)"
   ]
  },
  {
   "cell_type": "code",
   "execution_count": 270,
   "id": "ada59e4c",
   "metadata": {},
   "outputs": [
    {
     "name": "stdout",
     "output_type": "stream",
     "text": [
      "0\n",
      "0\n"
     ]
    }
   ],
   "source": [
    "print(np.isinf(x).sum())\n",
    "print(np.isinf(y).sum())"
   ]
  },
  {
   "cell_type": "code",
   "execution_count": 271,
   "id": "df2ad2df",
   "metadata": {},
   "outputs": [
    {
     "name": "stderr",
     "output_type": "stream",
     "text": [
      "c:\\Users\\PAWAN\\anaconda3\\envs\\project\\Lib\\site-packages\\keras\\src\\layers\\preprocessing\\tf_data_layer.py:19: UserWarning: Do not pass an `input_shape`/`input_dim` argument to a layer. When using Sequential models, prefer using an `Input(shape)` object as the first layer in the model instead.\n",
      "  super().__init__(**kwargs)\n"
     ]
    }
   ],
   "source": [
    "from tensorflow.keras.layers import Normalization\n",
    "\n",
    "normalizer = Normalization(input_shape=(8,))\n",
    "\n",
    "normalizer.adapt(x_train)"
   ]
  },
  {
   "cell_type": "code",
   "execution_count": 272,
   "id": "76c7a2ea",
   "metadata": {},
   "outputs": [],
   "source": [
    "from keras.models import Sequential\n",
    "from keras.layers import Dense, InputLayer,Dropout"
   ]
  },
  {
   "cell_type": "code",
   "execution_count": 285,
   "id": "dcc65f72",
   "metadata": {},
   "outputs": [
    {
     "name": "stderr",
     "output_type": "stream",
     "text": [
      "c:\\Users\\PAWAN\\anaconda3\\envs\\project\\Lib\\site-packages\\keras\\src\\layers\\core\\input_layer.py:27: UserWarning: Argument `input_shape` is deprecated. Use `shape` instead.\n",
      "  warnings.warn(\n"
     ]
    }
   ],
   "source": [
    "# model= Sequential([\n",
    "    \n",
    "#     InputLayer(input_shape=(8,)),\n",
    "#     normalizer,\n",
    "#     Dense(128,activation=\"relu\"),\n",
    "#     Dense(64,activation=\"relu\"),\n",
    "#     Dense(32,activation=\"relu\"),\n",
    "#     Dense(16,activation=\"relu\"),\n",
    "#     Dense(1)\n",
    "    \n",
    "# ])\n",
    "\n",
    "model= Sequential([\n",
    "    \n",
    "    InputLayer(input_shape=(8,)),\n",
    "    normalizer,\n",
    "    Dense(32,activation=\"relu\"),\n",
    "    Dense(16,activation=\"relu\"),\n",
    "    Dense(1)\n",
    "    \n",
    "])"
   ]
  },
  {
   "cell_type": "code",
   "execution_count": 286,
   "id": "9329ba5d",
   "metadata": {},
   "outputs": [
    {
     "data": {
      "text/html": [
       "<pre style=\"white-space:pre;overflow-x:auto;line-height:normal;font-family:Menlo,'DejaVu Sans Mono',consolas,'Courier New',monospace\"><span style=\"font-weight: bold\">Model: \"sequential_15\"</span>\n",
       "</pre>\n"
      ],
      "text/plain": [
       "\u001b[1mModel: \"sequential_15\"\u001b[0m\n"
      ]
     },
     "metadata": {},
     "output_type": "display_data"
    },
    {
     "data": {
      "text/html": [
       "<pre style=\"white-space:pre;overflow-x:auto;line-height:normal;font-family:Menlo,'DejaVu Sans Mono',consolas,'Courier New',monospace\">┏━━━━━━━━━━━━━━━━━━━━━━━━━━━━━━━━━┳━━━━━━━━━━━━━━━━━━━━━━━━┳━━━━━━━━━━━━━━━┓\n",
       "┃<span style=\"font-weight: bold\"> Layer (type)                    </span>┃<span style=\"font-weight: bold\"> Output Shape           </span>┃<span style=\"font-weight: bold\">       Param # </span>┃\n",
       "┡━━━━━━━━━━━━━━━━━━━━━━━━━━━━━━━━━╇━━━━━━━━━━━━━━━━━━━━━━━━╇━━━━━━━━━━━━━━━┩\n",
       "│ normalization_10                │ (<span style=\"color: #00d7ff; text-decoration-color: #00d7ff\">None</span>, <span style=\"color: #00af00; text-decoration-color: #00af00\">8</span>)              │            <span style=\"color: #00af00; text-decoration-color: #00af00\">17</span> │\n",
       "│ (<span style=\"color: #0087ff; text-decoration-color: #0087ff\">Normalization</span>)                 │                        │               │\n",
       "├─────────────────────────────────┼────────────────────────┼───────────────┤\n",
       "│ dense_70 (<span style=\"color: #0087ff; text-decoration-color: #0087ff\">Dense</span>)                │ (<span style=\"color: #00d7ff; text-decoration-color: #00d7ff\">None</span>, <span style=\"color: #00af00; text-decoration-color: #00af00\">32</span>)             │           <span style=\"color: #00af00; text-decoration-color: #00af00\">288</span> │\n",
       "├─────────────────────────────────┼────────────────────────┼───────────────┤\n",
       "│ dense_71 (<span style=\"color: #0087ff; text-decoration-color: #0087ff\">Dense</span>)                │ (<span style=\"color: #00d7ff; text-decoration-color: #00d7ff\">None</span>, <span style=\"color: #00af00; text-decoration-color: #00af00\">16</span>)             │           <span style=\"color: #00af00; text-decoration-color: #00af00\">528</span> │\n",
       "├─────────────────────────────────┼────────────────────────┼───────────────┤\n",
       "│ dense_72 (<span style=\"color: #0087ff; text-decoration-color: #0087ff\">Dense</span>)                │ (<span style=\"color: #00d7ff; text-decoration-color: #00d7ff\">None</span>, <span style=\"color: #00af00; text-decoration-color: #00af00\">1</span>)              │            <span style=\"color: #00af00; text-decoration-color: #00af00\">17</span> │\n",
       "└─────────────────────────────────┴────────────────────────┴───────────────┘\n",
       "</pre>\n"
      ],
      "text/plain": [
       "┏━━━━━━━━━━━━━━━━━━━━━━━━━━━━━━━━━┳━━━━━━━━━━━━━━━━━━━━━━━━┳━━━━━━━━━━━━━━━┓\n",
       "┃\u001b[1m \u001b[0m\u001b[1mLayer (type)                   \u001b[0m\u001b[1m \u001b[0m┃\u001b[1m \u001b[0m\u001b[1mOutput Shape          \u001b[0m\u001b[1m \u001b[0m┃\u001b[1m \u001b[0m\u001b[1m      Param #\u001b[0m\u001b[1m \u001b[0m┃\n",
       "┡━━━━━━━━━━━━━━━━━━━━━━━━━━━━━━━━━╇━━━━━━━━━━━━━━━━━━━━━━━━╇━━━━━━━━━━━━━━━┩\n",
       "│ normalization_10                │ (\u001b[38;5;45mNone\u001b[0m, \u001b[38;5;34m8\u001b[0m)              │            \u001b[38;5;34m17\u001b[0m │\n",
       "│ (\u001b[38;5;33mNormalization\u001b[0m)                 │                        │               │\n",
       "├─────────────────────────────────┼────────────────────────┼───────────────┤\n",
       "│ dense_70 (\u001b[38;5;33mDense\u001b[0m)                │ (\u001b[38;5;45mNone\u001b[0m, \u001b[38;5;34m32\u001b[0m)             │           \u001b[38;5;34m288\u001b[0m │\n",
       "├─────────────────────────────────┼────────────────────────┼───────────────┤\n",
       "│ dense_71 (\u001b[38;5;33mDense\u001b[0m)                │ (\u001b[38;5;45mNone\u001b[0m, \u001b[38;5;34m16\u001b[0m)             │           \u001b[38;5;34m528\u001b[0m │\n",
       "├─────────────────────────────────┼────────────────────────┼───────────────┤\n",
       "│ dense_72 (\u001b[38;5;33mDense\u001b[0m)                │ (\u001b[38;5;45mNone\u001b[0m, \u001b[38;5;34m1\u001b[0m)              │            \u001b[38;5;34m17\u001b[0m │\n",
       "└─────────────────────────────────┴────────────────────────┴───────────────┘\n"
      ]
     },
     "metadata": {},
     "output_type": "display_data"
    },
    {
     "data": {
      "text/html": [
       "<pre style=\"white-space:pre;overflow-x:auto;line-height:normal;font-family:Menlo,'DejaVu Sans Mono',consolas,'Courier New',monospace\"><span style=\"font-weight: bold\"> Total params: </span><span style=\"color: #00af00; text-decoration-color: #00af00\">850</span> (3.32 KB)\n",
       "</pre>\n"
      ],
      "text/plain": [
       "\u001b[1m Total params: \u001b[0m\u001b[38;5;34m850\u001b[0m (3.32 KB)\n"
      ]
     },
     "metadata": {},
     "output_type": "display_data"
    },
    {
     "data": {
      "text/html": [
       "<pre style=\"white-space:pre;overflow-x:auto;line-height:normal;font-family:Menlo,'DejaVu Sans Mono',consolas,'Courier New',monospace\"><span style=\"font-weight: bold\"> Trainable params: </span><span style=\"color: #00af00; text-decoration-color: #00af00\">833</span> (3.25 KB)\n",
       "</pre>\n"
      ],
      "text/plain": [
       "\u001b[1m Trainable params: \u001b[0m\u001b[38;5;34m833\u001b[0m (3.25 KB)\n"
      ]
     },
     "metadata": {},
     "output_type": "display_data"
    },
    {
     "data": {
      "text/html": [
       "<pre style=\"white-space:pre;overflow-x:auto;line-height:normal;font-family:Menlo,'DejaVu Sans Mono',consolas,'Courier New',monospace\"><span style=\"font-weight: bold\"> Non-trainable params: </span><span style=\"color: #00af00; text-decoration-color: #00af00\">17</span> (72.00 B)\n",
       "</pre>\n"
      ],
      "text/plain": [
       "\u001b[1m Non-trainable params: \u001b[0m\u001b[38;5;34m17\u001b[0m (72.00 B)\n"
      ]
     },
     "metadata": {},
     "output_type": "display_data"
    }
   ],
   "source": [
    "model.summary()"
   ]
  },
  {
   "cell_type": "code",
   "execution_count": 287,
   "id": "963d544b",
   "metadata": {},
   "outputs": [
    {
     "data": {
      "image/png": "[encoded data removed]",
      "text/plain": [
       "<IPython.core.display.Image object>"
      ]
     },
     "execution_count": 287,
     "metadata": {},
     "output_type": "execute_result"
    }
   ],
   "source": [
    "from keras.utils import plot_model\n",
    "\n",
    "plot_model(model, to_file=\"model.png\",show_shapes=True,dpi=100)"
   ]
  },
  {
   "cell_type": "code",
   "execution_count": 288,
   "id": "52aa6813",
   "metadata": {},
   "outputs": [],
   "source": [
    "from keras.optimizers import Adam\n",
    "from keras.metrics import MeanAbsoluteError as MAE\n",
    "from keras.metrics import MeanSquaredError as MSE"
   ]
  },
  {
   "cell_type": "code",
   "execution_count": 289,
   "id": "71cf5859",
   "metadata": {},
   "outputs": [],
   "source": [
    "model.compile(optimizer=Adam(learning_rate=0.1),loss=\"MSE\",metrics=[MAE])"
   ]
  },
  {
   "cell_type": "code",
   "execution_count": 290,
   "id": "04d6f317",
   "metadata": {},
   "outputs": [
    {
     "name": "stdout",
     "output_type": "stream",
     "text": [
      "Epoch 1/200\n",
      "\u001b[1m13/13\u001b[0m \u001b[32m━━━━━━━━━━━━━━━━━━━━\u001b[0m\u001b[37m\u001b[0m \u001b[1m2s\u001b[0m 46ms/step - loss: 114511863808.0000 - mean_absolute_error: 313923.2188 - val_loss: 110096334848.0000 - val_mean_absolute_error: 308576.3750\n",
      "Epoch 2/200\n",
      "\u001b[1m13/13\u001b[0m \u001b[32m━━━━━━━━━━━━━━━━━━━━\u001b[0m\u001b[37m\u001b[0m \u001b[1m0s\u001b[0m 12ms/step - loss: 111629778944.0000 - mean_absolute_error: 308693.7188 - val_loss: 104292941824.0000 - val_mean_absolute_error: 300180.6250\n",
      "Epoch 3/200\n",
      "\u001b[1m13/13\u001b[0m \u001b[32m━━━━━━━━━━━━━━━━━━━━\u001b[0m\u001b[37m\u001b[0m \u001b[1m0s\u001b[0m 12ms/step - loss: 97344897024.0000 - mean_absolute_error: 287868.9375 - val_loss: 83499261952.0000 - val_mean_absolute_error: 268275.3750\n",
      "Epoch 4/200\n",
      "\u001b[1m13/13\u001b[0m \u001b[32m━━━━━━━━━━━━━━━━━━━━\u001b[0m\u001b[37m\u001b[0m \u001b[1m0s\u001b[0m 13ms/step - loss: 77823975424.0000 - mean_absolute_error: 256382.6094 - val_loss: 42486984704.0000 - val_mean_absolute_error: 189176.5156\n",
      "Epoch 5/200\n",
      "\u001b[1m13/13\u001b[0m \u001b[32m━━━━━━━━━━━━━━━━━━━━\u001b[0m\u001b[37m\u001b[0m \u001b[1m0s\u001b[0m 13ms/step - loss: 30575912960.0000 - mean_absolute_error: 154796.0938 - val_loss: 6784450560.0000 - val_mean_absolute_error: 65530.0352\n",
      "Epoch 6/200\n",
      "\u001b[1m13/13\u001b[0m \u001b[32m━━━━━━━━━━━━━━━━━━━━\u001b[0m\u001b[37m\u001b[0m \u001b[1m0s\u001b[0m 12ms/step - loss: 5509191680.0000 - mean_absolute_error: 60116.2969 - val_loss: 4484237312.0000 - val_mean_absolute_error: 54715.3047\n",
      "Epoch 7/200\n",
      "\u001b[1m13/13\u001b[0m \u001b[32m━━━━━━━━━━━━━━━━━━━━\u001b[0m\u001b[37m\u001b[0m \u001b[1m0s\u001b[0m 13ms/step - loss: 4282370816.0000 - mean_absolute_error: 52315.3320 - val_loss: 2675458816.0000 - val_mean_absolute_error: 39966.5547\n",
      "Epoch 8/200\n",
      "\u001b[1m13/13\u001b[0m \u001b[32m━━━━━━━━━━━━━━━━━━━━\u001b[0m\u001b[37m\u001b[0m \u001b[1m0s\u001b[0m 12ms/step - loss: 2925940992.0000 - mean_absolute_error: 43919.9062 - val_loss: 2556477696.0000 - val_mean_absolute_error: 39222.7344\n",
      "Epoch 9/200\n",
      "\u001b[1m13/13\u001b[0m \u001b[32m━━━━━━━━━━━━━━━━━━━━\u001b[0m\u001b[37m\u001b[0m \u001b[1m0s\u001b[0m 12ms/step - loss: 2788776704.0000 - mean_absolute_error: 43572.9805 - val_loss: 2255105024.0000 - val_mean_absolute_error: 37067.3750\n",
      "Epoch 10/200\n",
      "\u001b[1m13/13\u001b[0m \u001b[32m━━━━━━━━━━━━━━━━━━━━\u001b[0m\u001b[37m\u001b[0m \u001b[1m0s\u001b[0m 12ms/step - loss: 2557611008.0000 - mean_absolute_error: 40746.7852 - val_loss: 2180262144.0000 - val_mean_absolute_error: 36172.6914\n",
      "Epoch 11/200\n",
      "\u001b[1m13/13\u001b[0m \u001b[32m━━━━━━━━━━━━━━━━━━━━\u001b[0m\u001b[37m\u001b[0m \u001b[1m0s\u001b[0m 12ms/step - loss: 2393647360.0000 - mean_absolute_error: 39795.1641 - val_loss: 2108897536.0000 - val_mean_absolute_error: 35807.1953\n",
      "Epoch 12/200\n",
      "\u001b[1m13/13\u001b[0m \u001b[32m━━━━━━━━━━━━━━━━━━━━\u001b[0m\u001b[37m\u001b[0m \u001b[1m0s\u001b[0m 14ms/step - loss: 2231782912.0000 - mean_absolute_error: 38429.2422 - val_loss: 2026371200.0000 - val_mean_absolute_error: 35113.3281\n",
      "Epoch 13/200\n",
      "\u001b[1m13/13\u001b[0m \u001b[32m━━━━━━━━━━━━━━━━━━━━\u001b[0m\u001b[37m\u001b[0m \u001b[1m0s\u001b[0m 14ms/step - loss: 2205556736.0000 - mean_absolute_error: 37997.6875 - val_loss: 1991189120.0000 - val_mean_absolute_error: 34755.3867\n",
      "Epoch 14/200\n",
      "\u001b[1m13/13\u001b[0m \u001b[32m━━━━━━━━━━━━━━━━━━━━\u001b[0m\u001b[37m\u001b[0m \u001b[1m0s\u001b[0m 12ms/step - loss: 2136627456.0000 - mean_absolute_error: 37547.3633 - val_loss: 1974969344.0000 - val_mean_absolute_error: 34942.8555\n",
      "Epoch 15/200\n",
      "\u001b[1m13/13\u001b[0m \u001b[32m━━━━━━━━━━━━━━━━━━━━\u001b[0m\u001b[37m\u001b[0m \u001b[1m0s\u001b[0m 13ms/step - loss: 2181747712.0000 - mean_absolute_error: 38541.0312 - val_loss: 1899544064.0000 - val_mean_absolute_error: 34199.2148\n",
      "Epoch 16/200\n",
      "\u001b[1m13/13\u001b[0m \u001b[32m━━━━━━━━━━━━━━━━━━━━\u001b[0m\u001b[37m\u001b[0m \u001b[1m0s\u001b[0m 14ms/step - loss: 2175463424.0000 - mean_absolute_error: 38031.3984 - val_loss: 1888042496.0000 - val_mean_absolute_error: 34130.6836\n",
      "Epoch 17/200\n",
      "\u001b[1m13/13\u001b[0m \u001b[32m━━━━━━━━━━━━━━━━━━━━\u001b[0m\u001b[37m\u001b[0m \u001b[1m0s\u001b[0m 14ms/step - loss: 2147541504.0000 - mean_absolute_error: 37666.9180 - val_loss: 1876249856.0000 - val_mean_absolute_error: 34243.6758\n",
      "Epoch 18/200\n",
      "\u001b[1m13/13\u001b[0m \u001b[32m━━━━━━━━━━━━━━━━━━━━\u001b[0m\u001b[37m\u001b[0m \u001b[1m0s\u001b[0m 14ms/step - loss: 2017697536.0000 - mean_absolute_error: 37090.2109 - val_loss: 1813883136.0000 - val_mean_absolute_error: 33800.7383\n",
      "Epoch 19/200\n",
      "\u001b[1m13/13\u001b[0m \u001b[32m━━━━━━━━━━━━━━━━━━━━\u001b[0m\u001b[37m\u001b[0m \u001b[1m0s\u001b[0m 13ms/step - loss: 2083137664.0000 - mean_absolute_error: 37249.9766 - val_loss: 1825639296.0000 - val_mean_absolute_error: 33715.2500\n",
      "Epoch 20/200\n",
      "\u001b[1m13/13\u001b[0m \u001b[32m━━━━━━━━━━━━━━━━━━━━\u001b[0m\u001b[37m\u001b[0m \u001b[1m0s\u001b[0m 14ms/step - loss: 1933521664.0000 - mean_absolute_error: 35655.7148 - val_loss: 1820003200.0000 - val_mean_absolute_error: 33931.5781\n",
      "Epoch 21/200\n",
      "\u001b[1m13/13\u001b[0m \u001b[32m━━━━━━━━━━━━━━━━━━━━\u001b[0m\u001b[37m\u001b[0m \u001b[1m0s\u001b[0m 12ms/step - loss: 2054112256.0000 - mean_absolute_error: 37116.4414 - val_loss: 1800047872.0000 - val_mean_absolute_error: 34045.8789\n",
      "Epoch 22/200\n",
      "\u001b[1m13/13\u001b[0m \u001b[32m━━━━━━━━━━━━━━━━━━━━\u001b[0m\u001b[37m\u001b[0m \u001b[1m0s\u001b[0m 13ms/step - loss: 1993804928.0000 - mean_absolute_error: 36317.8242 - val_loss: 1797861888.0000 - val_mean_absolute_error: 33547.1406\n",
      "Epoch 23/200\n",
      "\u001b[1m13/13\u001b[0m \u001b[32m━━━━━━━━━━━━━━━━━━━━\u001b[0m\u001b[37m\u001b[0m \u001b[1m0s\u001b[0m 13ms/step - loss: 1980029184.0000 - mean_absolute_error: 36572.4219 - val_loss: 1775203840.0000 - val_mean_absolute_error: 33831.7461\n",
      "Epoch 24/200\n",
      "\u001b[1m13/13\u001b[0m \u001b[32m━━━━━━━━━━━━━━━━━━━━\u001b[0m\u001b[37m\u001b[0m \u001b[1m0s\u001b[0m 14ms/step - loss: 1830802432.0000 - mean_absolute_error: 34384.7695 - val_loss: 1777775360.0000 - val_mean_absolute_error: 33534.0859\n",
      "Epoch 25/200\n",
      "\u001b[1m13/13\u001b[0m \u001b[32m━━━━━━━━━━━━━━━━━━━━\u001b[0m\u001b[37m\u001b[0m \u001b[1m0s\u001b[0m 14ms/step - loss: 1990421760.0000 - mean_absolute_error: 36324.1484 - val_loss: 1736751616.0000 - val_mean_absolute_error: 33321.8945\n",
      "Epoch 26/200\n",
      "\u001b[1m13/13\u001b[0m \u001b[32m━━━━━━━━━━━━━━━━━━━━\u001b[0m\u001b[37m\u001b[0m \u001b[1m0s\u001b[0m 13ms/step - loss: 1955927808.0000 - mean_absolute_error: 35991.2109 - val_loss: 1762520960.0000 - val_mean_absolute_error: 33709.8008\n",
      "Epoch 27/200\n",
      "\u001b[1m13/13\u001b[0m \u001b[32m━━━━━━━━━━━━━━━━━━━━\u001b[0m\u001b[37m\u001b[0m \u001b[1m0s\u001b[0m 13ms/step - loss: 1802325248.0000 - mean_absolute_error: 34286.4922 - val_loss: 1745080192.0000 - val_mean_absolute_error: 33270.5039\n",
      "Epoch 28/200\n",
      "\u001b[1m13/13\u001b[0m \u001b[32m━━━━━━━━━━━━━━━━━━━━\u001b[0m\u001b[37m\u001b[0m \u001b[1m0s\u001b[0m 13ms/step - loss: 1874463104.0000 - mean_absolute_error: 35430.9688 - val_loss: 1742633344.0000 - val_mean_absolute_error: 33106.4531\n",
      "Epoch 29/200\n",
      "\u001b[1m13/13\u001b[0m \u001b[32m━━━━━━━━━━━━━━━━━━━━\u001b[0m\u001b[37m\u001b[0m \u001b[1m0s\u001b[0m 13ms/step - loss: 1785891072.0000 - mean_absolute_error: 34338.3242 - val_loss: 1761240960.0000 - val_mean_absolute_error: 33659.4336\n",
      "Epoch 30/200\n",
      "\u001b[1m13/13\u001b[0m \u001b[32m━━━━━━━━━━━━━━━━━━━━\u001b[0m\u001b[37m\u001b[0m \u001b[1m0s\u001b[0m 14ms/step - loss: 1752981632.0000 - mean_absolute_error: 34050.1016 - val_loss: 1719731328.0000 - val_mean_absolute_error: 33241.4414\n",
      "Epoch 31/200\n",
      "\u001b[1m13/13\u001b[0m \u001b[32m━━━━━━━━━━━━━━━━━━━━\u001b[0m\u001b[37m\u001b[0m \u001b[1m0s\u001b[0m 12ms/step - loss: 1922162944.0000 - mean_absolute_error: 36453.1016 - val_loss: 1726999808.0000 - val_mean_absolute_error: 33150.5820\n",
      "Epoch 32/200\n",
      "\u001b[1m13/13\u001b[0m \u001b[32m━━━━━━━━━━━━━━━━━━━━\u001b[0m\u001b[37m\u001b[0m \u001b[1m0s\u001b[0m 12ms/step - loss: 1790508288.0000 - mean_absolute_error: 34483.9531 - val_loss: 1730274816.0000 - val_mean_absolute_error: 33183.6797\n",
      "Epoch 33/200\n",
      "\u001b[1m13/13\u001b[0m \u001b[32m━━━━━━━━━━━━━━━━━━━━\u001b[0m\u001b[37m\u001b[0m \u001b[1m0s\u001b[0m 14ms/step - loss: 1732463360.0000 - mean_absolute_error: 34168.1953 - val_loss: 1696910592.0000 - val_mean_absolute_error: 32978.8164\n",
      "Epoch 34/200\n",
      "\u001b[1m13/13\u001b[0m \u001b[32m━━━━━━━━━━━━━━━━━━━━\u001b[0m\u001b[37m\u001b[0m \u001b[1m0s\u001b[0m 12ms/step - loss: 1665679360.0000 - mean_absolute_error: 33302.6055 - val_loss: 1712886400.0000 - val_mean_absolute_error: 33327.7656\n",
      "Epoch 35/200\n",
      "\u001b[1m13/13\u001b[0m \u001b[32m━━━━━━━━━━━━━━━━━━━━\u001b[0m\u001b[37m\u001b[0m \u001b[1m0s\u001b[0m 12ms/step - loss: 1790887552.0000 - mean_absolute_error: 34591.0781 - val_loss: 1718099200.0000 - val_mean_absolute_error: 32857.8203\n",
      "Epoch 36/200\n",
      "\u001b[1m13/13\u001b[0m \u001b[32m━━━━━━━━━━━━━━━━━━━━\u001b[0m\u001b[37m\u001b[0m \u001b[1m0s\u001b[0m 13ms/step - loss: 1789234816.0000 - mean_absolute_error: 34403.9570 - val_loss: 1697564544.0000 - val_mean_absolute_error: 32984.7578\n",
      "Epoch 37/200\n",
      "\u001b[1m13/13\u001b[0m \u001b[32m━━━━━━━━━━━━━━━━━━━━\u001b[0m\u001b[37m\u001b[0m \u001b[1m0s\u001b[0m 13ms/step - loss: 1807235072.0000 - mean_absolute_error: 34639.3477 - val_loss: 1701946368.0000 - val_mean_absolute_error: 32886.5469\n",
      "Epoch 38/200\n",
      "\u001b[1m13/13\u001b[0m \u001b[32m━━━━━━━━━━━━━━━━━━━━\u001b[0m\u001b[37m\u001b[0m \u001b[1m0s\u001b[0m 12ms/step - loss: 1824877568.0000 - mean_absolute_error: 34926.0742 - val_loss: 1672098560.0000 - val_mean_absolute_error: 32510.4141\n",
      "Epoch 39/200\n",
      "\u001b[1m13/13\u001b[0m \u001b[32m━━━━━━━━━━━━━━━━━━━━\u001b[0m\u001b[37m\u001b[0m \u001b[1m0s\u001b[0m 12ms/step - loss: 1779767680.0000 - mean_absolute_error: 34378.8047 - val_loss: 1713475200.0000 - val_mean_absolute_error: 33050.8867\n",
      "Epoch 40/200\n",
      "\u001b[1m13/13\u001b[0m \u001b[32m━━━━━━━━━━━━━━━━━━━━\u001b[0m\u001b[37m\u001b[0m \u001b[1m0s\u001b[0m 12ms/step - loss: 1766951808.0000 - mean_absolute_error: 34133.5898 - val_loss: 1713009792.0000 - val_mean_absolute_error: 32742.5391\n",
      "Epoch 41/200\n",
      "\u001b[1m13/13\u001b[0m \u001b[32m━━━━━━━━━━━━━━━━━━━━\u001b[0m\u001b[37m\u001b[0m \u001b[1m0s\u001b[0m 11ms/step - loss: 1746506368.0000 - mean_absolute_error: 34379.8828 - val_loss: 1682407296.0000 - val_mean_absolute_error: 32757.2305\n",
      "Epoch 42/200\n",
      "\u001b[1m13/13\u001b[0m \u001b[32m━━━━━━━━━━━━━━━━━━━━\u001b[0m\u001b[37m\u001b[0m \u001b[1m0s\u001b[0m 12ms/step - loss: 1776229120.0000 - mean_absolute_error: 34440.9141 - val_loss: 1675618688.0000 - val_mean_absolute_error: 32541.3867\n",
      "Epoch 43/200\n",
      "\u001b[1m13/13\u001b[0m \u001b[32m━━━━━━━━━━━━━━━━━━━━\u001b[0m\u001b[37m\u001b[0m \u001b[1m0s\u001b[0m 11ms/step - loss: 1701850880.0000 - mean_absolute_error: 33902.4336 - val_loss: 1694265216.0000 - val_mean_absolute_error: 32837.0508\n",
      "Epoch 44/200\n",
      "\u001b[1m13/13\u001b[0m \u001b[32m━━━━━━━━━━━━━━━━━━━━\u001b[0m\u001b[37m\u001b[0m \u001b[1m0s\u001b[0m 11ms/step - loss: 1653800576.0000 - mean_absolute_error: 33433.3711 - val_loss: 1681073792.0000 - val_mean_absolute_error: 32641.5645\n",
      "Epoch 45/200\n",
      "\u001b[1m13/13\u001b[0m \u001b[32m━━━━━━━━━━━━━━━━━━━━\u001b[0m\u001b[37m\u001b[0m \u001b[1m0s\u001b[0m 12ms/step - loss: 1728279040.0000 - mean_absolute_error: 33872.3984 - val_loss: 1662325888.0000 - val_mean_absolute_error: 32460.6641\n",
      "Epoch 46/200\n",
      "\u001b[1m13/13\u001b[0m \u001b[32m━━━━━━━━━━━━━━━━━━━━\u001b[0m\u001b[37m\u001b[0m \u001b[1m0s\u001b[0m 11ms/step - loss: 1662158336.0000 - mean_absolute_error: 33151.2305 - val_loss: 1665990528.0000 - val_mean_absolute_error: 32496.2383\n",
      "Epoch 47/200\n",
      "\u001b[1m13/13\u001b[0m \u001b[32m━━━━━━━━━━━━━━━━━━━━\u001b[0m\u001b[37m\u001b[0m \u001b[1m0s\u001b[0m 13ms/step - loss: 1709222656.0000 - mean_absolute_error: 33567.0820 - val_loss: 1693252352.0000 - val_mean_absolute_error: 32639.4824\n",
      "Epoch 48/200\n",
      "\u001b[1m13/13\u001b[0m \u001b[32m━━━━━━━━━━━━━━━━━━━━\u001b[0m\u001b[37m\u001b[0m \u001b[1m0s\u001b[0m 12ms/step - loss: 1818739584.0000 - mean_absolute_error: 34648.2500 - val_loss: 1665214976.0000 - val_mean_absolute_error: 32423.3008\n",
      "Epoch 49/200\n",
      "\u001b[1m13/13\u001b[0m \u001b[32m━━━━━━━━━━━━━━━━━━━━\u001b[0m\u001b[37m\u001b[0m \u001b[1m0s\u001b[0m 11ms/step - loss: 1744863872.0000 - mean_absolute_error: 34285.0625 - val_loss: 1675858560.0000 - val_mean_absolute_error: 32785.8047\n",
      "Epoch 50/200\n",
      "\u001b[1m13/13\u001b[0m \u001b[32m━━━━━━━━━━━━━━━━━━━━\u001b[0m\u001b[37m\u001b[0m \u001b[1m0s\u001b[0m 12ms/step - loss: 1625821952.0000 - mean_absolute_error: 32978.1016 - val_loss: 1686231296.0000 - val_mean_absolute_error: 32644.4316\n",
      "Epoch 51/200\n",
      "\u001b[1m13/13\u001b[0m \u001b[32m━━━━━━━━━━━━━━━━━━━━\u001b[0m\u001b[37m\u001b[0m \u001b[1m0s\u001b[0m 12ms/step - loss: 1734532736.0000 - mean_absolute_error: 33904.7969 - val_loss: 1658947200.0000 - val_mean_absolute_error: 32507.2305\n",
      "Epoch 52/200\n",
      "\u001b[1m13/13\u001b[0m \u001b[32m━━━━━━━━━━━━━━━━━━━━\u001b[0m\u001b[37m\u001b[0m \u001b[1m0s\u001b[0m 12ms/step - loss: 1775083520.0000 - mean_absolute_error: 34431.4453 - val_loss: 1665653120.0000 - val_mean_absolute_error: 32362.8848\n",
      "Epoch 53/200\n",
      "\u001b[1m13/13\u001b[0m \u001b[32m━━━━━━━━━━━━━━━━━━━━\u001b[0m\u001b[37m\u001b[0m \u001b[1m0s\u001b[0m 12ms/step - loss: 1669906944.0000 - mean_absolute_error: 33720.7617 - val_loss: 1677870720.0000 - val_mean_absolute_error: 32673.7207\n",
      "Epoch 54/200\n",
      "\u001b[1m13/13\u001b[0m \u001b[32m━━━━━━━━━━━━━━━━━━━━\u001b[0m\u001b[37m\u001b[0m \u001b[1m0s\u001b[0m 12ms/step - loss: 1626999936.0000 - mean_absolute_error: 32257.1172 - val_loss: 1690991616.0000 - val_mean_absolute_error: 32522.8691\n",
      "Epoch 55/200\n",
      "\u001b[1m13/13\u001b[0m \u001b[32m━━━━━━━━━━━━━━━━━━━━\u001b[0m\u001b[37m\u001b[0m \u001b[1m0s\u001b[0m 11ms/step - loss: 1703714816.0000 - mean_absolute_error: 33859.7500 - val_loss: 1640414592.0000 - val_mean_absolute_error: 32550.6445\n",
      "Epoch 56/200\n",
      "\u001b[1m13/13\u001b[0m \u001b[32m━━━━━━━━━━━━━━━━━━━━\u001b[0m\u001b[37m\u001b[0m \u001b[1m0s\u001b[0m 12ms/step - loss: 1568480384.0000 - mean_absolute_error: 32173.4902 - val_loss: 1681503488.0000 - val_mean_absolute_error: 32581.1797\n",
      "Epoch 57/200\n",
      "\u001b[1m13/13\u001b[0m \u001b[32m━━━━━━━━━━━━━━━━━━━━\u001b[0m\u001b[37m\u001b[0m \u001b[1m0s\u001b[0m 12ms/step - loss: 1609830656.0000 - mean_absolute_error: 32242.9551 - val_loss: 1671092992.0000 - val_mean_absolute_error: 32477.2051\n",
      "Epoch 58/200\n",
      "\u001b[1m13/13\u001b[0m \u001b[32m━━━━━━━━━━━━━━━━━━━━\u001b[0m\u001b[37m\u001b[0m \u001b[1m0s\u001b[0m 11ms/step - loss: 1649683328.0000 - mean_absolute_error: 32780.4453 - val_loss: 1653467264.0000 - val_mean_absolute_error: 32508.2852\n",
      "Epoch 59/200\n",
      "\u001b[1m13/13\u001b[0m \u001b[32m━━━━━━━━━━━━━━━━━━━━\u001b[0m\u001b[37m\u001b[0m \u001b[1m0s\u001b[0m 11ms/step - loss: 1637333888.0000 - mean_absolute_error: 32839.0977 - val_loss: 1675976576.0000 - val_mean_absolute_error: 32622.9355\n",
      "Epoch 60/200\n",
      "\u001b[1m13/13\u001b[0m \u001b[32m━━━━━━━━━━━━━━━━━━━━\u001b[0m\u001b[37m\u001b[0m \u001b[1m0s\u001b[0m 16ms/step - loss: 1592348416.0000 - mean_absolute_error: 32710.0820 - val_loss: 1649007360.0000 - val_mean_absolute_error: 32262.3281\n",
      "Epoch 61/200\n",
      "\u001b[1m13/13\u001b[0m \u001b[32m━━━━━━━━━━━━━━━━━━━━\u001b[0m\u001b[37m\u001b[0m \u001b[1m0s\u001b[0m 12ms/step - loss: 1677657344.0000 - mean_absolute_error: 33350.0781 - val_loss: 1638725888.0000 - val_mean_absolute_error: 32392.4941\n",
      "Epoch 62/200\n",
      "\u001b[1m13/13\u001b[0m \u001b[32m━━━━━━━━━━━━━━━━━━━━\u001b[0m\u001b[37m\u001b[0m \u001b[1m0s\u001b[0m 14ms/step - loss: 1669458560.0000 - mean_absolute_error: 33210.4961 - val_loss: 1653829504.0000 - val_mean_absolute_error: 32399.2754\n",
      "Epoch 63/200\n",
      "\u001b[1m13/13\u001b[0m \u001b[32m━━━━━━━━━━━━━━━━━━━━\u001b[0m\u001b[37m\u001b[0m \u001b[1m0s\u001b[0m 13ms/step - loss: 1572889984.0000 - mean_absolute_error: 32089.1562 - val_loss: 1637795584.0000 - val_mean_absolute_error: 32296.8027\n",
      "Epoch 64/200\n",
      "\u001b[1m13/13\u001b[0m \u001b[32m━━━━━━━━━━━━━━━━━━━━\u001b[0m\u001b[37m\u001b[0m \u001b[1m0s\u001b[0m 14ms/step - loss: 1698260480.0000 - mean_absolute_error: 33571.3125 - val_loss: 1653962880.0000 - val_mean_absolute_error: 32444.1250\n",
      "Epoch 65/200\n",
      "\u001b[1m13/13\u001b[0m \u001b[32m━━━━━━━━━━━━━━━━━━━━\u001b[0m\u001b[37m\u001b[0m \u001b[1m0s\u001b[0m 13ms/step - loss: 1679657472.0000 - mean_absolute_error: 33478.4727 - val_loss: 1659074944.0000 - val_mean_absolute_error: 32748.9082\n",
      "Epoch 66/200\n",
      "\u001b[1m13/13\u001b[0m \u001b[32m━━━━━━━━━━━━━━━━━━━━\u001b[0m\u001b[37m\u001b[0m \u001b[1m0s\u001b[0m 13ms/step - loss: 1645967488.0000 - mean_absolute_error: 33320.3789 - val_loss: 1669654784.0000 - val_mean_absolute_error: 32647.1055\n",
      "Epoch 67/200\n",
      "\u001b[1m13/13\u001b[0m \u001b[32m━━━━━━━━━━━━━━━━━━━━\u001b[0m\u001b[37m\u001b[0m \u001b[1m0s\u001b[0m 13ms/step - loss: 1655612800.0000 - mean_absolute_error: 33025.0586 - val_loss: 1673675776.0000 - val_mean_absolute_error: 32824.3867\n",
      "Epoch 68/200\n",
      "\u001b[1m13/13\u001b[0m \u001b[32m━━━━━━━━━━━━━━━━━━━━\u001b[0m\u001b[37m\u001b[0m \u001b[1m0s\u001b[0m 13ms/step - loss: 1706738688.0000 - mean_absolute_error: 33803.1172 - val_loss: 1618418688.0000 - val_mean_absolute_error: 32198.2598\n",
      "Epoch 69/200\n",
      "\u001b[1m13/13\u001b[0m \u001b[32m━━━━━━━━━━━━━━━━━━━━\u001b[0m\u001b[37m\u001b[0m \u001b[1m0s\u001b[0m 14ms/step - loss: 1652064256.0000 - mean_absolute_error: 33100.0938 - val_loss: 1646405248.0000 - val_mean_absolute_error: 32435.7402\n",
      "Epoch 70/200\n",
      "\u001b[1m13/13\u001b[0m \u001b[32m━━━━━━━━━━━━━━━━━━━━\u001b[0m\u001b[37m\u001b[0m \u001b[1m0s\u001b[0m 12ms/step - loss: 1711134592.0000 - mean_absolute_error: 33684.5625 - val_loss: 1641924992.0000 - val_mean_absolute_error: 32396.6875\n",
      "Epoch 71/200\n",
      "\u001b[1m13/13\u001b[0m \u001b[32m━━━━━━━━━━━━━━━━━━━━\u001b[0m\u001b[37m\u001b[0m \u001b[1m0s\u001b[0m 15ms/step - loss: 1700755072.0000 - mean_absolute_error: 33740.0312 - val_loss: 1653152128.0000 - val_mean_absolute_error: 32553.8301\n",
      "Epoch 72/200\n",
      "\u001b[1m13/13\u001b[0m \u001b[32m━━━━━━━━━━━━━━━━━━━━\u001b[0m\u001b[37m\u001b[0m \u001b[1m0s\u001b[0m 12ms/step - loss: 1666835328.0000 - mean_absolute_error: 33322.3984 - val_loss: 1625756160.0000 - val_mean_absolute_error: 32281.9668\n",
      "Epoch 73/200\n",
      "\u001b[1m13/13\u001b[0m \u001b[32m━━━━━━━━━━━━━━━━━━━━\u001b[0m\u001b[37m\u001b[0m \u001b[1m0s\u001b[0m 13ms/step - loss: 1685148416.0000 - mean_absolute_error: 33525.3984 - val_loss: 1649171456.0000 - val_mean_absolute_error: 32438.2305\n",
      "Epoch 74/200\n",
      "\u001b[1m13/13\u001b[0m \u001b[32m━━━━━━━━━━━━━━━━━━━━\u001b[0m\u001b[37m\u001b[0m \u001b[1m0s\u001b[0m 13ms/step - loss: 1682467072.0000 - mean_absolute_error: 33221.5781 - val_loss: 1625867520.0000 - val_mean_absolute_error: 32345.0859\n",
      "Epoch 75/200\n",
      "\u001b[1m13/13\u001b[0m \u001b[32m━━━━━━━━━━━━━━━━━━━━\u001b[0m\u001b[37m\u001b[0m \u001b[1m0s\u001b[0m 14ms/step - loss: 1566849792.0000 - mean_absolute_error: 32236.4629 - val_loss: 1634314112.0000 - val_mean_absolute_error: 32215.6348\n",
      "Epoch 76/200\n",
      "\u001b[1m13/13\u001b[0m \u001b[32m━━━━━━━━━━━━━━━━━━━━\u001b[0m\u001b[37m\u001b[0m \u001b[1m0s\u001b[0m 11ms/step - loss: 1651060352.0000 - mean_absolute_error: 32885.5156 - val_loss: 1614633856.0000 - val_mean_absolute_error: 32174.2148\n",
      "Epoch 77/200\n",
      "\u001b[1m13/13\u001b[0m \u001b[32m━━━━━━━━━━━━━━━━━━━━\u001b[0m\u001b[37m\u001b[0m \u001b[1m0s\u001b[0m 13ms/step - loss: 1754652416.0000 - mean_absolute_error: 34686.0781 - val_loss: 1651848320.0000 - val_mean_absolute_error: 32647.1602\n",
      "Epoch 78/200\n",
      "\u001b[1m13/13\u001b[0m \u001b[32m━━━━━━━━━━━━━━━━━━━━\u001b[0m\u001b[37m\u001b[0m \u001b[1m0s\u001b[0m 10ms/step - loss: 1644075008.0000 - mean_absolute_error: 33375.4922 - val_loss: 1643192704.0000 - val_mean_absolute_error: 32230.8867\n",
      "Epoch 79/200\n",
      "\u001b[1m13/13\u001b[0m \u001b[32m━━━━━━━━━━━━━━━━━━━━\u001b[0m\u001b[37m\u001b[0m \u001b[1m0s\u001b[0m 13ms/step - loss: 1619527808.0000 - mean_absolute_error: 32877.2188 - val_loss: 1613457152.0000 - val_mean_absolute_error: 32351.4004\n",
      "Epoch 80/200\n",
      "\u001b[1m13/13\u001b[0m \u001b[32m━━━━━━━━━━━━━━━━━━━━\u001b[0m\u001b[37m\u001b[0m \u001b[1m0s\u001b[0m 11ms/step - loss: 1647157376.0000 - mean_absolute_error: 33468.2461 - val_loss: 1645400448.0000 - val_mean_absolute_error: 32567.3223\n",
      "Epoch 81/200\n",
      "\u001b[1m13/13\u001b[0m \u001b[32m━━━━━━━━━━━━━━━━━━━━\u001b[0m\u001b[37m\u001b[0m \u001b[1m0s\u001b[0m 13ms/step - loss: 1611314176.0000 - mean_absolute_error: 32918.0664 - val_loss: 1613969152.0000 - val_mean_absolute_error: 32004.4609\n",
      "Epoch 82/200\n",
      "\u001b[1m13/13\u001b[0m \u001b[32m━━━━━━━━━━━━━━━━━━━━\u001b[0m\u001b[37m\u001b[0m \u001b[1m0s\u001b[0m 12ms/step - loss: 1562582400.0000 - mean_absolute_error: 32028.7344 - val_loss: 1590313984.0000 - val_mean_absolute_error: 32089.3652\n",
      "Epoch 83/200\n",
      "\u001b[1m13/13\u001b[0m \u001b[32m━━━━━━━━━━━━━━━━━━━━\u001b[0m\u001b[37m\u001b[0m \u001b[1m0s\u001b[0m 13ms/step - loss: 1615044352.0000 - mean_absolute_error: 33172.4883 - val_loss: 1639833600.0000 - val_mean_absolute_error: 32365.2871\n",
      "Epoch 84/200\n",
      "\u001b[1m13/13\u001b[0m \u001b[32m━━━━━━━━━━━━━━━━━━━━\u001b[0m\u001b[37m\u001b[0m \u001b[1m0s\u001b[0m 15ms/step - loss: 1606982144.0000 - mean_absolute_error: 32785.5703 - val_loss: 1645656576.0000 - val_mean_absolute_error: 32369.8652\n",
      "Epoch 85/200\n",
      "\u001b[1m13/13\u001b[0m \u001b[32m━━━━━━━━━━━━━━━━━━━━\u001b[0m\u001b[37m\u001b[0m \u001b[1m0s\u001b[0m 14ms/step - loss: 1675419264.0000 - mean_absolute_error: 33773.6523 - val_loss: 1602263424.0000 - val_mean_absolute_error: 32136.0293\n",
      "Epoch 86/200\n",
      "\u001b[1m13/13\u001b[0m \u001b[32m━━━━━━━━━━━━━━━━━━━━\u001b[0m\u001b[37m\u001b[0m \u001b[1m0s\u001b[0m 14ms/step - loss: 1632762112.0000 - mean_absolute_error: 33121.1016 - val_loss: 1632550528.0000 - val_mean_absolute_error: 32256.7402\n",
      "Epoch 87/200\n",
      "\u001b[1m13/13\u001b[0m \u001b[32m━━━━━━━━━━━━━━━━━━━━\u001b[0m\u001b[37m\u001b[0m \u001b[1m0s\u001b[0m 20ms/step - loss: 1660419840.0000 - mean_absolute_error: 33437.4336 - val_loss: 1619392128.0000 - val_mean_absolute_error: 32223.3301\n",
      "Epoch 88/200\n",
      "\u001b[1m13/13\u001b[0m \u001b[32m━━━━━━━━━━━━━━━━━━━━\u001b[0m\u001b[37m\u001b[0m \u001b[1m0s\u001b[0m 17ms/step - loss: 1603075712.0000 - mean_absolute_error: 33141.1445 - val_loss: 1685008512.0000 - val_mean_absolute_error: 33125.4180\n",
      "Epoch 89/200\n",
      "\u001b[1m13/13\u001b[0m \u001b[32m━━━━━━━━━━━━━━━━━━━━\u001b[0m\u001b[37m\u001b[0m \u001b[1m0s\u001b[0m 13ms/step - loss: 1688996992.0000 - mean_absolute_error: 33579.2539 - val_loss: 1649779072.0000 - val_mean_absolute_error: 32252.9609\n",
      "Epoch 90/200\n",
      "\u001b[1m13/13\u001b[0m \u001b[32m━━━━━━━━━━━━━━━━━━━━\u001b[0m\u001b[37m\u001b[0m \u001b[1m0s\u001b[0m 11ms/step - loss: 1687663488.0000 - mean_absolute_error: 33808.7773 - val_loss: 1608142976.0000 - val_mean_absolute_error: 32141.4316\n",
      "Epoch 91/200\n",
      "\u001b[1m13/13\u001b[0m \u001b[32m━━━━━━━━━━━━━━━━━━━━\u001b[0m\u001b[37m\u001b[0m \u001b[1m0s\u001b[0m 12ms/step - loss: 1552068736.0000 - mean_absolute_error: 32174.3086 - val_loss: 1611521024.0000 - val_mean_absolute_error: 32066.3867\n",
      "Epoch 92/200\n",
      "\u001b[1m13/13\u001b[0m \u001b[32m━━━━━━━━━━━━━━━━━━━━\u001b[0m\u001b[37m\u001b[0m \u001b[1m0s\u001b[0m 12ms/step - loss: 1624610304.0000 - mean_absolute_error: 32702.9863 - val_loss: 1615563264.0000 - val_mean_absolute_error: 32114.1191\n",
      "Epoch 93/200\n",
      "\u001b[1m13/13\u001b[0m \u001b[32m━━━━━━━━━━━━━━━━━━━━\u001b[0m\u001b[37m\u001b[0m \u001b[1m0s\u001b[0m 11ms/step - loss: 1562049536.0000 - mean_absolute_error: 32349.7578 - val_loss: 1642442752.0000 - val_mean_absolute_error: 32460.8477\n",
      "Epoch 94/200\n",
      "\u001b[1m13/13\u001b[0m \u001b[32m━━━━━━━━━━━━━━━━━━━━\u001b[0m\u001b[37m\u001b[0m \u001b[1m0s\u001b[0m 12ms/step - loss: 1656907264.0000 - mean_absolute_error: 33050.4336 - val_loss: 1619446656.0000 - val_mean_absolute_error: 32086.0645\n",
      "Epoch 95/200\n",
      "\u001b[1m13/13\u001b[0m \u001b[32m━━━━━━━━━━━━━━━━━━━━\u001b[0m\u001b[37m\u001b[0m \u001b[1m0s\u001b[0m 11ms/step - loss: 1686778112.0000 - mean_absolute_error: 33719.1289 - val_loss: 1625464832.0000 - val_mean_absolute_error: 32168.4629\n",
      "Epoch 96/200\n",
      "\u001b[1m13/13\u001b[0m \u001b[32m━━━━━━━━━━━━━━━━━━━━\u001b[0m\u001b[37m\u001b[0m \u001b[1m0s\u001b[0m 12ms/step - loss: 1586263040.0000 - mean_absolute_error: 32575.1758 - val_loss: 1641824896.0000 - val_mean_absolute_error: 32300.9805\n",
      "Epoch 97/200\n",
      "\u001b[1m13/13\u001b[0m \u001b[32m━━━━━━━━━━━━━━━━━━━━\u001b[0m\u001b[37m\u001b[0m \u001b[1m0s\u001b[0m 13ms/step - loss: 1630776192.0000 - mean_absolute_error: 32989.5273 - val_loss: 1606194432.0000 - val_mean_absolute_error: 32075.2500\n",
      "Epoch 98/200\n",
      "\u001b[1m13/13\u001b[0m \u001b[32m━━━━━━━━━━━━━━━━━━━━\u001b[0m\u001b[37m\u001b[0m \u001b[1m0s\u001b[0m 12ms/step - loss: 1611054592.0000 - mean_absolute_error: 32603.9355 - val_loss: 1632127872.0000 - val_mean_absolute_error: 32203.2891\n",
      "Epoch 99/200\n",
      "\u001b[1m13/13\u001b[0m \u001b[32m━━━━━━━━━━━━━━━━━━━━\u001b[0m\u001b[37m\u001b[0m \u001b[1m0s\u001b[0m 11ms/step - loss: 1579811712.0000 - mean_absolute_error: 32302.6348 - val_loss: 1620979840.0000 - val_mean_absolute_error: 32051.0352\n",
      "Epoch 100/200\n",
      "\u001b[1m13/13\u001b[0m \u001b[32m━━━━━━━━━━━━━━━━━━━━\u001b[0m\u001b[37m\u001b[0m \u001b[1m0s\u001b[0m 11ms/step - loss: 1559543168.0000 - mean_absolute_error: 32032.1582 - val_loss: 1636759680.0000 - val_mean_absolute_error: 32597.5801\n",
      "Epoch 101/200\n",
      "\u001b[1m13/13\u001b[0m \u001b[32m━━━━━━━━━━━━━━━━━━━━\u001b[0m\u001b[37m\u001b[0m \u001b[1m0s\u001b[0m 11ms/step - loss: 1644457344.0000 - mean_absolute_error: 32918.4414 - val_loss: 1662567424.0000 - val_mean_absolute_error: 32722.5801\n",
      "Epoch 102/200\n",
      "\u001b[1m13/13\u001b[0m \u001b[32m━━━━━━━━━━━━━━━━━━━━\u001b[0m\u001b[37m\u001b[0m \u001b[1m0s\u001b[0m 11ms/step - loss: 1642184576.0000 - mean_absolute_error: 33431.4336 - val_loss: 1615203712.0000 - val_mean_absolute_error: 32243.1602\n",
      "Epoch 103/200\n",
      "\u001b[1m13/13\u001b[0m \u001b[32m━━━━━━━━━━━━━━━━━━━━\u001b[0m\u001b[37m\u001b[0m \u001b[1m0s\u001b[0m 13ms/step - loss: 1604906752.0000 - mean_absolute_error: 32779.0000 - val_loss: 1612446080.0000 - val_mean_absolute_error: 32061.1543\n",
      "Epoch 104/200\n",
      "\u001b[1m13/13\u001b[0m \u001b[32m━━━━━━━━━━━━━━━━━━━━\u001b[0m\u001b[37m\u001b[0m \u001b[1m0s\u001b[0m 12ms/step - loss: 1500134656.0000 - mean_absolute_error: 31299.6875 - val_loss: 1649776256.0000 - val_mean_absolute_error: 32524.0527\n",
      "Epoch 105/200\n",
      "\u001b[1m13/13\u001b[0m \u001b[32m━━━━━━━━━━━━━━━━━━━━\u001b[0m\u001b[37m\u001b[0m \u001b[1m0s\u001b[0m 13ms/step - loss: 1689125888.0000 - mean_absolute_error: 34084.6875 - val_loss: 1645633536.0000 - val_mean_absolute_error: 32242.8047\n",
      "Epoch 106/200\n",
      "\u001b[1m13/13\u001b[0m \u001b[32m━━━━━━━━━━━━━━━━━━━━\u001b[0m\u001b[37m\u001b[0m \u001b[1m0s\u001b[0m 11ms/step - loss: 1656394496.0000 - mean_absolute_error: 33482.1992 - val_loss: 1621835264.0000 - val_mean_absolute_error: 32271.4277\n",
      "Epoch 107/200\n",
      "\u001b[1m13/13\u001b[0m \u001b[32m━━━━━━━━━━━━━━━━━━━━\u001b[0m\u001b[37m\u001b[0m \u001b[1m0s\u001b[0m 12ms/step - loss: 1599135488.0000 - mean_absolute_error: 32610.4727 - val_loss: 1622862080.0000 - val_mean_absolute_error: 32219.3301\n",
      "Epoch 108/200\n",
      "\u001b[1m13/13\u001b[0m \u001b[32m━━━━━━━━━━━━━━━━━━━━\u001b[0m\u001b[37m\u001b[0m \u001b[1m0s\u001b[0m 12ms/step - loss: 1638655616.0000 - mean_absolute_error: 32799.0703 - val_loss: 1619183488.0000 - val_mean_absolute_error: 32327.1172\n",
      "Epoch 109/200\n",
      "\u001b[1m13/13\u001b[0m \u001b[32m━━━━━━━━━━━━━━━━━━━━\u001b[0m\u001b[37m\u001b[0m \u001b[1m0s\u001b[0m 13ms/step - loss: 1610577664.0000 - mean_absolute_error: 32889.6719 - val_loss: 1664883200.0000 - val_mean_absolute_error: 32697.4141\n",
      "Epoch 110/200\n",
      "\u001b[1m13/13\u001b[0m \u001b[32m━━━━━━━━━━━━━━━━━━━━\u001b[0m\u001b[37m\u001b[0m \u001b[1m0s\u001b[0m 12ms/step - loss: 1663976320.0000 - mean_absolute_error: 33464.9766 - val_loss: 1609632128.0000 - val_mean_absolute_error: 32124.7891\n",
      "Epoch 111/200\n",
      "\u001b[1m13/13\u001b[0m \u001b[32m━━━━━━━━━━━━━━━━━━━━\u001b[0m\u001b[37m\u001b[0m \u001b[1m0s\u001b[0m 12ms/step - loss: 1563408768.0000 - mean_absolute_error: 31931.8828 - val_loss: 1609166080.0000 - val_mean_absolute_error: 32105.9941\n",
      "Epoch 112/200\n",
      "\u001b[1m13/13\u001b[0m \u001b[32m━━━━━━━━━━━━━━━━━━━━\u001b[0m\u001b[37m\u001b[0m \u001b[1m0s\u001b[0m 12ms/step - loss: 1590455808.0000 - mean_absolute_error: 32304.1211 - val_loss: 1637792128.0000 - val_mean_absolute_error: 32336.6875\n",
      "Epoch 113/200\n",
      "\u001b[1m13/13\u001b[0m \u001b[32m━━━━━━━━━━━━━━━━━━━━\u001b[0m\u001b[37m\u001b[0m \u001b[1m0s\u001b[0m 15ms/step - loss: 1563051008.0000 - mean_absolute_error: 32466.1758 - val_loss: 1615816960.0000 - val_mean_absolute_error: 32126.1758\n",
      "Epoch 114/200\n",
      "\u001b[1m13/13\u001b[0m \u001b[32m━━━━━━━━━━━━━━━━━━━━\u001b[0m\u001b[37m\u001b[0m \u001b[1m0s\u001b[0m 12ms/step - loss: 1566381440.0000 - mean_absolute_error: 32042.8223 - val_loss: 1618145920.0000 - val_mean_absolute_error: 31930.1191\n",
      "Epoch 115/200\n",
      "\u001b[1m13/13\u001b[0m \u001b[32m━━━━━━━━━━━━━━━━━━━━\u001b[0m\u001b[37m\u001b[0m \u001b[1m0s\u001b[0m 12ms/step - loss: 1603439104.0000 - mean_absolute_error: 32288.0215 - val_loss: 1624958720.0000 - val_mean_absolute_error: 32538.3945\n",
      "Epoch 116/200\n",
      "\u001b[1m13/13\u001b[0m \u001b[32m━━━━━━━━━━━━━━━━━━━━\u001b[0m\u001b[37m\u001b[0m \u001b[1m0s\u001b[0m 12ms/step - loss: 1581506048.0000 - mean_absolute_error: 32536.2266 - val_loss: 1620908160.0000 - val_mean_absolute_error: 32467.9434\n",
      "Epoch 117/200\n",
      "\u001b[1m13/13\u001b[0m \u001b[32m━━━━━━━━━━━━━━━━━━━━\u001b[0m\u001b[37m\u001b[0m \u001b[1m0s\u001b[0m 12ms/step - loss: 1587578240.0000 - mean_absolute_error: 32780.2891 - val_loss: 1679699200.0000 - val_mean_absolute_error: 32810.3398\n",
      "Epoch 118/200\n",
      "\u001b[1m13/13\u001b[0m \u001b[32m━━━━━━━━━━━━━━━━━━━━\u001b[0m\u001b[37m\u001b[0m \u001b[1m0s\u001b[0m 12ms/step - loss: 1609478272.0000 - mean_absolute_error: 32270.8164 - val_loss: 1599934080.0000 - val_mean_absolute_error: 31966.8398\n",
      "Epoch 119/200\n",
      "\u001b[1m13/13\u001b[0m \u001b[32m━━━━━━━━━━━━━━━━━━━━\u001b[0m\u001b[37m\u001b[0m \u001b[1m0s\u001b[0m 12ms/step - loss: 1612137856.0000 - mean_absolute_error: 32546.3359 - val_loss: 1624464128.0000 - val_mean_absolute_error: 32339.7207\n",
      "Epoch 120/200\n",
      "\u001b[1m13/13\u001b[0m \u001b[32m━━━━━━━━━━━━━━━━━━━━\u001b[0m\u001b[37m\u001b[0m \u001b[1m0s\u001b[0m 11ms/step - loss: 1658577280.0000 - mean_absolute_error: 33178.3945 - val_loss: 1634424704.0000 - val_mean_absolute_error: 32320.9395\n",
      "Epoch 121/200\n",
      "\u001b[1m13/13\u001b[0m \u001b[32m━━━━━━━━━━━━━━━━━━━━\u001b[0m\u001b[37m\u001b[0m \u001b[1m0s\u001b[0m 12ms/step - loss: 1609245184.0000 - mean_absolute_error: 32870.5117 - val_loss: 1603294976.0000 - val_mean_absolute_error: 31869.5000\n",
      "Epoch 122/200\n",
      "\u001b[1m13/13\u001b[0m \u001b[32m━━━━━━━━━━━━━━━━━━━━\u001b[0m\u001b[37m\u001b[0m \u001b[1m0s\u001b[0m 12ms/step - loss: 1667407872.0000 - mean_absolute_error: 33471.3164 - val_loss: 1624920192.0000 - val_mean_absolute_error: 32459.0195\n",
      "Epoch 123/200\n",
      "\u001b[1m13/13\u001b[0m \u001b[32m━━━━━━━━━━━━━━━━━━━━\u001b[0m\u001b[37m\u001b[0m \u001b[1m0s\u001b[0m 12ms/step - loss: 1540109056.0000 - mean_absolute_error: 31798.8086 - val_loss: 1596165376.0000 - val_mean_absolute_error: 31688.8242\n",
      "Epoch 124/200\n",
      "\u001b[1m13/13\u001b[0m \u001b[32m━━━━━━━━━━━━━━━━━━━━\u001b[0m\u001b[37m\u001b[0m \u001b[1m0s\u001b[0m 11ms/step - loss: 1610408576.0000 - mean_absolute_error: 32638.8203 - val_loss: 1588019072.0000 - val_mean_absolute_error: 31803.4492\n",
      "Epoch 125/200\n",
      "\u001b[1m13/13\u001b[0m \u001b[32m━━━━━━━━━━━━━━━━━━━━\u001b[0m\u001b[37m\u001b[0m \u001b[1m0s\u001b[0m 11ms/step - loss: 1562275712.0000 - mean_absolute_error: 32233.2266 - val_loss: 1616800256.0000 - val_mean_absolute_error: 32101.7500\n",
      "Epoch 126/200\n",
      "\u001b[1m13/13\u001b[0m \u001b[32m━━━━━━━━━━━━━━━━━━━━\u001b[0m\u001b[37m\u001b[0m \u001b[1m0s\u001b[0m 12ms/step - loss: 1629343232.0000 - mean_absolute_error: 32985.0312 - val_loss: 1604041600.0000 - val_mean_absolute_error: 31979.5977\n",
      "Epoch 127/200\n",
      "\u001b[1m13/13\u001b[0m \u001b[32m━━━━━━━━━━━━━━━━━━━━\u001b[0m\u001b[37m\u001b[0m \u001b[1m0s\u001b[0m 12ms/step - loss: 1610753408.0000 - mean_absolute_error: 32564.1504 - val_loss: 1603226496.0000 - val_mean_absolute_error: 32040.2891\n",
      "Epoch 128/200\n",
      "\u001b[1m13/13\u001b[0m \u001b[32m━━━━━━━━━━━━━━━━━━━━\u001b[0m\u001b[37m\u001b[0m \u001b[1m0s\u001b[0m 12ms/step - loss: 1550165760.0000 - mean_absolute_error: 31908.5430 - val_loss: 1611835264.0000 - val_mean_absolute_error: 32125.2793\n",
      "Epoch 129/200\n",
      "\u001b[1m13/13\u001b[0m \u001b[32m━━━━━━━━━━━━━━━━━━━━\u001b[0m\u001b[37m\u001b[0m \u001b[1m0s\u001b[0m 11ms/step - loss: 1646010880.0000 - mean_absolute_error: 33601.6914 - val_loss: 1587163904.0000 - val_mean_absolute_error: 31675.7051\n",
      "Epoch 130/200\n",
      "\u001b[1m13/13\u001b[0m \u001b[32m━━━━━━━━━━━━━━━━━━━━\u001b[0m\u001b[37m\u001b[0m \u001b[1m0s\u001b[0m 12ms/step - loss: 1580864640.0000 - mean_absolute_error: 32250.3984 - val_loss: 1660163072.0000 - val_mean_absolute_error: 32937.3984\n",
      "Epoch 131/200\n",
      "\u001b[1m13/13\u001b[0m \u001b[32m━━━━━━━━━━━━━━━━━━━━\u001b[0m\u001b[37m\u001b[0m \u001b[1m0s\u001b[0m 11ms/step - loss: 1678194560.0000 - mean_absolute_error: 33706.1172 - val_loss: 1614354560.0000 - val_mean_absolute_error: 32023.0957\n",
      "Epoch 132/200\n",
      "\u001b[1m13/13\u001b[0m \u001b[32m━━━━━━━━━━━━━━━━━━━━\u001b[0m\u001b[37m\u001b[0m \u001b[1m0s\u001b[0m 11ms/step - loss: 1604239360.0000 - mean_absolute_error: 32940.5625 - val_loss: 1632761984.0000 - val_mean_absolute_error: 32541.3906\n",
      "Epoch 133/200\n",
      "\u001b[1m13/13\u001b[0m \u001b[32m━━━━━━━━━━━━━━━━━━━━\u001b[0m\u001b[37m\u001b[0m \u001b[1m0s\u001b[0m 11ms/step - loss: 1638190336.0000 - mean_absolute_error: 33442.3789 - val_loss: 1599851392.0000 - val_mean_absolute_error: 31946.5645\n",
      "Epoch 134/200\n",
      "\u001b[1m13/13\u001b[0m \u001b[32m━━━━━━━━━━━━━━━━━━━━\u001b[0m\u001b[37m\u001b[0m \u001b[1m0s\u001b[0m 12ms/step - loss: 1536201728.0000 - mean_absolute_error: 31922.3145 - val_loss: 1589951360.0000 - val_mean_absolute_error: 31871.0605\n",
      "Epoch 135/200\n",
      "\u001b[1m13/13\u001b[0m \u001b[32m━━━━━━━━━━━━━━━━━━━━\u001b[0m\u001b[37m\u001b[0m \u001b[1m0s\u001b[0m 11ms/step - loss: 1600966400.0000 - mean_absolute_error: 32793.6016 - val_loss: 1600893440.0000 - val_mean_absolute_error: 31968.1504\n",
      "Epoch 136/200\n",
      "\u001b[1m13/13\u001b[0m \u001b[32m━━━━━━━━━━━━━━━━━━━━\u001b[0m\u001b[37m\u001b[0m \u001b[1m0s\u001b[0m 12ms/step - loss: 1652570624.0000 - mean_absolute_error: 33299.1172 - val_loss: 1592125696.0000 - val_mean_absolute_error: 31909.6094\n",
      "Epoch 137/200\n",
      "\u001b[1m13/13\u001b[0m \u001b[32m━━━━━━━━━━━━━━━━━━━━\u001b[0m\u001b[37m\u001b[0m \u001b[1m0s\u001b[0m 11ms/step - loss: 1689676928.0000 - mean_absolute_error: 33805.2148 - val_loss: 1601017600.0000 - val_mean_absolute_error: 32189.6543\n",
      "Epoch 138/200\n",
      "\u001b[1m13/13\u001b[0m \u001b[32m━━━━━━━━━━━━━━━━━━━━\u001b[0m\u001b[37m\u001b[0m \u001b[1m0s\u001b[0m 11ms/step - loss: 1634096640.0000 - mean_absolute_error: 32817.4453 - val_loss: 1632380800.0000 - val_mean_absolute_error: 32205.0879\n",
      "Epoch 139/200\n",
      "\u001b[1m13/13\u001b[0m \u001b[32m━━━━━━━━━━━━━━━━━━━━\u001b[0m\u001b[37m\u001b[0m \u001b[1m0s\u001b[0m 12ms/step - loss: 1532083328.0000 - mean_absolute_error: 31759.8809 - val_loss: 1588334720.0000 - val_mean_absolute_error: 32062.8750\n",
      "Epoch 140/200\n",
      "\u001b[1m13/13\u001b[0m \u001b[32m━━━━━━━━━━━━━━━━━━━━\u001b[0m\u001b[37m\u001b[0m \u001b[1m0s\u001b[0m 11ms/step - loss: 1531800960.0000 - mean_absolute_error: 32262.4609 - val_loss: 1561879808.0000 - val_mean_absolute_error: 31608.9199\n",
      "Epoch 141/200\n",
      "\u001b[1m13/13\u001b[0m \u001b[32m━━━━━━━━━━━━━━━━━━━━\u001b[0m\u001b[37m\u001b[0m \u001b[1m0s\u001b[0m 11ms/step - loss: 1575024896.0000 - mean_absolute_error: 32103.3359 - val_loss: 1638790272.0000 - val_mean_absolute_error: 32649.4199\n",
      "Epoch 142/200\n",
      "\u001b[1m13/13\u001b[0m \u001b[32m━━━━━━━━━━━━━━━━━━━━\u001b[0m\u001b[37m\u001b[0m \u001b[1m0s\u001b[0m 12ms/step - loss: 1656065536.0000 - mean_absolute_error: 33150.4844 - val_loss: 1569028992.0000 - val_mean_absolute_error: 31610.6309\n",
      "Epoch 143/200\n",
      "\u001b[1m13/13\u001b[0m \u001b[32m━━━━━━━━━━━━━━━━━━━━\u001b[0m\u001b[37m\u001b[0m \u001b[1m0s\u001b[0m 12ms/step - loss: 1566684416.0000 - mean_absolute_error: 32509.6113 - val_loss: 1648087808.0000 - val_mean_absolute_error: 32526.4648\n",
      "Epoch 144/200\n",
      "\u001b[1m13/13\u001b[0m \u001b[32m━━━━━━━━━━━━━━━━━━━━\u001b[0m\u001b[37m\u001b[0m \u001b[1m0s\u001b[0m 11ms/step - loss: 1645294080.0000 - mean_absolute_error: 33120.3945 - val_loss: 1568496128.0000 - val_mean_absolute_error: 31736.0391\n",
      "Epoch 145/200\n",
      "\u001b[1m13/13\u001b[0m \u001b[32m━━━━━━━━━━━━━━━━━━━━\u001b[0m\u001b[37m\u001b[0m \u001b[1m0s\u001b[0m 11ms/step - loss: 1612661888.0000 - mean_absolute_error: 32899.1641 - val_loss: 1569113088.0000 - val_mean_absolute_error: 31782.7617\n",
      "Epoch 146/200\n",
      "\u001b[1m13/13\u001b[0m \u001b[32m━━━━━━━━━━━━━━━━━━━━\u001b[0m\u001b[37m\u001b[0m \u001b[1m0s\u001b[0m 13ms/step - loss: 1620910592.0000 - mean_absolute_error: 33145.4961 - val_loss: 1570396544.0000 - val_mean_absolute_error: 31681.4453\n",
      "Epoch 147/200\n",
      "\u001b[1m13/13\u001b[0m \u001b[32m━━━━━━━━━━━━━━━━━━━━\u001b[0m\u001b[37m\u001b[0m \u001b[1m0s\u001b[0m 12ms/step - loss: 1583217920.0000 - mean_absolute_error: 32636.8262 - val_loss: 1635213824.0000 - val_mean_absolute_error: 32120.2500\n",
      "Epoch 148/200\n",
      "\u001b[1m13/13\u001b[0m \u001b[32m━━━━━━━━━━━━━━━━━━━━\u001b[0m\u001b[37m\u001b[0m \u001b[1m0s\u001b[0m 12ms/step - loss: 1579074560.0000 - mean_absolute_error: 32733.4863 - val_loss: 1579948928.0000 - val_mean_absolute_error: 31852.1641\n",
      "Epoch 149/200\n",
      "\u001b[1m13/13\u001b[0m \u001b[32m━━━━━━━━━━━━━━━━━━━━\u001b[0m\u001b[37m\u001b[0m \u001b[1m0s\u001b[0m 13ms/step - loss: 1486155904.0000 - mean_absolute_error: 31526.6211 - val_loss: 1601936640.0000 - val_mean_absolute_error: 31896.9727\n",
      "Epoch 150/200\n",
      "\u001b[1m13/13\u001b[0m \u001b[32m━━━━━━━━━━━━━━━━━━━━\u001b[0m\u001b[37m\u001b[0m \u001b[1m0s\u001b[0m 12ms/step - loss: 1665898880.0000 - mean_absolute_error: 33557.2969 - val_loss: 1599189120.0000 - val_mean_absolute_error: 31970.7598\n",
      "Epoch 151/200\n",
      "\u001b[1m13/13\u001b[0m \u001b[32m━━━━━━━━━━━━━━━━━━━━\u001b[0m\u001b[37m\u001b[0m \u001b[1m0s\u001b[0m 12ms/step - loss: 1536517248.0000 - mean_absolute_error: 32078.7441 - val_loss: 1580569088.0000 - val_mean_absolute_error: 31902.5020\n",
      "Epoch 152/200\n",
      "\u001b[1m13/13\u001b[0m \u001b[32m━━━━━━━━━━━━━━━━━━━━\u001b[0m\u001b[37m\u001b[0m \u001b[1m0s\u001b[0m 13ms/step - loss: 1565178880.0000 - mean_absolute_error: 32308.9043 - val_loss: 1565468544.0000 - val_mean_absolute_error: 31618.6953\n",
      "Epoch 153/200\n",
      "\u001b[1m13/13\u001b[0m \u001b[32m━━━━━━━━━━━━━━━━━━━━\u001b[0m\u001b[37m\u001b[0m \u001b[1m0s\u001b[0m 12ms/step - loss: 1580358144.0000 - mean_absolute_error: 32135.8652 - val_loss: 1603064832.0000 - val_mean_absolute_error: 31982.8047\n",
      "Epoch 154/200\n",
      "\u001b[1m13/13\u001b[0m \u001b[32m━━━━━━━━━━━━━━━━━━━━\u001b[0m\u001b[37m\u001b[0m \u001b[1m0s\u001b[0m 13ms/step - loss: 1553953024.0000 - mean_absolute_error: 31958.4707 - val_loss: 1600057472.0000 - val_mean_absolute_error: 31884.7148\n",
      "Epoch 155/200\n",
      "\u001b[1m13/13\u001b[0m \u001b[32m━━━━━━━━━━━━━━━━━━━━\u001b[0m\u001b[37m\u001b[0m \u001b[1m0s\u001b[0m 15ms/step - loss: 1581453184.0000 - mean_absolute_error: 32337.9922 - val_loss: 1617237248.0000 - val_mean_absolute_error: 32103.7129\n",
      "Epoch 156/200\n",
      "\u001b[1m13/13\u001b[0m \u001b[32m━━━━━━━━━━━━━━━━━━━━\u001b[0m\u001b[37m\u001b[0m \u001b[1m0s\u001b[0m 13ms/step - loss: 1601041408.0000 - mean_absolute_error: 32786.4961 - val_loss: 1628400512.0000 - val_mean_absolute_error: 32560.9629\n",
      "Epoch 157/200\n",
      "\u001b[1m13/13\u001b[0m \u001b[32m━━━━━━━━━━━━━━━━━━━━\u001b[0m\u001b[37m\u001b[0m \u001b[1m0s\u001b[0m 12ms/step - loss: 1605666560.0000 - mean_absolute_error: 32625.6152 - val_loss: 1629604224.0000 - val_mean_absolute_error: 32114.7832\n",
      "Epoch 158/200\n",
      "\u001b[1m13/13\u001b[0m \u001b[32m━━━━━━━━━━━━━━━━━━━━\u001b[0m\u001b[37m\u001b[0m \u001b[1m0s\u001b[0m 15ms/step - loss: 1565452928.0000 - mean_absolute_error: 32718.0957 - val_loss: 1599366912.0000 - val_mean_absolute_error: 31951.4980\n",
      "Epoch 159/200\n",
      "\u001b[1m13/13\u001b[0m \u001b[32m━━━━━━━━━━━━━━━━━━━━\u001b[0m\u001b[37m\u001b[0m \u001b[1m0s\u001b[0m 15ms/step - loss: 1579209216.0000 - mean_absolute_error: 32331.5977 - val_loss: 1593226368.0000 - val_mean_absolute_error: 32212.8320\n",
      "Epoch 160/200\n",
      "\u001b[1m13/13\u001b[0m \u001b[32m━━━━━━━━━━━━━━━━━━━━\u001b[0m\u001b[37m\u001b[0m \u001b[1m0s\u001b[0m 12ms/step - loss: 1582679040.0000 - mean_absolute_error: 32678.8066 - val_loss: 1583792512.0000 - val_mean_absolute_error: 31819.2949\n",
      "Epoch 161/200\n",
      "\u001b[1m13/13\u001b[0m \u001b[32m━━━━━━━━━━━━━━━━━━━━\u001b[0m\u001b[37m\u001b[0m \u001b[1m0s\u001b[0m 11ms/step - loss: 1542802048.0000 - mean_absolute_error: 32053.4512 - val_loss: 1616480128.0000 - val_mean_absolute_error: 32382.1191\n",
      "Epoch 162/200\n",
      "\u001b[1m13/13\u001b[0m \u001b[32m━━━━━━━━━━━━━━━━━━━━\u001b[0m\u001b[37m\u001b[0m \u001b[1m0s\u001b[0m 12ms/step - loss: 1543534848.0000 - mean_absolute_error: 31811.3379 - val_loss: 1626469504.0000 - val_mean_absolute_error: 32360.3047\n",
      "Epoch 163/200\n",
      "\u001b[1m13/13\u001b[0m \u001b[32m━━━━━━━━━━━━━━━━━━━━\u001b[0m\u001b[37m\u001b[0m \u001b[1m0s\u001b[0m 12ms/step - loss: 1537852672.0000 - mean_absolute_error: 32546.7227 - val_loss: 1615038336.0000 - val_mean_absolute_error: 32138.4434\n",
      "Epoch 164/200\n",
      "\u001b[1m13/13\u001b[0m \u001b[32m━━━━━━━━━━━━━━━━━━━━\u001b[0m\u001b[37m\u001b[0m \u001b[1m0s\u001b[0m 11ms/step - loss: 1592118272.0000 - mean_absolute_error: 32548.3281 - val_loss: 1592712576.0000 - val_mean_absolute_error: 31761.5234\n",
      "Epoch 165/200\n",
      "\u001b[1m13/13\u001b[0m \u001b[32m━━━━━━━━━━━━━━━━━━━━\u001b[0m\u001b[37m\u001b[0m \u001b[1m0s\u001b[0m 11ms/step - loss: 1670529152.0000 - mean_absolute_error: 34206.2383 - val_loss: 1599956608.0000 - val_mean_absolute_error: 32154.4551\n",
      "Epoch 166/200\n",
      "\u001b[1m13/13\u001b[0m \u001b[32m━━━━━━━━━━━━━━━━━━━━\u001b[0m\u001b[37m\u001b[0m \u001b[1m0s\u001b[0m 12ms/step - loss: 1484481792.0000 - mean_absolute_error: 31279.5195 - val_loss: 1582974208.0000 - val_mean_absolute_error: 31714.8320\n",
      "Epoch 167/200\n",
      "\u001b[1m13/13\u001b[0m \u001b[32m━━━━━━━━━━━━━━━━━━━━\u001b[0m\u001b[37m\u001b[0m \u001b[1m0s\u001b[0m 13ms/step - loss: 1524183936.0000 - mean_absolute_error: 31661.5723 - val_loss: 1569685632.0000 - val_mean_absolute_error: 31678.0098\n",
      "Epoch 168/200\n",
      "\u001b[1m13/13\u001b[0m \u001b[32m━━━━━━━━━━━━━━━━━━━━\u001b[0m\u001b[37m\u001b[0m \u001b[1m0s\u001b[0m 12ms/step - loss: 1588565248.0000 - mean_absolute_error: 32694.5156 - val_loss: 1596884864.0000 - val_mean_absolute_error: 32140.2949\n",
      "Epoch 169/200\n",
      "\u001b[1m13/13\u001b[0m \u001b[32m━━━━━━━━━━━━━━━━━━━━\u001b[0m\u001b[37m\u001b[0m \u001b[1m0s\u001b[0m 12ms/step - loss: 1503799552.0000 - mean_absolute_error: 31797.2812 - val_loss: 1611202944.0000 - val_mean_absolute_error: 31965.7695\n",
      "Epoch 170/200\n",
      "\u001b[1m13/13\u001b[0m \u001b[32m━━━━━━━━━━━━━━━━━━━━\u001b[0m\u001b[37m\u001b[0m \u001b[1m0s\u001b[0m 13ms/step - loss: 1525234176.0000 - mean_absolute_error: 31669.3418 - val_loss: 1659040256.0000 - val_mean_absolute_error: 32930.7539\n",
      "Epoch 171/200\n",
      "\u001b[1m13/13\u001b[0m \u001b[32m━━━━━━━━━━━━━━━━━━━━\u001b[0m\u001b[37m\u001b[0m \u001b[1m0s\u001b[0m 13ms/step - loss: 1680461952.0000 - mean_absolute_error: 33576.9805 - val_loss: 1573625216.0000 - val_mean_absolute_error: 31760.0391\n",
      "Epoch 172/200\n",
      "\u001b[1m13/13\u001b[0m \u001b[32m━━━━━━━━━━━━━━━━━━━━\u001b[0m\u001b[37m\u001b[0m \u001b[1m0s\u001b[0m 12ms/step - loss: 1500185984.0000 - mean_absolute_error: 31345.7969 - val_loss: 1591102208.0000 - val_mean_absolute_error: 32098.2520\n",
      "Epoch 173/200\n",
      "\u001b[1m13/13\u001b[0m \u001b[32m━━━━━━━━━━━━━━━━━━━━\u001b[0m\u001b[37m\u001b[0m \u001b[1m0s\u001b[0m 13ms/step - loss: 1542923520.0000 - mean_absolute_error: 32104.7617 - val_loss: 1587454976.0000 - val_mean_absolute_error: 32007.2617\n",
      "Epoch 174/200\n",
      "\u001b[1m13/13\u001b[0m \u001b[32m━━━━━━━━━━━━━━━━━━━━\u001b[0m\u001b[37m\u001b[0m \u001b[1m0s\u001b[0m 13ms/step - loss: 1511742848.0000 - mean_absolute_error: 31731.6348 - val_loss: 1615783040.0000 - val_mean_absolute_error: 32027.3555\n",
      "Epoch 175/200\n",
      "\u001b[1m13/13\u001b[0m \u001b[32m━━━━━━━━━━━━━━━━━━━━\u001b[0m\u001b[37m\u001b[0m \u001b[1m0s\u001b[0m 14ms/step - loss: 1548581504.0000 - mean_absolute_error: 32004.9590 - val_loss: 1581784960.0000 - val_mean_absolute_error: 31826.2168\n",
      "Epoch 176/200\n",
      "\u001b[1m13/13\u001b[0m \u001b[32m━━━━━━━━━━━━━━━━━━━━\u001b[0m\u001b[37m\u001b[0m \u001b[1m0s\u001b[0m 14ms/step - loss: 1536645120.0000 - mean_absolute_error: 31867.0996 - val_loss: 1610297856.0000 - val_mean_absolute_error: 32242.1152\n",
      "Epoch 177/200\n",
      "\u001b[1m13/13\u001b[0m \u001b[32m━━━━━━━━━━━━━━━━━━━━\u001b[0m\u001b[37m\u001b[0m \u001b[1m0s\u001b[0m 18ms/step - loss: 1623990272.0000 - mean_absolute_error: 33058.3516 - val_loss: 1571539456.0000 - val_mean_absolute_error: 31724.6992\n",
      "Epoch 178/200\n",
      "\u001b[1m13/13\u001b[0m \u001b[32m━━━━━━━━━━━━━━━━━━━━\u001b[0m\u001b[37m\u001b[0m \u001b[1m0s\u001b[0m 13ms/step - loss: 1541208832.0000 - mean_absolute_error: 32252.8027 - val_loss: 1614414848.0000 - val_mean_absolute_error: 32104.2500\n",
      "Epoch 179/200\n",
      "\u001b[1m13/13\u001b[0m \u001b[32m━━━━━━━━━━━━━━━━━━━━\u001b[0m\u001b[37m\u001b[0m \u001b[1m0s\u001b[0m 13ms/step - loss: 1563156992.0000 - mean_absolute_error: 32329.7598 - val_loss: 1646363904.0000 - val_mean_absolute_error: 32753.2695\n",
      "Epoch 180/200\n",
      "\u001b[1m13/13\u001b[0m \u001b[32m━━━━━━━━━━━━━━━━━━━━\u001b[0m\u001b[37m\u001b[0m \u001b[1m0s\u001b[0m 13ms/step - loss: 1626191360.0000 - mean_absolute_error: 32982.5508 - val_loss: 1586315904.0000 - val_mean_absolute_error: 31851.9707\n",
      "Epoch 181/200\n",
      "\u001b[1m13/13\u001b[0m \u001b[32m━━━━━━━━━━━━━━━━━━━━\u001b[0m\u001b[37m\u001b[0m \u001b[1m0s\u001b[0m 12ms/step - loss: 1547569792.0000 - mean_absolute_error: 32341.2598 - val_loss: 1591126528.0000 - val_mean_absolute_error: 31714.5254\n",
      "Epoch 182/200\n",
      "\u001b[1m13/13\u001b[0m \u001b[32m━━━━━━━━━━━━━━━━━━━━\u001b[0m\u001b[37m\u001b[0m \u001b[1m0s\u001b[0m 15ms/step - loss: 1532548864.0000 - mean_absolute_error: 31572.3125 - val_loss: 1586212992.0000 - val_mean_absolute_error: 32162.3398\n",
      "Epoch 183/200\n",
      "\u001b[1m13/13\u001b[0m \u001b[32m━━━━━━━━━━━━━━━━━━━━\u001b[0m\u001b[37m\u001b[0m \u001b[1m0s\u001b[0m 11ms/step - loss: 1526030464.0000 - mean_absolute_error: 31909.1699 - val_loss: 1579569024.0000 - val_mean_absolute_error: 31867.0352\n",
      "Epoch 184/200\n",
      "\u001b[1m13/13\u001b[0m \u001b[32m━━━━━━━━━━━━━━━━━━━━\u001b[0m\u001b[37m\u001b[0m \u001b[1m0s\u001b[0m 16ms/step - loss: 1631130880.0000 - mean_absolute_error: 32752.4277 - val_loss: 1586376576.0000 - val_mean_absolute_error: 31943.9668\n",
      "Epoch 185/200\n",
      "\u001b[1m13/13\u001b[0m \u001b[32m━━━━━━━━━━━━━━━━━━━━\u001b[0m\u001b[37m\u001b[0m \u001b[1m0s\u001b[0m 12ms/step - loss: 1571714304.0000 - mean_absolute_error: 32837.8242 - val_loss: 1592348160.0000 - val_mean_absolute_error: 31897.9902\n",
      "Epoch 186/200\n",
      "\u001b[1m13/13\u001b[0m \u001b[32m━━━━━━━━━━━━━━━━━━━━\u001b[0m\u001b[37m\u001b[0m \u001b[1m0s\u001b[0m 12ms/step - loss: 1551322368.0000 - mean_absolute_error: 32286.7031 - val_loss: 1575521920.0000 - val_mean_absolute_error: 31662.3223\n",
      "Epoch 187/200\n",
      "\u001b[1m13/13\u001b[0m \u001b[32m━━━━━━━━━━━━━━━━━━━━\u001b[0m\u001b[37m\u001b[0m \u001b[1m0s\u001b[0m 13ms/step - loss: 1543229184.0000 - mean_absolute_error: 31955.6973 - val_loss: 1594486784.0000 - val_mean_absolute_error: 31865.3594\n",
      "Epoch 188/200\n",
      "\u001b[1m13/13\u001b[0m \u001b[32m━━━━━━━━━━━━━━━━━━━━\u001b[0m\u001b[37m\u001b[0m \u001b[1m0s\u001b[0m 12ms/step - loss: 1541653888.0000 - mean_absolute_error: 32182.4805 - val_loss: 1603645952.0000 - val_mean_absolute_error: 32048.4453\n",
      "Epoch 189/200\n",
      "\u001b[1m13/13\u001b[0m \u001b[32m━━━━━━━━━━━━━━━━━━━━\u001b[0m\u001b[37m\u001b[0m \u001b[1m0s\u001b[0m 13ms/step - loss: 1649904512.0000 - mean_absolute_error: 33228.1172 - val_loss: 1612355328.0000 - val_mean_absolute_error: 31967.6484\n",
      "Epoch 190/200\n",
      "\u001b[1m13/13\u001b[0m \u001b[32m━━━━━━━━━━━━━━━━━━━━\u001b[0m\u001b[37m\u001b[0m \u001b[1m0s\u001b[0m 13ms/step - loss: 1619284992.0000 - mean_absolute_error: 32911.5078 - val_loss: 1580683136.0000 - val_mean_absolute_error: 31930.0156\n",
      "Epoch 191/200\n",
      "\u001b[1m13/13\u001b[0m \u001b[32m━━━━━━━━━━━━━━━━━━━━\u001b[0m\u001b[37m\u001b[0m \u001b[1m0s\u001b[0m 14ms/step - loss: 1587400448.0000 - mean_absolute_error: 33001.6992 - val_loss: 1589549568.0000 - val_mean_absolute_error: 31744.8457\n",
      "Epoch 192/200\n",
      "\u001b[1m13/13\u001b[0m \u001b[32m━━━━━━━━━━━━━━━━━━━━\u001b[0m\u001b[37m\u001b[0m \u001b[1m0s\u001b[0m 12ms/step - loss: 1608077952.0000 - mean_absolute_error: 32429.9238 - val_loss: 1586246400.0000 - val_mean_absolute_error: 31869.5176\n",
      "Epoch 193/200\n",
      "\u001b[1m13/13\u001b[0m \u001b[32m━━━━━━━━━━━━━━━━━━━━\u001b[0m\u001b[37m\u001b[0m \u001b[1m0s\u001b[0m 12ms/step - loss: 1637590144.0000 - mean_absolute_error: 33336.0781 - val_loss: 1607620352.0000 - val_mean_absolute_error: 32371.3008\n",
      "Epoch 194/200\n",
      "\u001b[1m13/13\u001b[0m \u001b[32m━━━━━━━━━━━━━━━━━━━━\u001b[0m\u001b[37m\u001b[0m \u001b[1m0s\u001b[0m 15ms/step - loss: 1574759936.0000 - mean_absolute_error: 32779.8555 - val_loss: 1604277376.0000 - val_mean_absolute_error: 32299.5449\n",
      "Epoch 195/200\n",
      "\u001b[1m13/13\u001b[0m \u001b[32m━━━━━━━━━━━━━━━━━━━━\u001b[0m\u001b[37m\u001b[0m \u001b[1m0s\u001b[0m 22ms/step - loss: 1515086464.0000 - mean_absolute_error: 31525.6934 - val_loss: 1613193728.0000 - val_mean_absolute_error: 32021.7383\n",
      "Epoch 196/200\n",
      "\u001b[1m13/13\u001b[0m \u001b[32m━━━━━━━━━━━━━━━━━━━━\u001b[0m\u001b[37m\u001b[0m \u001b[1m0s\u001b[0m 27ms/step - loss: 1619774080.0000 - mean_absolute_error: 32777.8008 - val_loss: 1566561792.0000 - val_mean_absolute_error: 31785.9551\n",
      "Epoch 197/200\n",
      "\u001b[1m13/13\u001b[0m \u001b[32m━━━━━━━━━━━━━━━━━━━━\u001b[0m\u001b[37m\u001b[0m \u001b[1m0s\u001b[0m 17ms/step - loss: 1560332416.0000 - mean_absolute_error: 32132.7598 - val_loss: 1660630656.0000 - val_mean_absolute_error: 32896.7344\n",
      "Epoch 198/200\n",
      "\u001b[1m13/13\u001b[0m \u001b[32m━━━━━━━━━━━━━━━━━━━━\u001b[0m\u001b[37m\u001b[0m \u001b[1m0s\u001b[0m 12ms/step - loss: 1583708032.0000 - mean_absolute_error: 32550.8301 - val_loss: 1585149184.0000 - val_mean_absolute_error: 31984.1816\n",
      "Epoch 199/200\n",
      "\u001b[1m13/13\u001b[0m \u001b[32m━━━━━━━━━━━━━━━━━━━━\u001b[0m\u001b[37m\u001b[0m \u001b[1m0s\u001b[0m 13ms/step - loss: 1658999168.0000 - mean_absolute_error: 33337.7578 - val_loss: 1631223936.0000 - val_mean_absolute_error: 32415.0449\n",
      "Epoch 200/200\n",
      "\u001b[1m13/13\u001b[0m \u001b[32m━━━━━━━━━━━━━━━━━━━━\u001b[0m\u001b[37m\u001b[0m \u001b[1m0s\u001b[0m 12ms/step - loss: 1639026944.0000 - mean_absolute_error: 32591.9512 - val_loss: 1610399616.0000 - val_mean_absolute_error: 32278.1055\n"
     ]
    }
   ],
   "source": [
    "history = model.fit(x_train,y_train,validation_data=(x_val,y_val),batch_size=64,epochs=200,verbose=1)"
   ]
  },
  {
   "cell_type": "code",
   "execution_count": 291,
   "id": "d29c6742",
   "metadata": {},
   "outputs": [
    {
     "data": {
      "image/png": "[encoded data removed]",
      "text/plain": [
       "<Figure size 640x480 with 1 Axes>"
      ]
     },
     "metadata": {},
     "output_type": "display_data"
    },
    {
     "data": {
      "image/png": "[encoded data removed]",
      "text/plain": [
       "<Figure size 640x480 with 1 Axes>"
      ]
     },
     "metadata": {},
     "output_type": "display_data"
    }
   ],
   "source": [
    "plt.plot(history.history[\"loss\"])\n",
    "plt.legend([\"Loss\"])\n",
    "plt.show()\n",
    "\n",
    "plt.plot(history.history[\"mean_absolute_error\"])\n",
    "plt.plot(history.history[\"val_mean_absolute_error\"])\n",
    "plt.legend([\"Train\",\"MAE\"])\n",
    "plt.show()"
   ]
  },
  {
   "cell_type": "code",
   "execution_count": 292,
   "id": "2d03d97d",
   "metadata": {},
   "outputs": [
    {
     "name": "stdout",
     "output_type": "stream",
     "text": [
      "\u001b[1m4/4\u001b[0m \u001b[32m━━━━━━━━━━━━━━━━━━━━\u001b[0m\u001b[37m\u001b[0m \u001b[1m0s\u001b[0m 11ms/step - loss: 1530594432.0000 - mean_absolute_error: 31053.3047\n",
      "loss: 1610399616.0\n",
      "mean absolute error: 32278.107421875\n"
     ]
    }
   ],
   "source": [
    "loss,mean_absolute_error = model.evaluate(x_val,y_val)\n",
    "\n",
    "print(f\"loss: {loss}\")\n",
    "print(f\"mean absolute error: {mean_absolute_error}\")"
   ]
  },
  {
   "cell_type": "code",
   "execution_count": 293,
   "id": "dfff097d",
   "metadata": {},
   "outputs": [
    {
     "name": "stdout",
     "output_type": "stream",
     "text": [
      "\u001b[1m4/4\u001b[0m \u001b[32m━━━━━━━━━━━━━━━━━━━━\u001b[0m\u001b[37m\u001b[0m \u001b[1m0s\u001b[0m 34ms/step\n",
      "[441517.44] tf.Tensor([381846.5], shape=(1,), dtype=float32)\n"
     ]
    }
   ],
   "source": [
    "y_predicted = model.predict(x_test)\n",
    "print(y_predicted[1],y_test[1])"
   ]
  },
  {
   "cell_type": "code",
   "execution_count": null,
   "id": "66732440",
   "metadata": {},
   "outputs": [],
   "source": []
  },
  {
   "cell_type": "code",
   "execution_count": null,
   "id": "4e2e45c6",
   "metadata": {},
   "outputs": [],
   "source": []
  }
 ],
 "metadata": {
  "kernelspec": {
   "display_name": "project",
   "language": "python",
   "name": "python3"
  },
  "language_info": {
   "codemirror_mode": {
    "name": "ipython",
    "version": 3
   },
   "file_extension": ".py",
   "mimetype": "text/x-python",
   "name": "python",
   "nbconvert_exporter": "python",
   "pygments_lexer": "ipython3",
   "version": "3.11.11"
  }
 },
 "nbformat": 4,
 "nbformat_minor": 5
}
