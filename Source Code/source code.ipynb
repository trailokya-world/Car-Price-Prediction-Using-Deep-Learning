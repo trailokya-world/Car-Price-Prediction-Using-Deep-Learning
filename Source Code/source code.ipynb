{
 "cells": [
  {
   "cell_type": "code",
   "execution_count": 136,
   "id": "b9deb4d4",
   "metadata": {},
   "outputs": [],
   "source": [
    "import pandas as pd\n",
    "import numpy as np\n",
    "import matplotlib.pyplot as plt\n",
    "import seaborn as sns\n",
    "import tensorflow as tf"
   ]
  },
  {
   "cell_type": "code",
   "execution_count": 137,
   "id": "151d9c6e",
   "metadata": {},
   "outputs": [
    {
     "data": {
      "text/html": [
       "<div>\n",
       "<style scoped>\n",
       "    .dataframe tbody tr th:only-of-type {\n",
       "        vertical-align: middle;\n",
       "    }\n",
       "\n",
       "    .dataframe tbody tr th {\n",
       "        vertical-align: top;\n",
       "    }\n",
       "\n",
       "    .dataframe thead th {\n",
       "        text-align: right;\n",
       "    }\n",
       "</style>\n",
       "<table border=\"1\" class=\"dataframe\">\n",
       "  <thead>\n",
       "    <tr style=\"text-align: right;\">\n",
       "      <th></th>\n",
       "      <th>v.id</th>\n",
       "      <th>on road old</th>\n",
       "      <th>on road now</th>\n",
       "      <th>years</th>\n",
       "      <th>km</th>\n",
       "      <th>rating</th>\n",
       "      <th>condition</th>\n",
       "      <th>economy</th>\n",
       "      <th>top speed</th>\n",
       "      <th>hp</th>\n",
       "      <th>torque</th>\n",
       "      <th>current price</th>\n",
       "    </tr>\n",
       "  </thead>\n",
       "  <tbody>\n",
       "    <tr>\n",
       "      <th>0</th>\n",
       "      <td>1</td>\n",
       "      <td>535651</td>\n",
       "      <td>798186</td>\n",
       "      <td>3</td>\n",
       "      <td>78945</td>\n",
       "      <td>1</td>\n",
       "      <td>2</td>\n",
       "      <td>14</td>\n",
       "      <td>177</td>\n",
       "      <td>73</td>\n",
       "      <td>123</td>\n",
       "      <td>351318.0</td>\n",
       "    </tr>\n",
       "    <tr>\n",
       "      <th>1</th>\n",
       "      <td>2</td>\n",
       "      <td>591911</td>\n",
       "      <td>861056</td>\n",
       "      <td>6</td>\n",
       "      <td>117220</td>\n",
       "      <td>5</td>\n",
       "      <td>9</td>\n",
       "      <td>9</td>\n",
       "      <td>148</td>\n",
       "      <td>74</td>\n",
       "      <td>95</td>\n",
       "      <td>285001.5</td>\n",
       "    </tr>\n",
       "    <tr>\n",
       "      <th>2</th>\n",
       "      <td>3</td>\n",
       "      <td>686990</td>\n",
       "      <td>770762</td>\n",
       "      <td>2</td>\n",
       "      <td>132538</td>\n",
       "      <td>2</td>\n",
       "      <td>8</td>\n",
       "      <td>15</td>\n",
       "      <td>181</td>\n",
       "      <td>53</td>\n",
       "      <td>97</td>\n",
       "      <td>215386.0</td>\n",
       "    </tr>\n",
       "    <tr>\n",
       "      <th>3</th>\n",
       "      <td>4</td>\n",
       "      <td>573999</td>\n",
       "      <td>722381</td>\n",
       "      <td>4</td>\n",
       "      <td>101065</td>\n",
       "      <td>4</td>\n",
       "      <td>3</td>\n",
       "      <td>11</td>\n",
       "      <td>197</td>\n",
       "      <td>54</td>\n",
       "      <td>116</td>\n",
       "      <td>244295.5</td>\n",
       "    </tr>\n",
       "    <tr>\n",
       "      <th>4</th>\n",
       "      <td>5</td>\n",
       "      <td>691388</td>\n",
       "      <td>811335</td>\n",
       "      <td>6</td>\n",
       "      <td>61559</td>\n",
       "      <td>3</td>\n",
       "      <td>9</td>\n",
       "      <td>12</td>\n",
       "      <td>160</td>\n",
       "      <td>53</td>\n",
       "      <td>105</td>\n",
       "      <td>531114.5</td>\n",
       "    </tr>\n",
       "  </tbody>\n",
       "</table>\n",
       "</div>"
      ],
      "text/plain": [
       "   v.id  on road old  on road now  years      km  rating  condition  economy  \\\n",
       "0     1       535651       798186      3   78945       1          2       14   \n",
       "1     2       591911       861056      6  117220       5          9        9   \n",
       "2     3       686990       770762      2  132538       2          8       15   \n",
       "3     4       573999       722381      4  101065       4          3       11   \n",
       "4     5       691388       811335      6   61559       3          9       12   \n",
       "\n",
       "   top speed  hp  torque  current price  \n",
       "0        177  73     123       351318.0  \n",
       "1        148  74      95       285001.5  \n",
       "2        181  53      97       215386.0  \n",
       "3        197  54     116       244295.5  \n",
       "4        160  53     105       531114.5  "
      ]
     },
     "execution_count": 137,
     "metadata": {},
     "output_type": "execute_result"
    }
   ],
   "source": [
    "data = pd.read_csv(\"C:\\\\Users\\\\PAWAN\\\\Downloads\\\\train.csv\")\n",
    "data.head()"
   ]
  },
  {
   "cell_type": "code",
   "execution_count": 138,
   "id": "095b4e5f",
   "metadata": {},
   "outputs": [
    {
     "data": {
      "text/plain": [
       "(1000, 12)"
      ]
     },
     "execution_count": 138,
     "metadata": {},
     "output_type": "execute_result"
    }
   ],
   "source": [
    "data.shape"
   ]
  },
  {
   "cell_type": "code",
   "execution_count": 139,
   "id": "18cbfcd9",
   "metadata": {},
   "outputs": [
    {
     "name": "stdout",
     "output_type": "stream",
     "text": [
      "<class 'pandas.core.frame.DataFrame'>\n",
      "RangeIndex: 1000 entries, 0 to 999\n",
      "Data columns (total 12 columns):\n",
      " #   Column         Non-Null Count  Dtype  \n",
      "---  ------         --------------  -----  \n",
      " 0   v.id           1000 non-null   int64  \n",
      " 1   on road old    1000 non-null   int64  \n",
      " 2   on road now    1000 non-null   int64  \n",
      " 3   years          1000 non-null   int64  \n",
      " 4   km             1000 non-null   int64  \n",
      " 5   rating         1000 non-null   int64  \n",
      " 6   condition      1000 non-null   int64  \n",
      " 7   economy        1000 non-null   int64  \n",
      " 8   top speed      1000 non-null   int64  \n",
      " 9   hp             1000 non-null   int64  \n",
      " 10  torque         1000 non-null   int64  \n",
      " 11  current price  1000 non-null   float64\n",
      "dtypes: float64(1), int64(11)\n",
      "memory usage: 93.9 KB\n"
     ]
    }
   ],
   "source": [
    "data.info()"
   ]
  },
  {
   "cell_type": "code",
   "execution_count": 140,
   "id": "a76fc11d",
   "metadata": {},
   "outputs": [
    {
     "data": {
      "text/plain": [
       "v.id             0\n",
       "on road old      0\n",
       "on road now      0\n",
       "years            0\n",
       "km               0\n",
       "rating           0\n",
       "condition        0\n",
       "economy          0\n",
       "top speed        0\n",
       "hp               0\n",
       "torque           0\n",
       "current price    0\n",
       "dtype: int64"
      ]
     },
     "execution_count": 140,
     "metadata": {},
     "output_type": "execute_result"
    }
   ],
   "source": [
    "data.isnull().sum()"
   ]
  },
  {
   "cell_type": "code",
   "execution_count": 141,
   "id": "a98cd5ed",
   "metadata": {},
   "outputs": [
    {
     "data": {
      "text/plain": [
       "Index(['v.id', 'on road old', 'on road now', 'years', 'km', 'rating',\n",
       "       'condition', 'economy', 'top speed', 'hp', 'torque', 'current price'],\n",
       "      dtype='object')"
      ]
     },
     "execution_count": 141,
     "metadata": {},
     "output_type": "execute_result"
    }
   ],
   "source": [
    "data.columns"
   ]
  },
  {
   "cell_type": "code",
   "execution_count": 142,
   "id": "ef945cd1",
   "metadata": {},
   "outputs": [],
   "source": [
    "pair_plot = data[['years', 'km', 'rating',\n",
    "       'condition', 'economy', 'top speed', 'hp', 'torque', 'current price']].corr()"
   ]
  },
  {
   "cell_type": "code",
   "execution_count": 143,
   "id": "c039ec1e",
   "metadata": {},
   "outputs": [
    {
     "data": {
      "image/png": "[encoded data removed]",
      "text/plain": [
       "<Figure size 640x480 with 2 Axes>"
      ]
     },
     "metadata": {},
     "output_type": "display_data"
    }
   ],
   "source": [
    "sns.heatmap(pair_plot)\n",
    "plt.show()"
   ]
  },
  {
   "cell_type": "code",
   "execution_count": 201,
   "id": "d4c8ffe8",
   "metadata": {},
   "outputs": [],
   "source": [
    "tensor_data = tf.constant(data, dtype= tf.dtypes.float32)\n",
    "tensor_data = tf.random.shuffle(tensor_data)"
   ]
  },
  {
   "cell_type": "code",
   "execution_count": 202,
   "id": "93193a6a",
   "metadata": {},
   "outputs": [
    {
     "name": "stdout",
     "output_type": "stream",
     "text": [
      "tf.Tensor(\n",
      "[[5.010000e+02 5.543820e+05 7.658410e+05 ... 8.700000e+01 1.040000e+02\n",
      "  1.909565e+05]\n",
      " [4.730000e+02 5.083700e+05 8.621880e+05 ... 9.900000e+01 1.140000e+02\n",
      "  5.016625e+05]\n",
      " [2.010000e+02 6.624540e+05 8.226250e+05 ... 5.200000e+01 1.200000e+02\n",
      "  1.596145e+05]\n",
      " ...\n",
      " [2.630000e+02 6.414770e+05 7.124850e+05 ... 6.800000e+01 1.080000e+02\n",
      "  9.446750e+04]\n",
      " [7.610000e+02 5.115500e+05 7.505050e+05 ... 5.400000e+01 8.900000e+01\n",
      "  1.565130e+05]\n",
      " [6.740000e+02 6.878190e+05 8.158960e+05 ... 7.400000e+01 1.100000e+02\n",
      "  5.173660e+05]], shape=(1000, 12), dtype=float32)\n"
     ]
    }
   ],
   "source": [
    "print(tensor_data)"
   ]
  },
  {
   "cell_type": "code",
   "execution_count": 203,
   "id": "12f9677b",
   "metadata": {},
   "outputs": [],
   "source": [
    "y=tensor_data[:,-1]\n",
    "x=tensor_data[:,3:-1]\n"
   ]
  },
  {
   "cell_type": "code",
   "execution_count": 204,
   "id": "b33fa237",
   "metadata": {},
   "outputs": [
    {
     "data": {
      "text/plain": [
       "(800.0, 100.0, 100.0)"
      ]
     },
     "execution_count": 204,
     "metadata": {},
     "output_type": "execute_result"
    }
   ],
   "source": [
    "train_size = len(data) * 0.8\n",
    "test_size = len(data) * 0.1\n",
    "val_size = len(data) * 0.1\n",
    "\n",
    "train_size,test_size,val_size"
   ]
  },
  {
   "cell_type": "code",
   "execution_count": 225,
   "id": "810c8f66",
   "metadata": {},
   "outputs": [
    {
     "data": {
      "text/plain": [
       "(800, 100, 100)"
      ]
     },
     "execution_count": 225,
     "metadata": {},
     "output_type": "execute_result"
    }
   ],
   "source": [
    "x_train = tf.cast(x[:int(train_size)],tf.float32)\n",
    "x_test=tf.cast(x[int(train_size):int(train_size)+int(test_size)],tf.float32)\n",
    "x_val = tf.cast(x[int(train_size) + int(test_size):],tf.float32)\n",
    "\n",
    "\n",
    "len(x_train), len(x_test), len(x_val)"
   ]
  },
  {
   "cell_type": "code",
   "execution_count": 226,
   "id": "ebf9f5ba",
   "metadata": {},
   "outputs": [
    {
     "data": {
      "text/plain": [
       "(800, 100, 100)"
      ]
     },
     "execution_count": 226,
     "metadata": {},
     "output_type": "execute_result"
    }
   ],
   "source": [
    "y_train = tf.cast(y[:int(train_size)],tf.float32)\n",
    "y_test=tf.cast(y[int(train_size):int(train_size)+int(test_size)],tf.float32)\n",
    "y_val = tf.cast(y[int(train_size) + int(test_size):],tf.float32)\n",
    "\n",
    "\n",
    "len(y_train), len(y_test), len(y_val)"
   ]
  },
  {
   "cell_type": "code",
   "execution_count": 227,
   "id": "ada59e4c",
   "metadata": {},
   "outputs": [
    {
     "name": "stdout",
     "output_type": "stream",
     "text": [
      "0\n",
      "0\n"
     ]
    }
   ],
   "source": [
    "print(np.isinf(x).sum())\n",
    "print(np.isinf(y).sum())"
   ]
  },
  {
   "cell_type": "code",
   "execution_count": 228,
   "id": "df2ad2df",
   "metadata": {},
   "outputs": [
    {
     "name": "stderr",
     "output_type": "stream",
     "text": [
      "c:\\Users\\PAWAN\\anaconda3\\envs\\project\\Lib\\site-packages\\keras\\src\\layers\\preprocessing\\tf_data_layer.py:19: UserWarning: Do not pass an `input_shape`/`input_dim` argument to a layer. When using Sequential models, prefer using an `Input(shape)` object as the first layer in the model instead.\n",
      "  super().__init__(**kwargs)\n"
     ]
    }
   ],
   "source": [
    "from tensorflow.keras.layers import Normalization\n",
    "\n",
    "normalizer = Normalization(input_shape=(8,))\n",
    "\n",
    "normalizer.adapt(x_train)"
   ]
  },
  {
   "cell_type": "code",
   "execution_count": 229,
   "id": "76c7a2ea",
   "metadata": {},
   "outputs": [],
   "source": [
    "from keras.models import Sequential\n",
    "from keras.layers import Dense, InputLayer,Dropout"
   ]
  },
  {
   "cell_type": "code",
   "execution_count": 230,
   "id": "dcc65f72",
   "metadata": {},
   "outputs": [
    {
     "name": "stderr",
     "output_type": "stream",
     "text": [
      "c:\\Users\\PAWAN\\anaconda3\\envs\\project\\Lib\\site-packages\\keras\\src\\layers\\core\\input_layer.py:27: UserWarning: Argument `input_shape` is deprecated. Use `shape` instead.\n",
      "  warnings.warn(\n"
     ]
    }
   ],
   "source": [
    "# model= Sequential([\n",
    "    \n",
    "#     InputLayer(input_shape=(8,)),\n",
    "#     normalizer,\n",
    "#     Dense(128,activation=\"relu\"),\n",
    "#     Dense(64,activation=\"relu\"),\n",
    "#     Dense(32,activation=\"relu\"),\n",
    "#     Dense(16,activation=\"relu\"),\n",
    "#     Dense(1)\n",
    "    \n",
    "# ])\n",
    "\n",
    "model= Sequential([\n",
    "    \n",
    "    InputLayer(input_shape=(8,)),\n",
    "    normalizer,\n",
    "    Dense(64,activation=\"relu\"),\n",
    "    Dense(32,activation=\"relu\"),\n",
    "    Dense(64,activation=\"relu\"),\n",
    "    Dense(1)\n",
    "    \n",
    "])"
   ]
  },
  {
   "cell_type": "code",
   "execution_count": 231,
   "id": "9329ba5d",
   "metadata": {},
   "outputs": [
    {
     "data": {
      "text/html": [
       "<pre style=\"white-space:pre;overflow-x:auto;line-height:normal;font-family:Menlo,'DejaVu Sans Mono',consolas,'Courier New',monospace\"><span style=\"font-weight: bold\">Model: \"sequential_13\"</span>\n",
       "</pre>\n"
      ],
      "text/plain": [
       "\u001b[1mModel: \"sequential_13\"\u001b[0m\n"
      ]
     },
     "metadata": {},
     "output_type": "display_data"
    },
    {
     "data": {
      "text/html": [
       "<pre style=\"white-space:pre;overflow-x:auto;line-height:normal;font-family:Menlo,'DejaVu Sans Mono',consolas,'Courier New',monospace\">┏━━━━━━━━━━━━━━━━━━━━━━━━━━━━━━━━━┳━━━━━━━━━━━━━━━━━━━━━━━━┳━━━━━━━━━━━━━━━┓\n",
       "┃<span style=\"font-weight: bold\"> Layer (type)                    </span>┃<span style=\"font-weight: bold\"> Output Shape           </span>┃<span style=\"font-weight: bold\">       Param # </span>┃\n",
       "┡━━━━━━━━━━━━━━━━━━━━━━━━━━━━━━━━━╇━━━━━━━━━━━━━━━━━━━━━━━━╇━━━━━━━━━━━━━━━┩\n",
       "│ normalization_9 (<span style=\"color: #0087ff; text-decoration-color: #0087ff\">Normalization</span>) │ (<span style=\"color: #00d7ff; text-decoration-color: #00d7ff\">None</span>, <span style=\"color: #00af00; text-decoration-color: #00af00\">8</span>)              │            <span style=\"color: #00af00; text-decoration-color: #00af00\">17</span> │\n",
       "├─────────────────────────────────┼────────────────────────┼───────────────┤\n",
       "│ dense_62 (<span style=\"color: #0087ff; text-decoration-color: #0087ff\">Dense</span>)                │ (<span style=\"color: #00d7ff; text-decoration-color: #00d7ff\">None</span>, <span style=\"color: #00af00; text-decoration-color: #00af00\">64</span>)             │           <span style=\"color: #00af00; text-decoration-color: #00af00\">576</span> │\n",
       "├─────────────────────────────────┼────────────────────────┼───────────────┤\n",
       "│ dense_63 (<span style=\"color: #0087ff; text-decoration-color: #0087ff\">Dense</span>)                │ (<span style=\"color: #00d7ff; text-decoration-color: #00d7ff\">None</span>, <span style=\"color: #00af00; text-decoration-color: #00af00\">32</span>)             │         <span style=\"color: #00af00; text-decoration-color: #00af00\">2,080</span> │\n",
       "├─────────────────────────────────┼────────────────────────┼───────────────┤\n",
       "│ dense_64 (<span style=\"color: #0087ff; text-decoration-color: #0087ff\">Dense</span>)                │ (<span style=\"color: #00d7ff; text-decoration-color: #00d7ff\">None</span>, <span style=\"color: #00af00; text-decoration-color: #00af00\">64</span>)             │         <span style=\"color: #00af00; text-decoration-color: #00af00\">2,112</span> │\n",
       "├─────────────────────────────────┼────────────────────────┼───────────────┤\n",
       "│ dense_65 (<span style=\"color: #0087ff; text-decoration-color: #0087ff\">Dense</span>)                │ (<span style=\"color: #00d7ff; text-decoration-color: #00d7ff\">None</span>, <span style=\"color: #00af00; text-decoration-color: #00af00\">1</span>)              │            <span style=\"color: #00af00; text-decoration-color: #00af00\">65</span> │\n",
       "└─────────────────────────────────┴────────────────────────┴───────────────┘\n",
       "</pre>\n"
      ],
      "text/plain": [
       "┏━━━━━━━━━━━━━━━━━━━━━━━━━━━━━━━━━┳━━━━━━━━━━━━━━━━━━━━━━━━┳━━━━━━━━━━━━━━━┓\n",
       "┃\u001b[1m \u001b[0m\u001b[1mLayer (type)                   \u001b[0m\u001b[1m \u001b[0m┃\u001b[1m \u001b[0m\u001b[1mOutput Shape          \u001b[0m\u001b[1m \u001b[0m┃\u001b[1m \u001b[0m\u001b[1m      Param #\u001b[0m\u001b[1m \u001b[0m┃\n",
       "┡━━━━━━━━━━━━━━━━━━━━━━━━━━━━━━━━━╇━━━━━━━━━━━━━━━━━━━━━━━━╇━━━━━━━━━━━━━━━┩\n",
       "│ normalization_9 (\u001b[38;5;33mNormalization\u001b[0m) │ (\u001b[38;5;45mNone\u001b[0m, \u001b[38;5;34m8\u001b[0m)              │            \u001b[38;5;34m17\u001b[0m │\n",
       "├─────────────────────────────────┼────────────────────────┼───────────────┤\n",
       "│ dense_62 (\u001b[38;5;33mDense\u001b[0m)                │ (\u001b[38;5;45mNone\u001b[0m, \u001b[38;5;34m64\u001b[0m)             │           \u001b[38;5;34m576\u001b[0m │\n",
       "├─────────────────────────────────┼────────────────────────┼───────────────┤\n",
       "│ dense_63 (\u001b[38;5;33mDense\u001b[0m)                │ (\u001b[38;5;45mNone\u001b[0m, \u001b[38;5;34m32\u001b[0m)             │         \u001b[38;5;34m2,080\u001b[0m │\n",
       "├─────────────────────────────────┼────────────────────────┼───────────────┤\n",
       "│ dense_64 (\u001b[38;5;33mDense\u001b[0m)                │ (\u001b[38;5;45mNone\u001b[0m, \u001b[38;5;34m64\u001b[0m)             │         \u001b[38;5;34m2,112\u001b[0m │\n",
       "├─────────────────────────────────┼────────────────────────┼───────────────┤\n",
       "│ dense_65 (\u001b[38;5;33mDense\u001b[0m)                │ (\u001b[38;5;45mNone\u001b[0m, \u001b[38;5;34m1\u001b[0m)              │            \u001b[38;5;34m65\u001b[0m │\n",
       "└─────────────────────────────────┴────────────────────────┴───────────────┘\n"
      ]
     },
     "metadata": {},
     "output_type": "display_data"
    },
    {
     "data": {
      "text/html": [
       "<pre style=\"white-space:pre;overflow-x:auto;line-height:normal;font-family:Menlo,'DejaVu Sans Mono',consolas,'Courier New',monospace\"><span style=\"font-weight: bold\"> Total params: </span><span style=\"color: #00af00; text-decoration-color: #00af00\">4,850</span> (18.95 KB)\n",
       "</pre>\n"
      ],
      "text/plain": [
       "\u001b[1m Total params: \u001b[0m\u001b[38;5;34m4,850\u001b[0m (18.95 KB)\n"
      ]
     },
     "metadata": {},
     "output_type": "display_data"
    },
    {
     "data": {
      "text/html": [
       "<pre style=\"white-space:pre;overflow-x:auto;line-height:normal;font-family:Menlo,'DejaVu Sans Mono',consolas,'Courier New',monospace\"><span style=\"font-weight: bold\"> Trainable params: </span><span style=\"color: #00af00; text-decoration-color: #00af00\">4,833</span> (18.88 KB)\n",
       "</pre>\n"
      ],
      "text/plain": [
       "\u001b[1m Trainable params: \u001b[0m\u001b[38;5;34m4,833\u001b[0m (18.88 KB)\n"
      ]
     },
     "metadata": {},
     "output_type": "display_data"
    },
    {
     "data": {
      "text/html": [
       "<pre style=\"white-space:pre;overflow-x:auto;line-height:normal;font-family:Menlo,'DejaVu Sans Mono',consolas,'Courier New',monospace\"><span style=\"font-weight: bold\"> Non-trainable params: </span><span style=\"color: #00af00; text-decoration-color: #00af00\">17</span> (72.00 B)\n",
       "</pre>\n"
      ],
      "text/plain": [
       "\u001b[1m Non-trainable params: \u001b[0m\u001b[38;5;34m17\u001b[0m (72.00 B)\n"
      ]
     },
     "metadata": {},
     "output_type": "display_data"
    }
   ],
   "source": [
    "model.summary()"
   ]
  },
  {
   "cell_type": "code",
   "execution_count": 232,
   "id": "963d544b",
   "metadata": {},
   "outputs": [
    {
     "data": {
      "image/png": "[encoded data removed]",
      "text/plain": [
       "<IPython.core.display.Image object>"
      ]
     },
     "execution_count": 232,
     "metadata": {},
     "output_type": "execute_result"
    }
   ],
   "source": [
    "from keras.utils import plot_model\n",
    "\n",
    "plot_model(model, to_file=\"model.png\",show_shapes=True,dpi=100)"
   ]
  },
  {
   "cell_type": "code",
   "execution_count": 233,
   "id": "52aa6813",
   "metadata": {},
   "outputs": [],
   "source": [
    "from keras.optimizers import Adam\n",
    "from keras.metrics import MeanAbsoluteError as MAE\n",
    "from keras.metrics import MeanSquaredError as MSE"
   ]
  },
  {
   "cell_type": "code",
   "execution_count": 234,
   "id": "71cf5859",
   "metadata": {},
   "outputs": [],
   "source": [
    "model.compile(optimizer=Adam(learning_rate=0.1),loss=\"MSE\",metrics=[MAE])"
   ]
  },
  {
   "cell_type": "code",
   "execution_count": 235,
   "id": "04d6f317",
   "metadata": {},
   "outputs": [
    {
     "name": "stdout",
     "output_type": "stream",
     "text": [
      "Epoch 1/200\n",
      "\u001b[1m13/13\u001b[0m \u001b[32m━━━━━━━━━━━━━━━━━━━━\u001b[0m\u001b[37m\u001b[0m \u001b[1m2s\u001b[0m 36ms/step - loss: 108354011136.0000 - mean_absolute_error: 305271.4375 - val_loss: 41913057280.0000 - val_mean_absolute_error: 181969.0781\n",
      "Epoch 2/200\n",
      "\u001b[1m13/13\u001b[0m \u001b[32m━━━━━━━━━━━━━━━━━━━━\u001b[0m\u001b[37m\u001b[0m \u001b[1m0s\u001b[0m 13ms/step - loss: 21341759488.0000 - mean_absolute_error: 119033.5469 - val_loss: 11083875328.0000 - val_mean_absolute_error: 90257.6797\n",
      "Epoch 3/200\n",
      "\u001b[1m13/13\u001b[0m \u001b[32m━━━━━━━━━━━━━━━━━━━━\u001b[0m\u001b[37m\u001b[0m \u001b[1m0s\u001b[0m 13ms/step - loss: 8499478528.0000 - mean_absolute_error: 78467.6328 - val_loss: 3463782656.0000 - val_mean_absolute_error: 46271.8633\n",
      "Epoch 4/200\n",
      "\u001b[1m13/13\u001b[0m \u001b[32m━━━━━━━━━━━━━━━━━━━━\u001b[0m\u001b[37m\u001b[0m \u001b[1m0s\u001b[0m 12ms/step - loss: 3004255488.0000 - mean_absolute_error: 43737.1523 - val_loss: 2541349120.0000 - val_mean_absolute_error: 39150.0547\n",
      "Epoch 5/200\n",
      "\u001b[1m13/13\u001b[0m \u001b[32m━━━━━━━━━━━━━━━━━━━━\u001b[0m\u001b[37m\u001b[0m \u001b[1m0s\u001b[0m 13ms/step - loss: 2518142720.0000 - mean_absolute_error: 40615.6836 - val_loss: 2269270272.0000 - val_mean_absolute_error: 40364.9297\n",
      "Epoch 6/200\n",
      "\u001b[1m13/13\u001b[0m \u001b[32m━━━━━━━━━━━━━━━━━━━━\u001b[0m\u001b[37m\u001b[0m \u001b[1m0s\u001b[0m 15ms/step - loss: 2153616384.0000 - mean_absolute_error: 37981.4805 - val_loss: 2310460416.0000 - val_mean_absolute_error: 39535.2461\n",
      "Epoch 7/200\n",
      "\u001b[1m13/13\u001b[0m \u001b[32m━━━━━━━━━━━━━━━━━━━━\u001b[0m\u001b[37m\u001b[0m \u001b[1m0s\u001b[0m 14ms/step - loss: 2158494720.0000 - mean_absolute_error: 37779.1172 - val_loss: 2240634880.0000 - val_mean_absolute_error: 39850.7305\n",
      "Epoch 8/200\n",
      "\u001b[1m13/13\u001b[0m \u001b[32m━━━━━━━━━━━━━━━━━━━━\u001b[0m\u001b[37m\u001b[0m \u001b[1m0s\u001b[0m 12ms/step - loss: 2011392512.0000 - mean_absolute_error: 36220.9727 - val_loss: 2126966656.0000 - val_mean_absolute_error: 37967.0977\n",
      "Epoch 9/200\n",
      "\u001b[1m13/13\u001b[0m \u001b[32m━━━━━━━━━━━━━━━━━━━━\u001b[0m\u001b[37m\u001b[0m \u001b[1m0s\u001b[0m 13ms/step - loss: 1967936256.0000 - mean_absolute_error: 36060.8242 - val_loss: 2127236992.0000 - val_mean_absolute_error: 36289.8086\n",
      "Epoch 10/200\n",
      "\u001b[1m13/13\u001b[0m \u001b[32m━━━━━━━━━━━━━━━━━━━━\u001b[0m\u001b[37m\u001b[0m \u001b[1m0s\u001b[0m 12ms/step - loss: 1967123200.0000 - mean_absolute_error: 36118.6016 - val_loss: 2012432640.0000 - val_mean_absolute_error: 36724.9766\n",
      "Epoch 11/200\n",
      "\u001b[1m13/13\u001b[0m \u001b[32m━━━━━━━━━━━━━━━━━━━━\u001b[0m\u001b[37m\u001b[0m \u001b[1m0s\u001b[0m 12ms/step - loss: 1882071040.0000 - mean_absolute_error: 34864.6172 - val_loss: 2080969216.0000 - val_mean_absolute_error: 37311.8789\n",
      "Epoch 12/200\n",
      "\u001b[1m13/13\u001b[0m \u001b[32m━━━━━━━━━━━━━━━━━━━━\u001b[0m\u001b[37m\u001b[0m \u001b[1m0s\u001b[0m 13ms/step - loss: 1822932352.0000 - mean_absolute_error: 34403.0664 - val_loss: 2132899968.0000 - val_mean_absolute_error: 38243.6250\n",
      "Epoch 13/200\n",
      "\u001b[1m13/13\u001b[0m \u001b[32m━━━━━━━━━━━━━━━━━━━━\u001b[0m\u001b[37m\u001b[0m \u001b[1m0s\u001b[0m 12ms/step - loss: 1800067840.0000 - mean_absolute_error: 34477.5000 - val_loss: 2220200448.0000 - val_mean_absolute_error: 38549.6641\n",
      "Epoch 14/200\n",
      "\u001b[1m13/13\u001b[0m \u001b[32m━━━━━━━━━━━━━━━━━━━━\u001b[0m\u001b[37m\u001b[0m \u001b[1m0s\u001b[0m 13ms/step - loss: 1770116608.0000 - mean_absolute_error: 33657.2344 - val_loss: 2182051584.0000 - val_mean_absolute_error: 39044.6484\n",
      "Epoch 15/200\n",
      "\u001b[1m13/13\u001b[0m \u001b[32m━━━━━━━━━━━━━━━━━━━━\u001b[0m\u001b[37m\u001b[0m \u001b[1m0s\u001b[0m 13ms/step - loss: 1764091776.0000 - mean_absolute_error: 34123.8594 - val_loss: 2153675264.0000 - val_mean_absolute_error: 39150.0273\n",
      "Epoch 16/200\n",
      "\u001b[1m13/13\u001b[0m \u001b[32m━━━━━━━━━━━━━━━━━━━━\u001b[0m\u001b[37m\u001b[0m \u001b[1m0s\u001b[0m 12ms/step - loss: 1894714112.0000 - mean_absolute_error: 35340.5859 - val_loss: 2123127296.0000 - val_mean_absolute_error: 37731.3086\n",
      "Epoch 17/200\n",
      "\u001b[1m13/13\u001b[0m \u001b[32m━━━━━━━━━━━━━━━━━━━━\u001b[0m\u001b[37m\u001b[0m \u001b[1m0s\u001b[0m 14ms/step - loss: 1715378176.0000 - mean_absolute_error: 33438.7930 - val_loss: 1943698176.0000 - val_mean_absolute_error: 36563.0234\n",
      "Epoch 18/200\n",
      "\u001b[1m13/13\u001b[0m \u001b[32m━━━━━━━━━━━━━━━━━━━━\u001b[0m\u001b[37m\u001b[0m \u001b[1m0s\u001b[0m 12ms/step - loss: 1756262400.0000 - mean_absolute_error: 34052.1758 - val_loss: 2134943360.0000 - val_mean_absolute_error: 37493.8477\n",
      "Epoch 19/200\n",
      "\u001b[1m13/13\u001b[0m \u001b[32m━━━━━━━━━━━━━━━━━━━━\u001b[0m\u001b[37m\u001b[0m \u001b[1m0s\u001b[0m 11ms/step - loss: 1673298176.0000 - mean_absolute_error: 33239.5156 - val_loss: 2091433344.0000 - val_mean_absolute_error: 36289.6758\n",
      "Epoch 20/200\n",
      "\u001b[1m13/13\u001b[0m \u001b[32m━━━━━━━━━━━━━━━━━━━━\u001b[0m\u001b[37m\u001b[0m \u001b[1m0s\u001b[0m 15ms/step - loss: 1854384000.0000 - mean_absolute_error: 35404.1445 - val_loss: 2330235648.0000 - val_mean_absolute_error: 40622.0703\n",
      "Epoch 21/200\n",
      "\u001b[1m13/13\u001b[0m \u001b[32m━━━━━━━━━━━━━━━━━━━━\u001b[0m\u001b[37m\u001b[0m \u001b[1m0s\u001b[0m 13ms/step - loss: 1887140096.0000 - mean_absolute_error: 35278.0586 - val_loss: 2104894080.0000 - val_mean_absolute_error: 37454.2969\n",
      "Epoch 22/200\n",
      "\u001b[1m13/13\u001b[0m \u001b[32m━━━━━━━━━━━━━━━━━━━━\u001b[0m\u001b[37m\u001b[0m \u001b[1m0s\u001b[0m 13ms/step - loss: 1678007808.0000 - mean_absolute_error: 33394.5352 - val_loss: 2055793920.0000 - val_mean_absolute_error: 37718.2969\n",
      "Epoch 23/200\n",
      "\u001b[1m13/13\u001b[0m \u001b[32m━━━━━━━━━━━━━━━━━━━━\u001b[0m\u001b[37m\u001b[0m \u001b[1m0s\u001b[0m 16ms/step - loss: 1679009664.0000 - mean_absolute_error: 33306.2227 - val_loss: 2227230208.0000 - val_mean_absolute_error: 39631.3086\n",
      "Epoch 24/200\n",
      "\u001b[1m13/13\u001b[0m \u001b[32m━━━━━━━━━━━━━━━━━━━━\u001b[0m\u001b[37m\u001b[0m \u001b[1m0s\u001b[0m 13ms/step - loss: 1737277696.0000 - mean_absolute_error: 33853.9766 - val_loss: 2248580352.0000 - val_mean_absolute_error: 37158.1250\n",
      "Epoch 25/200\n",
      "\u001b[1m13/13\u001b[0m \u001b[32m━━━━━━━━━━━━━━━━━━━━\u001b[0m\u001b[37m\u001b[0m \u001b[1m0s\u001b[0m 12ms/step - loss: 1802088448.0000 - mean_absolute_error: 34978.5938 - val_loss: 2025143936.0000 - val_mean_absolute_error: 36434.3242\n",
      "Epoch 26/200\n",
      "\u001b[1m13/13\u001b[0m \u001b[32m━━━━━━━━━━━━━━━━━━━━\u001b[0m\u001b[37m\u001b[0m \u001b[1m0s\u001b[0m 13ms/step - loss: 1730892544.0000 - mean_absolute_error: 34175.2148 - val_loss: 1982011904.0000 - val_mean_absolute_error: 37174.7500\n",
      "Epoch 27/200\n",
      "\u001b[1m13/13\u001b[0m \u001b[32m━━━━━━━━━━━━━━━━━━━━\u001b[0m\u001b[37m\u001b[0m \u001b[1m0s\u001b[0m 13ms/step - loss: 1703707776.0000 - mean_absolute_error: 33758.8750 - val_loss: 2334976512.0000 - val_mean_absolute_error: 39983.7852\n",
      "Epoch 28/200\n",
      "\u001b[1m13/13\u001b[0m \u001b[32m━━━━━━━━━━━━━━━━━━━━\u001b[0m\u001b[37m\u001b[0m \u001b[1m0s\u001b[0m 13ms/step - loss: 1934137600.0000 - mean_absolute_error: 35421.7148 - val_loss: 2068368640.0000 - val_mean_absolute_error: 36868.9688\n",
      "Epoch 29/200\n",
      "\u001b[1m13/13\u001b[0m \u001b[32m━━━━━━━━━━━━━━━━━━━━\u001b[0m\u001b[37m\u001b[0m \u001b[1m0s\u001b[0m 12ms/step - loss: 1803516416.0000 - mean_absolute_error: 33780.9297 - val_loss: 2147495168.0000 - val_mean_absolute_error: 36665.4023\n",
      "Epoch 30/200\n",
      "\u001b[1m13/13\u001b[0m \u001b[32m━━━━━━━━━━━━━━━━━━━━\u001b[0m\u001b[37m\u001b[0m \u001b[1m0s\u001b[0m 13ms/step - loss: 1827246464.0000 - mean_absolute_error: 34842.2969 - val_loss: 2012861952.0000 - val_mean_absolute_error: 36386.3750\n",
      "Epoch 31/200\n",
      "\u001b[1m13/13\u001b[0m \u001b[32m━━━━━━━━━━━━━━━━━━━━\u001b[0m\u001b[37m\u001b[0m \u001b[1m0s\u001b[0m 13ms/step - loss: 1795653120.0000 - mean_absolute_error: 34744.1992 - val_loss: 1983224832.0000 - val_mean_absolute_error: 36778.4961\n",
      "Epoch 32/200\n",
      "\u001b[1m13/13\u001b[0m \u001b[32m━━━━━━━━━━━━━━━━━━━━\u001b[0m\u001b[37m\u001b[0m \u001b[1m0s\u001b[0m 13ms/step - loss: 1754631424.0000 - mean_absolute_error: 34433.3672 - val_loss: 2147661056.0000 - val_mean_absolute_error: 38146.0156\n",
      "Epoch 33/200\n",
      "\u001b[1m13/13\u001b[0m \u001b[32m━━━━━━━━━━━━━━━━━━━━\u001b[0m\u001b[37m\u001b[0m \u001b[1m0s\u001b[0m 12ms/step - loss: 1634720000.0000 - mean_absolute_error: 33171.6680 - val_loss: 1994404608.0000 - val_mean_absolute_error: 37221.3945\n",
      "Epoch 34/200\n",
      "\u001b[1m13/13\u001b[0m \u001b[32m━━━━━━━━━━━━━━━━━━━━\u001b[0m\u001b[37m\u001b[0m \u001b[1m0s\u001b[0m 17ms/step - loss: 1883159808.0000 - mean_absolute_error: 35640.1328 - val_loss: 2177841920.0000 - val_mean_absolute_error: 38734.8125\n",
      "Epoch 35/200\n",
      "\u001b[1m13/13\u001b[0m \u001b[32m━━━━━━━━━━━━━━━━━━━━\u001b[0m\u001b[37m\u001b[0m \u001b[1m0s\u001b[0m 13ms/step - loss: 1777222656.0000 - mean_absolute_error: 34167.1797 - val_loss: 1999518976.0000 - val_mean_absolute_error: 36032.2227\n",
      "Epoch 36/200\n",
      "\u001b[1m13/13\u001b[0m \u001b[32m━━━━━━━━━━━━━━━━━━━━\u001b[0m\u001b[37m\u001b[0m \u001b[1m0s\u001b[0m 11ms/step - loss: 1836337024.0000 - mean_absolute_error: 35236.2422 - val_loss: 1955584256.0000 - val_mean_absolute_error: 36694.2148\n",
      "Epoch 37/200\n",
      "\u001b[1m13/13\u001b[0m \u001b[32m━━━━━━━━━━━━━━━━━━━━\u001b[0m\u001b[37m\u001b[0m \u001b[1m0s\u001b[0m 12ms/step - loss: 1672443648.0000 - mean_absolute_error: 33241.3438 - val_loss: 1961227392.0000 - val_mean_absolute_error: 37033.9258\n",
      "Epoch 38/200\n",
      "\u001b[1m13/13\u001b[0m \u001b[32m━━━━━━━━━━━━━━━━━━━━\u001b[0m\u001b[37m\u001b[0m \u001b[1m0s\u001b[0m 12ms/step - loss: 1685950336.0000 - mean_absolute_error: 33800.8359 - val_loss: 2018117888.0000 - val_mean_absolute_error: 36643.2969\n",
      "Epoch 39/200\n",
      "\u001b[1m13/13\u001b[0m \u001b[32m━━━━━━━━━━━━━━━━━━━━\u001b[0m\u001b[37m\u001b[0m \u001b[1m0s\u001b[0m 12ms/step - loss: 1599756800.0000 - mean_absolute_error: 33147.6289 - val_loss: 1992867840.0000 - val_mean_absolute_error: 36076.3281\n",
      "Epoch 40/200\n",
      "\u001b[1m13/13\u001b[0m \u001b[32m━━━━━━━━━━━━━━━━━━━━\u001b[0m\u001b[37m\u001b[0m \u001b[1m0s\u001b[0m 13ms/step - loss: 1714909312.0000 - mean_absolute_error: 34216.3320 - val_loss: 2330264576.0000 - val_mean_absolute_error: 39529.7109\n",
      "Epoch 41/200\n",
      "\u001b[1m13/13\u001b[0m \u001b[32m━━━━━━━━━━━━━━━━━━━━\u001b[0m\u001b[37m\u001b[0m \u001b[1m0s\u001b[0m 13ms/step - loss: 1852038400.0000 - mean_absolute_error: 35014.7617 - val_loss: 2063084032.0000 - val_mean_absolute_error: 38734.5195\n",
      "Epoch 42/200\n",
      "\u001b[1m13/13\u001b[0m \u001b[32m━━━━━━━━━━━━━━━━━━━━\u001b[0m\u001b[37m\u001b[0m \u001b[1m0s\u001b[0m 13ms/step - loss: 1827183104.0000 - mean_absolute_error: 35283.8750 - val_loss: 2117042816.0000 - val_mean_absolute_error: 37693.6445\n",
      "Epoch 43/200\n",
      "\u001b[1m13/13\u001b[0m \u001b[32m━━━━━━━━━━━━━━━━━━━━\u001b[0m\u001b[37m\u001b[0m \u001b[1m0s\u001b[0m 12ms/step - loss: 1752831616.0000 - mean_absolute_error: 34425.9180 - val_loss: 1927522176.0000 - val_mean_absolute_error: 35824.1797\n",
      "Epoch 44/200\n",
      "\u001b[1m13/13\u001b[0m \u001b[32m━━━━━━━━━━━━━━━━━━━━\u001b[0m\u001b[37m\u001b[0m \u001b[1m0s\u001b[0m 13ms/step - loss: 1725618688.0000 - mean_absolute_error: 33792.9688 - val_loss: 1909485056.0000 - val_mean_absolute_error: 36656.0781\n",
      "Epoch 45/200\n",
      "\u001b[1m13/13\u001b[0m \u001b[32m━━━━━━━━━━━━━━━━━━━━\u001b[0m\u001b[37m\u001b[0m \u001b[1m0s\u001b[0m 12ms/step - loss: 1655808768.0000 - mean_absolute_error: 33662.6367 - val_loss: 2152346112.0000 - val_mean_absolute_error: 37892.7969\n",
      "Epoch 46/200\n",
      "\u001b[1m13/13\u001b[0m \u001b[32m━━━━━━━━━━━━━━━━━━━━\u001b[0m\u001b[37m\u001b[0m \u001b[1m0s\u001b[0m 12ms/step - loss: 1699993600.0000 - mean_absolute_error: 33489.3633 - val_loss: 2122887040.0000 - val_mean_absolute_error: 38565.7734\n",
      "Epoch 47/200\n",
      "\u001b[1m13/13\u001b[0m \u001b[32m━━━━━━━━━━━━━━━━━━━━\u001b[0m\u001b[37m\u001b[0m \u001b[1m0s\u001b[0m 13ms/step - loss: 1741900288.0000 - mean_absolute_error: 34063.2109 - val_loss: 2013848704.0000 - val_mean_absolute_error: 37693.7539\n",
      "Epoch 48/200\n",
      "\u001b[1m13/13\u001b[0m \u001b[32m━━━━━━━━━━━━━━━━━━━━\u001b[0m\u001b[37m\u001b[0m \u001b[1m0s\u001b[0m 12ms/step - loss: 1842533760.0000 - mean_absolute_error: 34684.4453 - val_loss: 2434817024.0000 - val_mean_absolute_error: 41140.5820\n",
      "Epoch 49/200\n",
      "\u001b[1m13/13\u001b[0m \u001b[32m━━━━━━━━━━━━━━━━━━━━\u001b[0m\u001b[37m\u001b[0m \u001b[1m0s\u001b[0m 13ms/step - loss: 1819230208.0000 - mean_absolute_error: 34460.2773 - val_loss: 2231962112.0000 - val_mean_absolute_error: 39668.2656\n",
      "Epoch 50/200\n",
      "\u001b[1m13/13\u001b[0m \u001b[32m━━━━━━━━━━━━━━━━━━━━\u001b[0m\u001b[37m\u001b[0m \u001b[1m0s\u001b[0m 12ms/step - loss: 1755998464.0000 - mean_absolute_error: 34082.1172 - val_loss: 2298523392.0000 - val_mean_absolute_error: 38391.7617\n",
      "Epoch 51/200\n",
      "\u001b[1m13/13\u001b[0m \u001b[32m━━━━━━━━━━━━━━━━━━━━\u001b[0m\u001b[37m\u001b[0m \u001b[1m0s\u001b[0m 13ms/step - loss: 1633400704.0000 - mean_absolute_error: 33032.3516 - val_loss: 1991035264.0000 - val_mean_absolute_error: 36067.9844\n",
      "Epoch 52/200\n",
      "\u001b[1m13/13\u001b[0m \u001b[32m━━━━━━━━━━━━━━━━━━━━\u001b[0m\u001b[37m\u001b[0m \u001b[1m0s\u001b[0m 13ms/step - loss: 1739061376.0000 - mean_absolute_error: 33873.0664 - val_loss: 2150182144.0000 - val_mean_absolute_error: 38434.1719\n",
      "Epoch 53/200\n",
      "\u001b[1m13/13\u001b[0m \u001b[32m━━━━━━━━━━━━━━━━━━━━\u001b[0m\u001b[37m\u001b[0m \u001b[1m0s\u001b[0m 14ms/step - loss: 1837337088.0000 - mean_absolute_error: 35122.9570 - val_loss: 2029809536.0000 - val_mean_absolute_error: 36999.7773\n",
      "Epoch 54/200\n",
      "\u001b[1m13/13\u001b[0m \u001b[32m━━━━━━━━━━━━━━━━━━━━\u001b[0m\u001b[37m\u001b[0m \u001b[1m0s\u001b[0m 13ms/step - loss: 1700096384.0000 - mean_absolute_error: 33565.9844 - val_loss: 1971473152.0000 - val_mean_absolute_error: 36405.9375\n",
      "Epoch 55/200\n",
      "\u001b[1m13/13\u001b[0m \u001b[32m━━━━━━━━━━━━━━━━━━━━\u001b[0m\u001b[37m\u001b[0m \u001b[1m0s\u001b[0m 12ms/step - loss: 1637240064.0000 - mean_absolute_error: 32514.1738 - val_loss: 2354082560.0000 - val_mean_absolute_error: 40284.8320\n",
      "Epoch 56/200\n",
      "\u001b[1m13/13\u001b[0m \u001b[32m━━━━━━━━━━━━━━━━━━━━\u001b[0m\u001b[37m\u001b[0m \u001b[1m0s\u001b[0m 12ms/step - loss: 1865273472.0000 - mean_absolute_error: 35530.5703 - val_loss: 2207307264.0000 - val_mean_absolute_error: 37615.4453\n",
      "Epoch 57/200\n",
      "\u001b[1m13/13\u001b[0m \u001b[32m━━━━━━━━━━━━━━━━━━━━\u001b[0m\u001b[37m\u001b[0m \u001b[1m0s\u001b[0m 11ms/step - loss: 1754397056.0000 - mean_absolute_error: 33871.0820 - val_loss: 1998082176.0000 - val_mean_absolute_error: 37124.7109\n",
      "Epoch 58/200\n",
      "\u001b[1m13/13\u001b[0m \u001b[32m━━━━━━━━━━━━━━━━━━━━\u001b[0m\u001b[37m\u001b[0m \u001b[1m0s\u001b[0m 13ms/step - loss: 1670834432.0000 - mean_absolute_error: 33155.2148 - val_loss: 2056285056.0000 - val_mean_absolute_error: 36235.7617\n",
      "Epoch 59/200\n",
      "\u001b[1m13/13\u001b[0m \u001b[32m━━━━━━━━━━━━━━━━━━━━\u001b[0m\u001b[37m\u001b[0m \u001b[1m0s\u001b[0m 13ms/step - loss: 1725130752.0000 - mean_absolute_error: 33977.6133 - val_loss: 2098983680.0000 - val_mean_absolute_error: 36815.7461\n",
      "Epoch 60/200\n",
      "\u001b[1m13/13\u001b[0m \u001b[32m━━━━━━━━━━━━━━━━━━━━\u001b[0m\u001b[37m\u001b[0m \u001b[1m0s\u001b[0m 14ms/step - loss: 1599312640.0000 - mean_absolute_error: 32625.9902 - val_loss: 1954718976.0000 - val_mean_absolute_error: 37664.3008\n",
      "Epoch 61/200\n",
      "\u001b[1m13/13\u001b[0m \u001b[32m━━━━━━━━━━━━━━━━━━━━\u001b[0m\u001b[37m\u001b[0m \u001b[1m0s\u001b[0m 12ms/step - loss: 1746727040.0000 - mean_absolute_error: 34651.1094 - val_loss: 1970188800.0000 - val_mean_absolute_error: 35957.2734\n",
      "Epoch 62/200\n",
      "\u001b[1m13/13\u001b[0m \u001b[32m━━━━━━━━━━━━━━━━━━━━\u001b[0m\u001b[37m\u001b[0m \u001b[1m0s\u001b[0m 13ms/step - loss: 1668233216.0000 - mean_absolute_error: 33205.9062 - val_loss: 2061520128.0000 - val_mean_absolute_error: 36908.5820\n",
      "Epoch 63/200\n",
      "\u001b[1m13/13\u001b[0m \u001b[32m━━━━━━━━━━━━━━━━━━━━\u001b[0m\u001b[37m\u001b[0m \u001b[1m0s\u001b[0m 12ms/step - loss: 1590048256.0000 - mean_absolute_error: 32960.6719 - val_loss: 1925437184.0000 - val_mean_absolute_error: 35784.8633\n",
      "Epoch 64/200\n",
      "\u001b[1m13/13\u001b[0m \u001b[32m━━━━━━━━━━━━━━━━━━━━\u001b[0m\u001b[37m\u001b[0m \u001b[1m0s\u001b[0m 13ms/step - loss: 1681940096.0000 - mean_absolute_error: 33648.0898 - val_loss: 2147846144.0000 - val_mean_absolute_error: 38153.9766\n",
      "Epoch 65/200\n",
      "\u001b[1m13/13\u001b[0m \u001b[32m━━━━━━━━━━━━━━━━━━━━\u001b[0m\u001b[37m\u001b[0m \u001b[1m0s\u001b[0m 15ms/step - loss: 1837182080.0000 - mean_absolute_error: 35174.1914 - val_loss: 2115189248.0000 - val_mean_absolute_error: 38378.1758\n",
      "Epoch 66/200\n",
      "\u001b[1m13/13\u001b[0m \u001b[32m━━━━━━━━━━━━━━━━━━━━\u001b[0m\u001b[37m\u001b[0m \u001b[1m0s\u001b[0m 15ms/step - loss: 1679882496.0000 - mean_absolute_error: 33685.5898 - val_loss: 1955612928.0000 - val_mean_absolute_error: 36104.5156\n",
      "Epoch 67/200\n",
      "\u001b[1m13/13\u001b[0m \u001b[32m━━━━━━━━━━━━━━━━━━━━\u001b[0m\u001b[37m\u001b[0m \u001b[1m0s\u001b[0m 14ms/step - loss: 1581269632.0000 - mean_absolute_error: 32455.1348 - val_loss: 2024499712.0000 - val_mean_absolute_error: 37145.8945\n",
      "Epoch 68/200\n",
      "\u001b[1m13/13\u001b[0m \u001b[32m━━━━━━━━━━━━━━━━━━━━\u001b[0m\u001b[37m\u001b[0m \u001b[1m0s\u001b[0m 13ms/step - loss: 1504631424.0000 - mean_absolute_error: 31809.5859 - val_loss: 1948420480.0000 - val_mean_absolute_error: 36338.3555\n",
      "Epoch 69/200\n",
      "\u001b[1m13/13\u001b[0m \u001b[32m━━━━━━━━━━━━━━━━━━━━\u001b[0m\u001b[37m\u001b[0m \u001b[1m0s\u001b[0m 15ms/step - loss: 1898242176.0000 - mean_absolute_error: 35961.6484 - val_loss: 2037365120.0000 - val_mean_absolute_error: 36351.9453\n",
      "Epoch 70/200\n",
      "\u001b[1m13/13\u001b[0m \u001b[32m━━━━━━━━━━━━━━━━━━━━\u001b[0m\u001b[37m\u001b[0m \u001b[1m0s\u001b[0m 16ms/step - loss: 1691641088.0000 - mean_absolute_error: 33465.7812 - val_loss: 2526849536.0000 - val_mean_absolute_error: 41667.6484\n",
      "Epoch 71/200\n",
      "\u001b[1m13/13\u001b[0m \u001b[32m━━━━━━━━━━━━━━━━━━━━\u001b[0m\u001b[37m\u001b[0m \u001b[1m0s\u001b[0m 19ms/step - loss: 1710966912.0000 - mean_absolute_error: 33977.4258 - val_loss: 2002170368.0000 - val_mean_absolute_error: 37915.2734\n",
      "Epoch 72/200\n",
      "\u001b[1m13/13\u001b[0m \u001b[32m━━━━━━━━━━━━━━━━━━━━\u001b[0m\u001b[37m\u001b[0m \u001b[1m0s\u001b[0m 13ms/step - loss: 1713520000.0000 - mean_absolute_error: 33464.2656 - val_loss: 2194176512.0000 - val_mean_absolute_error: 38262.8711\n",
      "Epoch 73/200\n",
      "\u001b[1m13/13\u001b[0m \u001b[32m━━━━━━━━━━━━━━━━━━━━\u001b[0m\u001b[37m\u001b[0m \u001b[1m0s\u001b[0m 14ms/step - loss: 1594894336.0000 - mean_absolute_error: 32639.0371 - val_loss: 2044449920.0000 - val_mean_absolute_error: 36355.7891\n",
      "Epoch 74/200\n",
      "\u001b[1m13/13\u001b[0m \u001b[32m━━━━━━━━━━━━━━━━━━━━\u001b[0m\u001b[37m\u001b[0m \u001b[1m0s\u001b[0m 16ms/step - loss: 1774236544.0000 - mean_absolute_error: 34381.1875 - val_loss: 2055037952.0000 - val_mean_absolute_error: 37359.9219\n",
      "Epoch 75/200\n",
      "\u001b[1m13/13\u001b[0m \u001b[32m━━━━━━━━━━━━━━━━━━━━\u001b[0m\u001b[37m\u001b[0m \u001b[1m0s\u001b[0m 13ms/step - loss: 1685095552.0000 - mean_absolute_error: 33186.4180 - val_loss: 2103923200.0000 - val_mean_absolute_error: 37366.1562\n",
      "Epoch 76/200\n",
      "\u001b[1m13/13\u001b[0m \u001b[32m━━━━━━━━━━━━━━━━━━━━\u001b[0m\u001b[37m\u001b[0m \u001b[1m0s\u001b[0m 12ms/step - loss: 1878331520.0000 - mean_absolute_error: 35075.2070 - val_loss: 2918245376.0000 - val_mean_absolute_error: 45191.9609\n",
      "Epoch 77/200\n",
      "\u001b[1m13/13\u001b[0m \u001b[32m━━━━━━━━━━━━━━━━━━━━\u001b[0m\u001b[37m\u001b[0m \u001b[1m0s\u001b[0m 14ms/step - loss: 1897647744.0000 - mean_absolute_error: 35506.1094 - val_loss: 1903713024.0000 - val_mean_absolute_error: 35861.0195\n",
      "Epoch 78/200\n",
      "\u001b[1m13/13\u001b[0m \u001b[32m━━━━━━━━━━━━━━━━━━━━\u001b[0m\u001b[37m\u001b[0m \u001b[1m0s\u001b[0m 13ms/step - loss: 1620447744.0000 - mean_absolute_error: 33218.9883 - val_loss: 1918897664.0000 - val_mean_absolute_error: 36262.3281\n",
      "Epoch 79/200\n",
      "\u001b[1m13/13\u001b[0m \u001b[32m━━━━━━━━━━━━━━━━━━━━\u001b[0m\u001b[37m\u001b[0m \u001b[1m0s\u001b[0m 11ms/step - loss: 1553814784.0000 - mean_absolute_error: 31747.5664 - val_loss: 1952187648.0000 - val_mean_absolute_error: 36272.4297\n",
      "Epoch 80/200\n",
      "\u001b[1m13/13\u001b[0m \u001b[32m━━━━━━━━━━━━━━━━━━━━\u001b[0m\u001b[37m\u001b[0m \u001b[1m0s\u001b[0m 13ms/step - loss: 1629546368.0000 - mean_absolute_error: 32751.6992 - val_loss: 1971086976.0000 - val_mean_absolute_error: 36684.7695\n",
      "Epoch 81/200\n",
      "\u001b[1m13/13\u001b[0m \u001b[32m━━━━━━━━━━━━━━━━━━━━\u001b[0m\u001b[37m\u001b[0m \u001b[1m0s\u001b[0m 12ms/step - loss: 1585239680.0000 - mean_absolute_error: 32304.8184 - val_loss: 2100856576.0000 - val_mean_absolute_error: 37547.4805\n",
      "Epoch 82/200\n",
      "\u001b[1m13/13\u001b[0m \u001b[32m━━━━━━━━━━━━━━━━━━━━\u001b[0m\u001b[37m\u001b[0m \u001b[1m0s\u001b[0m 12ms/step - loss: 1648279552.0000 - mean_absolute_error: 32909.3984 - val_loss: 2108982528.0000 - val_mean_absolute_error: 37947.0703\n",
      "Epoch 83/200\n",
      "\u001b[1m13/13\u001b[0m \u001b[32m━━━━━━━━━━━━━━━━━━━━\u001b[0m\u001b[37m\u001b[0m \u001b[1m0s\u001b[0m 12ms/step - loss: 1643098496.0000 - mean_absolute_error: 33096.1719 - val_loss: 2079269632.0000 - val_mean_absolute_error: 36906.5938\n",
      "Epoch 84/200\n",
      "\u001b[1m13/13\u001b[0m \u001b[32m━━━━━━━━━━━━━━━━━━━━\u001b[0m\u001b[37m\u001b[0m \u001b[1m0s\u001b[0m 12ms/step - loss: 1703021056.0000 - mean_absolute_error: 33643.5625 - val_loss: 2083040768.0000 - val_mean_absolute_error: 37950.7969\n",
      "Epoch 85/200\n",
      "\u001b[1m13/13\u001b[0m \u001b[32m━━━━━━━━━━━━━━━━━━━━\u001b[0m\u001b[37m\u001b[0m \u001b[1m0s\u001b[0m 12ms/step - loss: 1641549824.0000 - mean_absolute_error: 33170.7344 - val_loss: 1961409792.0000 - val_mean_absolute_error: 36251.8359\n",
      "Epoch 86/200\n",
      "\u001b[1m13/13\u001b[0m \u001b[32m━━━━━━━━━━━━━━━━━━━━\u001b[0m\u001b[37m\u001b[0m \u001b[1m0s\u001b[0m 13ms/step - loss: 1589420288.0000 - mean_absolute_error: 32652.8184 - val_loss: 2436508928.0000 - val_mean_absolute_error: 41140.4180\n",
      "Epoch 87/200\n",
      "\u001b[1m13/13\u001b[0m \u001b[32m━━━━━━━━━━━━━━━━━━━━\u001b[0m\u001b[37m\u001b[0m \u001b[1m0s\u001b[0m 13ms/step - loss: 1833695872.0000 - mean_absolute_error: 34912.3906 - val_loss: 2037078144.0000 - val_mean_absolute_error: 36281.1055\n",
      "Epoch 88/200\n",
      "\u001b[1m13/13\u001b[0m \u001b[32m━━━━━━━━━━━━━━━━━━━━\u001b[0m\u001b[37m\u001b[0m \u001b[1m0s\u001b[0m 12ms/step - loss: 1650174464.0000 - mean_absolute_error: 33334.5430 - val_loss: 1849084800.0000 - val_mean_absolute_error: 36296.9141\n",
      "Epoch 89/200\n",
      "\u001b[1m13/13\u001b[0m \u001b[32m━━━━━━━━━━━━━━━━━━━━\u001b[0m\u001b[37m\u001b[0m \u001b[1m0s\u001b[0m 12ms/step - loss: 1693621504.0000 - mean_absolute_error: 33909.4180 - val_loss: 2045571072.0000 - val_mean_absolute_error: 37486.0156\n",
      "Epoch 90/200\n",
      "\u001b[1m13/13\u001b[0m \u001b[32m━━━━━━━━━━━━━━━━━━━━\u001b[0m\u001b[37m\u001b[0m \u001b[1m0s\u001b[0m 13ms/step - loss: 1818847488.0000 - mean_absolute_error: 34997.1719 - val_loss: 2394472192.0000 - val_mean_absolute_error: 39090.2539\n",
      "Epoch 91/200\n",
      "\u001b[1m13/13\u001b[0m \u001b[32m━━━━━━━━━━━━━━━━━━━━\u001b[0m\u001b[37m\u001b[0m \u001b[1m0s\u001b[0m 11ms/step - loss: 1820742912.0000 - mean_absolute_error: 34916.3281 - val_loss: 1971452928.0000 - val_mean_absolute_error: 36315.2383\n",
      "Epoch 92/200\n",
      "\u001b[1m13/13\u001b[0m \u001b[32m━━━━━━━━━━━━━━━━━━━━\u001b[0m\u001b[37m\u001b[0m \u001b[1m0s\u001b[0m 12ms/step - loss: 1621392256.0000 - mean_absolute_error: 32507.3516 - val_loss: 2196183552.0000 - val_mean_absolute_error: 39050.5547\n",
      "Epoch 93/200\n",
      "\u001b[1m13/13\u001b[0m \u001b[32m━━━━━━━━━━━━━━━━━━━━\u001b[0m\u001b[37m\u001b[0m \u001b[1m0s\u001b[0m 12ms/step - loss: 1696117888.0000 - mean_absolute_error: 34034.5938 - val_loss: 1980156416.0000 - val_mean_absolute_error: 37046.6758\n",
      "Epoch 94/200\n",
      "\u001b[1m13/13\u001b[0m \u001b[32m━━━━━━━━━━━━━━━━━━━━\u001b[0m\u001b[37m\u001b[0m \u001b[1m0s\u001b[0m 11ms/step - loss: 1657327232.0000 - mean_absolute_error: 32843.0781 - val_loss: 1916165760.0000 - val_mean_absolute_error: 36627.9062\n",
      "Epoch 95/200\n",
      "\u001b[1m13/13\u001b[0m \u001b[32m━━━━━━━━━━━━━━━━━━━━\u001b[0m\u001b[37m\u001b[0m \u001b[1m0s\u001b[0m 12ms/step - loss: 1708414464.0000 - mean_absolute_error: 33617.4375 - val_loss: 2078705152.0000 - val_mean_absolute_error: 36650.8672\n",
      "Epoch 96/200\n",
      "\u001b[1m13/13\u001b[0m \u001b[32m━━━━━━━━━━━━━━━━━━━━\u001b[0m\u001b[37m\u001b[0m \u001b[1m0s\u001b[0m 10ms/step - loss: 1628002432.0000 - mean_absolute_error: 32580.5820 - val_loss: 1878615296.0000 - val_mean_absolute_error: 35740.0898\n",
      "Epoch 97/200\n",
      "\u001b[1m13/13\u001b[0m \u001b[32m━━━━━━━━━━━━━━━━━━━━\u001b[0m\u001b[37m\u001b[0m \u001b[1m0s\u001b[0m 11ms/step - loss: 1600724992.0000 - mean_absolute_error: 32752.7852 - val_loss: 1971096448.0000 - val_mean_absolute_error: 36951.8086\n",
      "Epoch 98/200\n",
      "\u001b[1m13/13\u001b[0m \u001b[32m━━━━━━━━━━━━━━━━━━━━\u001b[0m\u001b[37m\u001b[0m \u001b[1m0s\u001b[0m 11ms/step - loss: 1708601472.0000 - mean_absolute_error: 33472.7422 - val_loss: 2123330176.0000 - val_mean_absolute_error: 37761.6250\n",
      "Epoch 99/200\n",
      "\u001b[1m13/13\u001b[0m \u001b[32m━━━━━━━━━━━━━━━━━━━━\u001b[0m\u001b[37m\u001b[0m \u001b[1m0s\u001b[0m 11ms/step - loss: 1596509568.0000 - mean_absolute_error: 32397.3711 - val_loss: 1957872256.0000 - val_mean_absolute_error: 36654.3047\n",
      "Epoch 100/200\n",
      "\u001b[1m13/13\u001b[0m \u001b[32m━━━━━━━━━━━━━━━━━━━━\u001b[0m\u001b[37m\u001b[0m \u001b[1m0s\u001b[0m 11ms/step - loss: 1614287488.0000 - mean_absolute_error: 32484.1738 - val_loss: 1863516160.0000 - val_mean_absolute_error: 35801.7109\n",
      "Epoch 101/200\n",
      "\u001b[1m13/13\u001b[0m \u001b[32m━━━━━━━━━━━━━━━━━━━━\u001b[0m\u001b[37m\u001b[0m \u001b[1m0s\u001b[0m 13ms/step - loss: 1731459328.0000 - mean_absolute_error: 34018.0703 - val_loss: 2307445760.0000 - val_mean_absolute_error: 38121.1172\n",
      "Epoch 102/200\n",
      "\u001b[1m13/13\u001b[0m \u001b[32m━━━━━━━━━━━━━━━━━━━━\u001b[0m\u001b[37m\u001b[0m \u001b[1m0s\u001b[0m 11ms/step - loss: 1617168768.0000 - mean_absolute_error: 32684.0391 - val_loss: 1890858496.0000 - val_mean_absolute_error: 37015.7305\n",
      "Epoch 103/200\n",
      "\u001b[1m13/13\u001b[0m \u001b[32m━━━━━━━━━━━━━━━━━━━━\u001b[0m\u001b[37m\u001b[0m \u001b[1m0s\u001b[0m 13ms/step - loss: 1755399296.0000 - mean_absolute_error: 34003.9102 - val_loss: 2066676096.0000 - val_mean_absolute_error: 37723.5742\n",
      "Epoch 104/200\n",
      "\u001b[1m13/13\u001b[0m \u001b[32m━━━━━━━━━━━━━━━━━━━━\u001b[0m\u001b[37m\u001b[0m \u001b[1m0s\u001b[0m 11ms/step - loss: 1699433728.0000 - mean_absolute_error: 33429.0078 - val_loss: 1946322816.0000 - val_mean_absolute_error: 36656.7969\n",
      "Epoch 105/200\n",
      "\u001b[1m13/13\u001b[0m \u001b[32m━━━━━━━━━━━━━━━━━━━━\u001b[0m\u001b[37m\u001b[0m \u001b[1m0s\u001b[0m 12ms/step - loss: 1632911104.0000 - mean_absolute_error: 33625.6875 - val_loss: 2391047424.0000 - val_mean_absolute_error: 40836.2812\n",
      "Epoch 106/200\n",
      "\u001b[1m13/13\u001b[0m \u001b[32m━━━━━━━━━━━━━━━━━━━━\u001b[0m\u001b[37m\u001b[0m \u001b[1m0s\u001b[0m 11ms/step - loss: 1813513216.0000 - mean_absolute_error: 34692.8594 - val_loss: 1889081728.0000 - val_mean_absolute_error: 35636.6758\n",
      "Epoch 107/200\n",
      "\u001b[1m13/13\u001b[0m \u001b[32m━━━━━━━━━━━━━━━━━━━━\u001b[0m\u001b[37m\u001b[0m \u001b[1m0s\u001b[0m 12ms/step - loss: 1537491712.0000 - mean_absolute_error: 32685.6055 - val_loss: 3406517248.0000 - val_mean_absolute_error: 48834.6914\n",
      "Epoch 108/200\n",
      "\u001b[1m13/13\u001b[0m \u001b[32m━━━━━━━━━━━━━━━━━━━━\u001b[0m\u001b[37m\u001b[0m \u001b[1m0s\u001b[0m 12ms/step - loss: 2100028800.0000 - mean_absolute_error: 37150.7656 - val_loss: 1997953792.0000 - val_mean_absolute_error: 36809.8594\n",
      "Epoch 109/200\n",
      "\u001b[1m13/13\u001b[0m \u001b[32m━━━━━━━━━━━━━━━━━━━━\u001b[0m\u001b[37m\u001b[0m \u001b[1m0s\u001b[0m 11ms/step - loss: 1714117120.0000 - mean_absolute_error: 33951.2422 - val_loss: 1864616448.0000 - val_mean_absolute_error: 35664.9961\n",
      "Epoch 110/200\n",
      "\u001b[1m13/13\u001b[0m \u001b[32m━━━━━━━━━━━━━━━━━━━━\u001b[0m\u001b[37m\u001b[0m \u001b[1m0s\u001b[0m 12ms/step - loss: 1569284480.0000 - mean_absolute_error: 32493.8789 - val_loss: 1886326272.0000 - val_mean_absolute_error: 35872.8164\n",
      "Epoch 111/200\n",
      "\u001b[1m13/13\u001b[0m \u001b[32m━━━━━━━━━━━━━━━━━━━━\u001b[0m\u001b[37m\u001b[0m \u001b[1m0s\u001b[0m 12ms/step - loss: 1566490880.0000 - mean_absolute_error: 32415.0449 - val_loss: 1897265664.0000 - val_mean_absolute_error: 36064.9336\n",
      "Epoch 112/200\n",
      "\u001b[1m13/13\u001b[0m \u001b[32m━━━━━━━━━━━━━━━━━━━━\u001b[0m\u001b[37m\u001b[0m \u001b[1m0s\u001b[0m 11ms/step - loss: 1650484992.0000 - mean_absolute_error: 33501.0977 - val_loss: 2032642304.0000 - val_mean_absolute_error: 36546.7031\n",
      "Epoch 113/200\n",
      "\u001b[1m13/13\u001b[0m \u001b[32m━━━━━━━━━━━━━━━━━━━━\u001b[0m\u001b[37m\u001b[0m \u001b[1m0s\u001b[0m 13ms/step - loss: 1660453120.0000 - mean_absolute_error: 33367.7266 - val_loss: 1916510720.0000 - val_mean_absolute_error: 36370.5117\n",
      "Epoch 114/200\n",
      "\u001b[1m13/13\u001b[0m \u001b[32m━━━━━━━━━━━━━━━━━━━━\u001b[0m\u001b[37m\u001b[0m \u001b[1m0s\u001b[0m 12ms/step - loss: 1605923200.0000 - mean_absolute_error: 33198.2500 - val_loss: 2194615552.0000 - val_mean_absolute_error: 39292.8984\n",
      "Epoch 115/200\n",
      "\u001b[1m13/13\u001b[0m \u001b[32m━━━━━━━━━━━━━━━━━━━━\u001b[0m\u001b[37m\u001b[0m \u001b[1m0s\u001b[0m 11ms/step - loss: 1675821952.0000 - mean_absolute_error: 33752.0391 - val_loss: 1901308928.0000 - val_mean_absolute_error: 35960.8281\n",
      "Epoch 116/200\n",
      "\u001b[1m13/13\u001b[0m \u001b[32m━━━━━━━━━━━━━━━━━━━━\u001b[0m\u001b[37m\u001b[0m \u001b[1m0s\u001b[0m 12ms/step - loss: 1644574208.0000 - mean_absolute_error: 33455.2148 - val_loss: 2079894272.0000 - val_mean_absolute_error: 36452.4141\n",
      "Epoch 117/200\n",
      "\u001b[1m13/13\u001b[0m \u001b[32m━━━━━━━━━━━━━━━━━━━━\u001b[0m\u001b[37m\u001b[0m \u001b[1m0s\u001b[0m 10ms/step - loss: 1555571072.0000 - mean_absolute_error: 32060.5742 - val_loss: 2146578944.0000 - val_mean_absolute_error: 38798.7188\n",
      "Epoch 118/200\n",
      "\u001b[1m13/13\u001b[0m \u001b[32m━━━━━━━━━━━━━━━━━━━━\u001b[0m\u001b[37m\u001b[0m \u001b[1m0s\u001b[0m 11ms/step - loss: 1706800768.0000 - mean_absolute_error: 33933.3320 - val_loss: 2111593472.0000 - val_mean_absolute_error: 37815.2266\n",
      "Epoch 119/200\n",
      "\u001b[1m13/13\u001b[0m \u001b[32m━━━━━━━━━━━━━━━━━━━━\u001b[0m\u001b[37m\u001b[0m \u001b[1m0s\u001b[0m 12ms/step - loss: 1632909568.0000 - mean_absolute_error: 33222.4102 - val_loss: 1897125376.0000 - val_mean_absolute_error: 36200.9766\n",
      "Epoch 120/200\n",
      "\u001b[1m13/13\u001b[0m \u001b[32m━━━━━━━━━━━━━━━━━━━━\u001b[0m\u001b[37m\u001b[0m \u001b[1m0s\u001b[0m 11ms/step - loss: 1443826048.0000 - mean_absolute_error: 31145.5059 - val_loss: 2080399872.0000 - val_mean_absolute_error: 37628.4219\n",
      "Epoch 121/200\n",
      "\u001b[1m13/13\u001b[0m \u001b[32m━━━━━━━━━━━━━━━━━━━━\u001b[0m\u001b[37m\u001b[0m \u001b[1m0s\u001b[0m 12ms/step - loss: 1627894784.0000 - mean_absolute_error: 33053.3242 - val_loss: 1910261632.0000 - val_mean_absolute_error: 35724.1055\n",
      "Epoch 122/200\n",
      "\u001b[1m13/13\u001b[0m \u001b[32m━━━━━━━━━━━━━━━━━━━━\u001b[0m\u001b[37m\u001b[0m \u001b[1m0s\u001b[0m 12ms/step - loss: 1536470400.0000 - mean_absolute_error: 31982.0391 - val_loss: 1864415744.0000 - val_mean_absolute_error: 35755.8086\n",
      "Epoch 123/200\n",
      "\u001b[1m13/13\u001b[0m \u001b[32m━━━━━━━━━━━━━━━━━━━━\u001b[0m\u001b[37m\u001b[0m \u001b[1m0s\u001b[0m 11ms/step - loss: 1663179776.0000 - mean_absolute_error: 32589.6816 - val_loss: 2380059392.0000 - val_mean_absolute_error: 40756.9609\n",
      "Epoch 124/200\n",
      "\u001b[1m13/13\u001b[0m \u001b[32m━━━━━━━━━━━━━━━━━━━━\u001b[0m\u001b[37m\u001b[0m \u001b[1m0s\u001b[0m 12ms/step - loss: 2276071168.0000 - mean_absolute_error: 38776.8008 - val_loss: 2167789312.0000 - val_mean_absolute_error: 39209.3711\n",
      "Epoch 125/200\n",
      "\u001b[1m13/13\u001b[0m \u001b[32m━━━━━━━━━━━━━━━━━━━━\u001b[0m\u001b[37m\u001b[0m \u001b[1m0s\u001b[0m 11ms/step - loss: 1625934080.0000 - mean_absolute_error: 32784.2734 - val_loss: 2363076864.0000 - val_mean_absolute_error: 40240.1953\n",
      "Epoch 126/200\n",
      "\u001b[1m13/13\u001b[0m \u001b[32m━━━━━━━━━━━━━━━━━━━━\u001b[0m\u001b[37m\u001b[0m \u001b[1m0s\u001b[0m 17ms/step - loss: 1622619904.0000 - mean_absolute_error: 32655.7832 - val_loss: 1882717824.0000 - val_mean_absolute_error: 35663.7891\n",
      "Epoch 127/200\n",
      "\u001b[1m13/13\u001b[0m \u001b[32m━━━━━━━━━━━━━━━━━━━━\u001b[0m\u001b[37m\u001b[0m \u001b[1m0s\u001b[0m 12ms/step - loss: 1509830912.0000 - mean_absolute_error: 31452.8203 - val_loss: 1980667392.0000 - val_mean_absolute_error: 36644.2969\n",
      "Epoch 128/200\n",
      "\u001b[1m13/13\u001b[0m \u001b[32m━━━━━━━━━━━━━━━━━━━━\u001b[0m\u001b[37m\u001b[0m \u001b[1m0s\u001b[0m 11ms/step - loss: 1643437056.0000 - mean_absolute_error: 33196.0234 - val_loss: 1897464960.0000 - val_mean_absolute_error: 35994.4961\n",
      "Epoch 129/200\n",
      "\u001b[1m13/13\u001b[0m \u001b[32m━━━━━━━━━━━━━━━━━━━━\u001b[0m\u001b[37m\u001b[0m \u001b[1m0s\u001b[0m 11ms/step - loss: 1546401536.0000 - mean_absolute_error: 32214.5957 - val_loss: 2021750656.0000 - val_mean_absolute_error: 36711.0859\n",
      "Epoch 130/200\n",
      "\u001b[1m13/13\u001b[0m \u001b[32m━━━━━━━━━━━━━━━━━━━━\u001b[0m\u001b[37m\u001b[0m \u001b[1m0s\u001b[0m 12ms/step - loss: 1661058688.0000 - mean_absolute_error: 33462.8047 - val_loss: 1957092352.0000 - val_mean_absolute_error: 35619.6758\n",
      "Epoch 131/200\n",
      "\u001b[1m13/13\u001b[0m \u001b[32m━━━━━━━━━━━━━━━━━━━━\u001b[0m\u001b[37m\u001b[0m \u001b[1m0s\u001b[0m 14ms/step - loss: 1777871360.0000 - mean_absolute_error: 33886.9805 - val_loss: 1964887296.0000 - val_mean_absolute_error: 36804.5195\n",
      "Epoch 132/200\n",
      "\u001b[1m13/13\u001b[0m \u001b[32m━━━━━━━━━━━━━━━━━━━━\u001b[0m\u001b[37m\u001b[0m \u001b[1m0s\u001b[0m 13ms/step - loss: 1714785024.0000 - mean_absolute_error: 33963.1211 - val_loss: 1950276352.0000 - val_mean_absolute_error: 36193.9219\n",
      "Epoch 133/200\n",
      "\u001b[1m13/13\u001b[0m \u001b[32m━━━━━━━━━━━━━━━━━━━━\u001b[0m\u001b[37m\u001b[0m \u001b[1m0s\u001b[0m 12ms/step - loss: 1764470912.0000 - mean_absolute_error: 34633.0039 - val_loss: 1967200128.0000 - val_mean_absolute_error: 36223.7344\n",
      "Epoch 134/200\n",
      "\u001b[1m13/13\u001b[0m \u001b[32m━━━━━━━━━━━━━━━━━━━━\u001b[0m\u001b[37m\u001b[0m \u001b[1m0s\u001b[0m 11ms/step - loss: 1724466560.0000 - mean_absolute_error: 33884.0742 - val_loss: 1907237376.0000 - val_mean_absolute_error: 35587.0391\n",
      "Epoch 135/200\n",
      "\u001b[1m13/13\u001b[0m \u001b[32m━━━━━━━━━━━━━━━━━━━━\u001b[0m\u001b[37m\u001b[0m \u001b[1m0s\u001b[0m 12ms/step - loss: 1683797760.0000 - mean_absolute_error: 33496.4766 - val_loss: 1894876800.0000 - val_mean_absolute_error: 35413.5781\n",
      "Epoch 136/200\n",
      "\u001b[1m13/13\u001b[0m \u001b[32m━━━━━━━━━━━━━━━━━━━━\u001b[0m\u001b[37m\u001b[0m \u001b[1m0s\u001b[0m 15ms/step - loss: 1603971968.0000 - mean_absolute_error: 32825.3242 - val_loss: 2170732800.0000 - val_mean_absolute_error: 38899.0742\n",
      "Epoch 137/200\n",
      "\u001b[1m13/13\u001b[0m \u001b[32m━━━━━━━━━━━━━━━━━━━━\u001b[0m\u001b[37m\u001b[0m \u001b[1m0s\u001b[0m 13ms/step - loss: 1880851456.0000 - mean_absolute_error: 34982.4609 - val_loss: 2199267584.0000 - val_mean_absolute_error: 38469.7031\n",
      "Epoch 138/200\n",
      "\u001b[1m13/13\u001b[0m \u001b[32m━━━━━━━━━━━━━━━━━━━━\u001b[0m\u001b[37m\u001b[0m \u001b[1m0s\u001b[0m 11ms/step - loss: 1784690304.0000 - mean_absolute_error: 34262.4531 - val_loss: 1953017344.0000 - val_mean_absolute_error: 35700.5391\n",
      "Epoch 139/200\n",
      "\u001b[1m13/13\u001b[0m \u001b[32m━━━━━━━━━━━━━━━━━━━━\u001b[0m\u001b[37m\u001b[0m \u001b[1m0s\u001b[0m 12ms/step - loss: 1681629440.0000 - mean_absolute_error: 33365.0625 - val_loss: 1991620992.0000 - val_mean_absolute_error: 36464.4609\n",
      "Epoch 140/200\n",
      "\u001b[1m13/13\u001b[0m \u001b[32m━━━━━━━━━━━━━━━━━━━━\u001b[0m\u001b[37m\u001b[0m \u001b[1m0s\u001b[0m 13ms/step - loss: 1675353088.0000 - mean_absolute_error: 33183.0938 - val_loss: 1988183168.0000 - val_mean_absolute_error: 36263.9414\n",
      "Epoch 141/200\n",
      "\u001b[1m13/13\u001b[0m \u001b[32m━━━━━━━━━━━━━━━━━━━━\u001b[0m\u001b[37m\u001b[0m \u001b[1m0s\u001b[0m 11ms/step - loss: 1676936448.0000 - mean_absolute_error: 33368.1953 - val_loss: 1855645952.0000 - val_mean_absolute_error: 35762.1836\n",
      "Epoch 142/200\n",
      "\u001b[1m13/13\u001b[0m \u001b[32m━━━━━━━━━━━━━━━━━━━━\u001b[0m\u001b[37m\u001b[0m \u001b[1m0s\u001b[0m 13ms/step - loss: 1596315392.0000 - mean_absolute_error: 32505.7305 - val_loss: 1992198528.0000 - val_mean_absolute_error: 36383.1953\n",
      "Epoch 143/200\n",
      "\u001b[1m13/13\u001b[0m \u001b[32m━━━━━━━━━━━━━━━━━━━━\u001b[0m\u001b[37m\u001b[0m \u001b[1m0s\u001b[0m 12ms/step - loss: 1614030208.0000 - mean_absolute_error: 32476.4453 - val_loss: 2119719680.0000 - val_mean_absolute_error: 37557.1406\n",
      "Epoch 144/200\n",
      "\u001b[1m13/13\u001b[0m \u001b[32m━━━━━━━━━━━━━━━━━━━━\u001b[0m\u001b[37m\u001b[0m \u001b[1m0s\u001b[0m 12ms/step - loss: 1823405312.0000 - mean_absolute_error: 34989.0586 - val_loss: 1846054784.0000 - val_mean_absolute_error: 35165.1094\n",
      "Epoch 145/200\n",
      "\u001b[1m13/13\u001b[0m \u001b[32m━━━━━━━━━━━━━━━━━━━━\u001b[0m\u001b[37m\u001b[0m \u001b[1m0s\u001b[0m 12ms/step - loss: 1594078976.0000 - mean_absolute_error: 32739.7148 - val_loss: 2058784896.0000 - val_mean_absolute_error: 36792.4805\n",
      "Epoch 146/200\n",
      "\u001b[1m13/13\u001b[0m \u001b[32m━━━━━━━━━━━━━━━━━━━━\u001b[0m\u001b[37m\u001b[0m \u001b[1m0s\u001b[0m 12ms/step - loss: 1838436352.0000 - mean_absolute_error: 35273.6250 - val_loss: 2078092672.0000 - val_mean_absolute_error: 37308.5078\n",
      "Epoch 147/200\n",
      "\u001b[1m13/13\u001b[0m \u001b[32m━━━━━━━━━━━━━━━━━━━━\u001b[0m\u001b[37m\u001b[0m \u001b[1m0s\u001b[0m 11ms/step - loss: 1797663744.0000 - mean_absolute_error: 34400.6484 - val_loss: 2046180864.0000 - val_mean_absolute_error: 36118.9648\n",
      "Epoch 148/200\n",
      "\u001b[1m13/13\u001b[0m \u001b[32m━━━━━━━━━━━━━━━━━━━━\u001b[0m\u001b[37m\u001b[0m \u001b[1m0s\u001b[0m 14ms/step - loss: 1698107904.0000 - mean_absolute_error: 32921.5742 - val_loss: 2254164480.0000 - val_mean_absolute_error: 38154.2539\n",
      "Epoch 149/200\n",
      "\u001b[1m13/13\u001b[0m \u001b[32m━━━━━━━━━━━━━━━━━━━━\u001b[0m\u001b[37m\u001b[0m \u001b[1m0s\u001b[0m 12ms/step - loss: 2060103424.0000 - mean_absolute_error: 37384.9766 - val_loss: 2011040256.0000 - val_mean_absolute_error: 36410.5195\n",
      "Epoch 150/200\n",
      "\u001b[1m13/13\u001b[0m \u001b[32m━━━━━━━━━━━━━━━━━━━━\u001b[0m\u001b[37m\u001b[0m \u001b[1m0s\u001b[0m 12ms/step - loss: 1950247936.0000 - mean_absolute_error: 36093.8242 - val_loss: 2391049472.0000 - val_mean_absolute_error: 40891.4766\n",
      "Epoch 151/200\n",
      "\u001b[1m13/13\u001b[0m \u001b[32m━━━━━━━━━━━━━━━━━━━━\u001b[0m\u001b[37m\u001b[0m \u001b[1m0s\u001b[0m 14ms/step - loss: 1571779328.0000 - mean_absolute_error: 32404.2832 - val_loss: 1980075648.0000 - val_mean_absolute_error: 36319.2188\n",
      "Epoch 152/200\n",
      "\u001b[1m13/13\u001b[0m \u001b[32m━━━━━━━━━━━━━━━━━━━━\u001b[0m\u001b[37m\u001b[0m \u001b[1m0s\u001b[0m 14ms/step - loss: 1579130496.0000 - mean_absolute_error: 32154.7773 - val_loss: 1864455936.0000 - val_mean_absolute_error: 35947.1914\n",
      "Epoch 153/200\n",
      "\u001b[1m13/13\u001b[0m \u001b[32m━━━━━━━━━━━━━━━━━━━━\u001b[0m\u001b[37m\u001b[0m \u001b[1m0s\u001b[0m 11ms/step - loss: 1483791872.0000 - mean_absolute_error: 31535.9668 - val_loss: 2260067840.0000 - val_mean_absolute_error: 39427.1016\n",
      "Epoch 154/200\n",
      "\u001b[1m13/13\u001b[0m \u001b[32m━━━━━━━━━━━━━━━━━━━━\u001b[0m\u001b[37m\u001b[0m \u001b[1m0s\u001b[0m 11ms/step - loss: 1686203264.0000 - mean_absolute_error: 33465.8906 - val_loss: 1819453696.0000 - val_mean_absolute_error: 35623.9297\n",
      "Epoch 155/200\n",
      "\u001b[1m13/13\u001b[0m \u001b[32m━━━━━━━━━━━━━━━━━━━━\u001b[0m\u001b[37m\u001b[0m \u001b[1m0s\u001b[0m 11ms/step - loss: 1542392832.0000 - mean_absolute_error: 32158.6855 - val_loss: 1974270208.0000 - val_mean_absolute_error: 36284.8281\n",
      "Epoch 156/200\n",
      "\u001b[1m13/13\u001b[0m \u001b[32m━━━━━━━━━━━━━━━━━━━━\u001b[0m\u001b[37m\u001b[0m \u001b[1m0s\u001b[0m 11ms/step - loss: 1690303488.0000 - mean_absolute_error: 33163.5742 - val_loss: 1904214144.0000 - val_mean_absolute_error: 36349.0195\n",
      "Epoch 157/200\n",
      "\u001b[1m13/13\u001b[0m \u001b[32m━━━━━━━━━━━━━━━━━━━━\u001b[0m\u001b[37m\u001b[0m \u001b[1m0s\u001b[0m 24ms/step - loss: 1591683712.0000 - mean_absolute_error: 33023.7656 - val_loss: 1902158336.0000 - val_mean_absolute_error: 35499.6484\n",
      "Epoch 158/200\n",
      "\u001b[1m13/13\u001b[0m \u001b[32m━━━━━━━━━━━━━━━━━━━━\u001b[0m\u001b[37m\u001b[0m \u001b[1m0s\u001b[0m 15ms/step - loss: 1607095808.0000 - mean_absolute_error: 32487.6973 - val_loss: 1900047360.0000 - val_mean_absolute_error: 35468.5352\n",
      "Epoch 159/200\n",
      "\u001b[1m13/13\u001b[0m \u001b[32m━━━━━━━━━━━━━━━━━━━━\u001b[0m\u001b[37m\u001b[0m \u001b[1m0s\u001b[0m 13ms/step - loss: 1589649280.0000 - mean_absolute_error: 32380.4160 - val_loss: 1882907136.0000 - val_mean_absolute_error: 36103.4336\n",
      "Epoch 160/200\n",
      "\u001b[1m13/13\u001b[0m \u001b[32m━━━━━━━━━━━━━━━━━━━━\u001b[0m\u001b[37m\u001b[0m \u001b[1m0s\u001b[0m 16ms/step - loss: 1516330112.0000 - mean_absolute_error: 32092.1660 - val_loss: 2469740800.0000 - val_mean_absolute_error: 39256.3047\n",
      "Epoch 161/200\n",
      "\u001b[1m13/13\u001b[0m \u001b[32m━━━━━━━━━━━━━━━━━━━━\u001b[0m\u001b[37m\u001b[0m \u001b[1m0s\u001b[0m 13ms/step - loss: 1870540800.0000 - mean_absolute_error: 35376.8672 - val_loss: 1889652608.0000 - val_mean_absolute_error: 35985.0508\n",
      "Epoch 162/200\n",
      "\u001b[1m13/13\u001b[0m \u001b[32m━━━━━━━━━━━━━━━━━━━━\u001b[0m\u001b[37m\u001b[0m \u001b[1m0s\u001b[0m 15ms/step - loss: 1567221120.0000 - mean_absolute_error: 32281.8770 - val_loss: 2038407296.0000 - val_mean_absolute_error: 37154.2188\n",
      "Epoch 163/200\n",
      "\u001b[1m13/13\u001b[0m \u001b[32m━━━━━━━━━━━━━━━━━━━━\u001b[0m\u001b[37m\u001b[0m \u001b[1m0s\u001b[0m 13ms/step - loss: 1564426496.0000 - mean_absolute_error: 32516.4258 - val_loss: 2973072128.0000 - val_mean_absolute_error: 45486.6133\n",
      "Epoch 164/200\n",
      "\u001b[1m13/13\u001b[0m \u001b[32m━━━━━━━━━━━━━━━━━━━━\u001b[0m\u001b[37m\u001b[0m \u001b[1m0s\u001b[0m 12ms/step - loss: 2082125440.0000 - mean_absolute_error: 37271.2500 - val_loss: 2984247296.0000 - val_mean_absolute_error: 46033.1562\n",
      "Epoch 165/200\n",
      "\u001b[1m13/13\u001b[0m \u001b[32m━━━━━━━━━━━━━━━━━━━━\u001b[0m\u001b[37m\u001b[0m \u001b[1m0s\u001b[0m 15ms/step - loss: 1921322496.0000 - mean_absolute_error: 35380.5352 - val_loss: 1924627968.0000 - val_mean_absolute_error: 36452.3359\n",
      "Epoch 166/200\n",
      "\u001b[1m13/13\u001b[0m \u001b[32m━━━━━━━━━━━━━━━━━━━━\u001b[0m\u001b[37m\u001b[0m \u001b[1m0s\u001b[0m 12ms/step - loss: 1664198272.0000 - mean_absolute_error: 33415.9922 - val_loss: 1892603520.0000 - val_mean_absolute_error: 35601.8984\n",
      "Epoch 167/200\n",
      "\u001b[1m13/13\u001b[0m \u001b[32m━━━━━━━━━━━━━━━━━━━━\u001b[0m\u001b[37m\u001b[0m \u001b[1m0s\u001b[0m 12ms/step - loss: 1532148736.0000 - mean_absolute_error: 31739.3789 - val_loss: 1891047168.0000 - val_mean_absolute_error: 36146.0391\n",
      "Epoch 168/200\n",
      "\u001b[1m13/13\u001b[0m \u001b[32m━━━━━━━━━━━━━━━━━━━━\u001b[0m\u001b[37m\u001b[0m \u001b[1m0s\u001b[0m 12ms/step - loss: 1560649984.0000 - mean_absolute_error: 32165.0430 - val_loss: 2044561664.0000 - val_mean_absolute_error: 37511.4961\n",
      "Epoch 169/200\n",
      "\u001b[1m13/13\u001b[0m \u001b[32m━━━━━━━━━━━━━━━━━━━━\u001b[0m\u001b[37m\u001b[0m \u001b[1m0s\u001b[0m 11ms/step - loss: 1707143808.0000 - mean_absolute_error: 33554.7656 - val_loss: 2282578688.0000 - val_mean_absolute_error: 40107.3984\n",
      "Epoch 170/200\n",
      "\u001b[1m13/13\u001b[0m \u001b[32m━━━━━━━━━━━━━━━━━━━━\u001b[0m\u001b[37m\u001b[0m \u001b[1m0s\u001b[0m 12ms/step - loss: 1781501312.0000 - mean_absolute_error: 34404.1953 - val_loss: 1962946048.0000 - val_mean_absolute_error: 36349.0664\n",
      "Epoch 171/200\n",
      "\u001b[1m13/13\u001b[0m \u001b[32m━━━━━━━━━━━━━━━━━━━━\u001b[0m\u001b[37m\u001b[0m \u001b[1m0s\u001b[0m 12ms/step - loss: 1631001344.0000 - mean_absolute_error: 32981.4258 - val_loss: 1944584960.0000 - val_mean_absolute_error: 36281.8789\n",
      "Epoch 172/200\n",
      "\u001b[1m13/13\u001b[0m \u001b[32m━━━━━━━━━━━━━━━━━━━━\u001b[0m\u001b[37m\u001b[0m \u001b[1m0s\u001b[0m 12ms/step - loss: 1626345600.0000 - mean_absolute_error: 33031.4609 - val_loss: 2516907264.0000 - val_mean_absolute_error: 41890.5000\n",
      "Epoch 173/200\n",
      "\u001b[1m13/13\u001b[0m \u001b[32m━━━━━━━━━━━━━━━━━━━━\u001b[0m\u001b[37m\u001b[0m \u001b[1m0s\u001b[0m 15ms/step - loss: 1868497408.0000 - mean_absolute_error: 34767.6328 - val_loss: 2435569920.0000 - val_mean_absolute_error: 41236.3320\n",
      "Epoch 174/200\n",
      "\u001b[1m13/13\u001b[0m \u001b[32m━━━━━━━━━━━━━━━━━━━━\u001b[0m\u001b[37m\u001b[0m \u001b[1m0s\u001b[0m 11ms/step - loss: 1812232576.0000 - mean_absolute_error: 34674.4219 - val_loss: 2013174272.0000 - val_mean_absolute_error: 36930.0234\n",
      "Epoch 175/200\n",
      "\u001b[1m13/13\u001b[0m \u001b[32m━━━━━━━━━━━━━━━━━━━━\u001b[0m\u001b[37m\u001b[0m \u001b[1m0s\u001b[0m 14ms/step - loss: 1573180544.0000 - mean_absolute_error: 32109.6914 - val_loss: 1937294464.0000 - val_mean_absolute_error: 36000.8633\n",
      "Epoch 176/200\n",
      "\u001b[1m13/13\u001b[0m \u001b[32m━━━━━━━━━━━━━━━━━━━━\u001b[0m\u001b[37m\u001b[0m \u001b[1m0s\u001b[0m 15ms/step - loss: 1595864832.0000 - mean_absolute_error: 32483.2852 - val_loss: 1950110336.0000 - val_mean_absolute_error: 36564.0625\n",
      "Epoch 177/200\n",
      "\u001b[1m13/13\u001b[0m \u001b[32m━━━━━━━━━━━━━━━━━━━━\u001b[0m\u001b[37m\u001b[0m \u001b[1m0s\u001b[0m 12ms/step - loss: 1563885568.0000 - mean_absolute_error: 32012.7715 - val_loss: 1997701120.0000 - val_mean_absolute_error: 37048.8750\n",
      "Epoch 178/200\n",
      "\u001b[1m13/13\u001b[0m \u001b[32m━━━━━━━━━━━━━━━━━━━━\u001b[0m\u001b[37m\u001b[0m \u001b[1m0s\u001b[0m 12ms/step - loss: 1611462144.0000 - mean_absolute_error: 32939.6875 - val_loss: 2046329856.0000 - val_mean_absolute_error: 36800.5469\n",
      "Epoch 179/200\n",
      "\u001b[1m13/13\u001b[0m \u001b[32m━━━━━━━━━━━━━━━━━━━━\u001b[0m\u001b[37m\u001b[0m \u001b[1m0s\u001b[0m 12ms/step - loss: 1755745024.0000 - mean_absolute_error: 34284.6094 - val_loss: 2297447168.0000 - val_mean_absolute_error: 38108.9336\n",
      "Epoch 180/200\n",
      "\u001b[1m13/13\u001b[0m \u001b[32m━━━━━━━━━━━━━━━━━━━━\u001b[0m\u001b[37m\u001b[0m \u001b[1m0s\u001b[0m 11ms/step - loss: 1853321216.0000 - mean_absolute_error: 35237.1875 - val_loss: 2351826944.0000 - val_mean_absolute_error: 38519.3086\n",
      "Epoch 181/200\n",
      "\u001b[1m13/13\u001b[0m \u001b[32m━━━━━━━━━━━━━━━━━━━━\u001b[0m\u001b[37m\u001b[0m \u001b[1m0s\u001b[0m 15ms/step - loss: 1985664512.0000 - mean_absolute_error: 36326.2266 - val_loss: 2021823744.0000 - val_mean_absolute_error: 37725.8164\n",
      "Epoch 182/200\n",
      "\u001b[1m13/13\u001b[0m \u001b[32m━━━━━━━━━━━━━━━━━━━━\u001b[0m\u001b[37m\u001b[0m \u001b[1m0s\u001b[0m 14ms/step - loss: 1674204160.0000 - mean_absolute_error: 33291.9922 - val_loss: 1944942080.0000 - val_mean_absolute_error: 35976.0000\n",
      "Epoch 183/200\n",
      "\u001b[1m13/13\u001b[0m \u001b[32m━━━━━━━━━━━━━━━━━━━━\u001b[0m\u001b[37m\u001b[0m \u001b[1m0s\u001b[0m 13ms/step - loss: 1784519680.0000 - mean_absolute_error: 34141.1719 - val_loss: 2130821248.0000 - val_mean_absolute_error: 36171.9297\n",
      "Epoch 184/200\n",
      "\u001b[1m13/13\u001b[0m \u001b[32m━━━━━━━━━━━━━━━━━━━━\u001b[0m\u001b[37m\u001b[0m \u001b[1m0s\u001b[0m 13ms/step - loss: 1815556736.0000 - mean_absolute_error: 35250.4727 - val_loss: 1944027264.0000 - val_mean_absolute_error: 36399.0430\n",
      "Epoch 185/200\n",
      "\u001b[1m13/13\u001b[0m \u001b[32m━━━━━━━━━━━━━━━━━━━━\u001b[0m\u001b[37m\u001b[0m \u001b[1m0s\u001b[0m 13ms/step - loss: 2024898560.0000 - mean_absolute_error: 36611.2969 - val_loss: 2080081408.0000 - val_mean_absolute_error: 37390.6055\n",
      "Epoch 186/200\n",
      "\u001b[1m13/13\u001b[0m \u001b[32m━━━━━━━━━━━━━━━━━━━━\u001b[0m\u001b[37m\u001b[0m \u001b[1m0s\u001b[0m 14ms/step - loss: 1754873856.0000 - mean_absolute_error: 34260.2227 - val_loss: 1855335680.0000 - val_mean_absolute_error: 35749.8281\n",
      "Epoch 187/200\n",
      "\u001b[1m13/13\u001b[0m \u001b[32m━━━━━━━━━━━━━━━━━━━━\u001b[0m\u001b[37m\u001b[0m \u001b[1m0s\u001b[0m 12ms/step - loss: 1562199168.0000 - mean_absolute_error: 32416.5996 - val_loss: 2143745536.0000 - val_mean_absolute_error: 38101.5000\n",
      "Epoch 188/200\n",
      "\u001b[1m13/13\u001b[0m \u001b[32m━━━━━━━━━━━━━━━━━━━━\u001b[0m\u001b[37m\u001b[0m \u001b[1m0s\u001b[0m 12ms/step - loss: 1600274432.0000 - mean_absolute_error: 32918.3047 - val_loss: 1940130048.0000 - val_mean_absolute_error: 36256.3086\n",
      "Epoch 189/200\n",
      "\u001b[1m13/13\u001b[0m \u001b[32m━━━━━━━━━━━━━━━━━━━━\u001b[0m\u001b[37m\u001b[0m \u001b[1m0s\u001b[0m 12ms/step - loss: 1605810432.0000 - mean_absolute_error: 32630.8730 - val_loss: 1930582144.0000 - val_mean_absolute_error: 35640.7852\n",
      "Epoch 190/200\n",
      "\u001b[1m13/13\u001b[0m \u001b[32m━━━━━━━━━━━━━━━━━━━━\u001b[0m\u001b[37m\u001b[0m \u001b[1m0s\u001b[0m 12ms/step - loss: 1678867584.0000 - mean_absolute_error: 34047.8516 - val_loss: 2005270912.0000 - val_mean_absolute_error: 36294.9961\n",
      "Epoch 191/200\n",
      "\u001b[1m13/13\u001b[0m \u001b[32m━━━━━━━━━━━━━━━━━━━━\u001b[0m\u001b[37m\u001b[0m \u001b[1m0s\u001b[0m 11ms/step - loss: 1710295040.0000 - mean_absolute_error: 34014.0859 - val_loss: 1978439168.0000 - val_mean_absolute_error: 36216.3477\n",
      "Epoch 192/200\n",
      "\u001b[1m13/13\u001b[0m \u001b[32m━━━━━━━━━━━━━━━━━━━━\u001b[0m\u001b[37m\u001b[0m \u001b[1m0s\u001b[0m 17ms/step - loss: 1703536000.0000 - mean_absolute_error: 33442.4883 - val_loss: 2083712256.0000 - val_mean_absolute_error: 37342.6914\n",
      "Epoch 193/200\n",
      "\u001b[1m13/13\u001b[0m \u001b[32m━━━━━━━━━━━━━━━━━━━━\u001b[0m\u001b[37m\u001b[0m \u001b[1m0s\u001b[0m 12ms/step - loss: 1729918720.0000 - mean_absolute_error: 34120.3086 - val_loss: 1891562624.0000 - val_mean_absolute_error: 36635.3242\n",
      "Epoch 194/200\n",
      "\u001b[1m13/13\u001b[0m \u001b[32m━━━━━━━━━━━━━━━━━━━━\u001b[0m\u001b[37m\u001b[0m \u001b[1m0s\u001b[0m 12ms/step - loss: 1723666560.0000 - mean_absolute_error: 33840.9414 - val_loss: 1878881792.0000 - val_mean_absolute_error: 35197.6641\n",
      "Epoch 195/200\n",
      "\u001b[1m13/13\u001b[0m \u001b[32m━━━━━━━━━━━━━━━━━━━━\u001b[0m\u001b[37m\u001b[0m \u001b[1m0s\u001b[0m 11ms/step - loss: 1506418944.0000 - mean_absolute_error: 31761.7402 - val_loss: 1999593088.0000 - val_mean_absolute_error: 36479.2461\n",
      "Epoch 196/200\n",
      "\u001b[1m13/13\u001b[0m \u001b[32m━━━━━━━━━━━━━━━━━━━━\u001b[0m\u001b[37m\u001b[0m \u001b[1m0s\u001b[0m 12ms/step - loss: 1622789888.0000 - mean_absolute_error: 32769.9844 - val_loss: 1830112768.0000 - val_mean_absolute_error: 35533.5938\n",
      "Epoch 197/200\n",
      "\u001b[1m13/13\u001b[0m \u001b[32m━━━━━━━━━━━━━━━━━━━━\u001b[0m\u001b[37m\u001b[0m \u001b[1m0s\u001b[0m 12ms/step - loss: 1551294080.0000 - mean_absolute_error: 32353.2891 - val_loss: 2027731328.0000 - val_mean_absolute_error: 37457.5312\n",
      "Epoch 198/200\n",
      "\u001b[1m13/13\u001b[0m \u001b[32m━━━━━━━━━━━━━━━━━━━━\u001b[0m\u001b[37m\u001b[0m \u001b[1m0s\u001b[0m 13ms/step - loss: 1741935488.0000 - mean_absolute_error: 34268.8672 - val_loss: 1937095168.0000 - val_mean_absolute_error: 36326.0391\n",
      "Epoch 199/200\n",
      "\u001b[1m13/13\u001b[0m \u001b[32m━━━━━━━━━━━━━━━━━━━━\u001b[0m\u001b[37m\u001b[0m \u001b[1m0s\u001b[0m 12ms/step - loss: 1569635456.0000 - mean_absolute_error: 32113.9707 - val_loss: 1912482304.0000 - val_mean_absolute_error: 36329.6445\n",
      "Epoch 200/200\n",
      "\u001b[1m13/13\u001b[0m \u001b[32m━━━━━━━━━━━━━━━━━━━━\u001b[0m\u001b[37m\u001b[0m \u001b[1m0s\u001b[0m 12ms/step - loss: 1732772608.0000 - mean_absolute_error: 34301.7109 - val_loss: 2048810368.0000 - val_mean_absolute_error: 37647.8164\n"
     ]
    }
   ],
   "source": [
    "history = model.fit(x_train,y_train,validation_data=(x_val,y_val),batch_size=64,epochs=200,verbose=1)"
   ]
  },
  {
   "cell_type": "code",
   "execution_count": 236,
   "id": "d29c6742",
   "metadata": {},
   "outputs": [
    {
     "data": {
      "image/png": "[encoded data removed]",
      "text/plain": [
       "<Figure size 640x480 with 1 Axes>"
      ]
     },
     "metadata": {},
     "output_type": "display_data"
    },
    {
     "data": {
      "image/png": "[encoded data removed]",
      "text/plain": [
       "<Figure size 640x480 with 1 Axes>"
      ]
     },
     "metadata": {},
     "output_type": "display_data"
    }
   ],
   "source": [
    "plt.plot(history.history[\"loss\"])\n",
    "plt.legend([\"Loss\"])\n",
    "plt.show()\n",
    "\n",
    "plt.plot(history.history[\"mean_absolute_error\"])\n",
    "plt.plot(history.history[\"val_mean_absolute_error\"])\n",
    "plt.legend([\"Train\",\"MAE\"])\n",
    "plt.show()"
   ]
  },
  {
   "cell_type": "code",
   "execution_count": 237,
   "id": "2d03d97d",
   "metadata": {},
   "outputs": [
    {
     "name": "stdout",
     "output_type": "stream",
     "text": [
      "\u001b[1m4/4\u001b[0m \u001b[32m━━━━━━━━━━━━━━━━━━━━\u001b[0m\u001b[37m\u001b[0m \u001b[1m0s\u001b[0m 11ms/step - loss: 2303680768.0000 - mean_absolute_error: 40426.4609\n",
      "[2405018624.0, 41094.75390625]\n"
     ]
    }
   ],
   "source": [
    "print(model.evaluate(x_test,y_test))"
   ]
  },
  {
   "cell_type": "code",
   "execution_count": 238,
   "id": "dfff097d",
   "metadata": {},
   "outputs": [
    {
     "name": "stdout",
     "output_type": "stream",
     "text": [
      "\u001b[1m4/4\u001b[0m \u001b[32m━━━━━━━━━━━━━━━━━━━━\u001b[0m\u001b[37m\u001b[0m \u001b[1m0s\u001b[0m 33ms/step\n",
      "[230527.58] tf.Tensor(275670.0, shape=(), dtype=float32)\n"
     ]
    }
   ],
   "source": [
    "y_predicted = model.predict(x_test)\n",
    "print(y_predicted[1],y_test[1])"
   ]
  }
 ],
 "metadata": {
  "kernelspec": {
   "display_name": "project",
   "language": "python",
   "name": "python3"
  },
  "language_info": {
   "codemirror_mode": {
    "name": "ipython",
    "version": 3
   },
   "file_extension": ".py",
   "mimetype": "text/x-python",
   "name": "python",
   "nbconvert_exporter": "python",
   "pygments_lexer": "ipython3",
   "version": "3.11.11"
  }
 },
 "nbformat": 4,
 "nbformat_minor": 5
}
